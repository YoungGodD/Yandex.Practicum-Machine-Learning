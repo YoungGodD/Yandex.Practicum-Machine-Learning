{
 "cells": [
  {
   "cell_type": "markdown",
   "metadata": {
    "toc": true
   },
   "source": [
    "<h1>Содержание<span class=\"tocSkip\"></span></h1>\n",
    "<span><a href=\"#Подготовка-данных\" data-toc-modified-id=\"Подготовка-данных-2\"><span class=\"toc-item-num\">2&nbsp;&nbsp;</span>Подготовка данных</a></span><ul class=\"toc-item\"><li><span><a href=\"#Описание-данных\" data-toc-modified-id=\"Описание-данных-2.1\"><span class=\"toc-item-num\">2.1&nbsp;&nbsp;</span>Описание данных</a></span></li><li><span><a href=\"#Импорт-библиотек\" data-toc-modified-id=\"Импорт-библиотек-2.2\"><span class=\"toc-item-num\">2.2&nbsp;&nbsp;</span>Импорт библиотек</a></span></li><li><span><a href=\"#Изучение-данных\" data-toc-modified-id=\"Изучение-данных-2.3\"><span class=\"toc-item-num\">2.3&nbsp;&nbsp;</span>Изучение данных</a></span></li><li><span><a href=\"#Вычисление-MAE\" data-toc-modified-id=\"Вычисление-MAE-2.4\"><span class=\"toc-item-num\">2.4&nbsp;&nbsp;</span>Вычисление MAE</a></span></li><li><span><a href=\"#Признаки,-не-вошедшие-в-df_test\" data-toc-modified-id=\"Признаки,-не-вошедшие-в-df_test-2.5\"><span class=\"toc-item-num\">2.5&nbsp;&nbsp;</span>Признаки, не вошедшие в df_test</a></span></li><li><span><a href=\"#Предобработка-данных\" data-toc-modified-id=\"Предобработка-данных-2.6\"><span class=\"toc-item-num\">2.6&nbsp;&nbsp;</span>Предобработка данных</a></span></li></ul></li><li><span><a href=\"#Анализ-данных\" data-toc-modified-id=\"Анализ-данных-3\"><span class=\"toc-item-num\">3&nbsp;&nbsp;</span>Анализ данных</a></span><ul class=\"toc-item\"><li><span><a href=\"#Концентрация-металлов\" data-toc-modified-id=\"Концентрация-металлов-3.1\"><span class=\"toc-item-num\">3.1&nbsp;&nbsp;</span>Концентрация металлов</a></span><ul class=\"toc-item\"><li><span><a href=\"#Концентрация-AG\" data-toc-modified-id=\"Концентрация-AG-3.1.1\"><span class=\"toc-item-num\">3.1.1&nbsp;&nbsp;</span>Концентрация AG</a></span></li><li><span><a href=\"#Концентрация-AU\" data-toc-modified-id=\"Концентрация-AU-3.1.2\"><span class=\"toc-item-num\">3.1.2&nbsp;&nbsp;</span>Концентрация AU</a></span></li><li><span><a href=\"#Концентрация-PB\" data-toc-modified-id=\"Концентрация-PB-3.1.3\"><span class=\"toc-item-num\">3.1.3&nbsp;&nbsp;</span>Концентрация PB</a></span></li></ul></li><li><span><a href=\"#Распределение-размера-гранул-сырья\" data-toc-modified-id=\"Распределение-размера-гранул-сырья-3.2\"><span class=\"toc-item-num\">3.2&nbsp;&nbsp;</span>Распределение размера гранул сырья</a></span></li><li><span><a href=\"#Суммарная-концентрация-всех-веществ\" data-toc-modified-id=\"Суммарная-концентрация-всех-веществ-3.3\"><span class=\"toc-item-num\">3.3&nbsp;&nbsp;</span>Суммарная концентрация всех веществ</a></span></li></ul></li><li><span><a href=\"#Модель\" data-toc-modified-id=\"Модель-4\"><span class=\"toc-item-num\">4&nbsp;&nbsp;</span>Модель</a></span><ul class=\"toc-item\"><li><span><a href=\"#Вычисление-sMAPE\" data-toc-modified-id=\"Вычисление-sMAPE-4.1\"><span class=\"toc-item-num\">4.1&nbsp;&nbsp;</span>Вычисление sMAPE</a></span></li><li><span><a href=\"#Обучение-моделей\" data-toc-modified-id=\"Обучение-моделей-4.2\"><span class=\"toc-item-num\">4.2&nbsp;&nbsp;</span>Обучение моделей</a></span><ul class=\"toc-item\"><li><span><a href=\"#Древо-решений\" data-toc-modified-id=\"Древо-решений-4.2.1\"><span class=\"toc-item-num\">4.2.1&nbsp;&nbsp;</span>Древо решений</a></span></li><li><span><a href=\"#Случайный-лес\" data-toc-modified-id=\"Случайный-лес-4.2.2\"><span class=\"toc-item-num\">4.2.2&nbsp;&nbsp;</span>Случайный лес</a></span></li><li><span><a href=\"#Линейная-регрессия\" data-toc-modified-id=\"Линейная-регрессия-4.2.3\"><span class=\"toc-item-num\">4.2.3&nbsp;&nbsp;</span>Линейная регрессия</a></span></li><li><span><a href=\"#Лучшая-модель\" data-toc-modified-id=\"Лучшая-модель-4.2.4\"><span class=\"toc-item-num\">4.2.4&nbsp;&nbsp;</span>Лучшая модель</a></span></li></ul></li></ul></li><li><span><a href=\"#Чек-лист-готовности-проекта\" data-toc-modified-id=\"Чек-лист-готовности-проекта-5\"><span class=\"toc-item-num\">5&nbsp;&nbsp;</span>Чек-лист готовности проекта</a></span></li></ul></div>"
   ]
  },
  {
   "cell_type": "markdown",
   "metadata": {},
   "source": [
    "# Восстановление золота из руды"
   ]
  },
  {
   "cell_type": "markdown",
   "metadata": {},
   "source": [
    "Подготовьте прототип модели машинного обучения для «Цифры». Компания разрабатывает решения для эффективной работы промышленных предприятий.\n",
    "\n",
    "Модель должна предсказать коэффициент восстановления золота из золотосодержащей руды. Используйте данные с параметрами добычи и очистки. \n",
    "\n",
    "Модель поможет оптимизировать производство, чтобы не запускать предприятие с убыточными характеристиками.\n",
    "\n",
    "Вам нужно:\n",
    "\n",
    "1. Подготовить данные;\n",
    "2. Провести исследовательский анализ данных;\n",
    "3. Построить и обучить модель.\n",
    "\n",
    "Чтобы выполнить проект, обращайтесь к библиотекам *pandas*, *matplotlib* и *sklearn.* Вам поможет их документация."
   ]
  },
  {
   "cell_type": "markdown",
   "metadata": {},
   "source": [
    "## Подготовка данных"
   ]
  },
  {
   "cell_type": "markdown",
   "metadata": {},
   "source": [
    "### Описание данных"
   ]
  },
  {
   "cell_type": "markdown",
   "metadata": {},
   "source": [
    "<b>Технологический процесс</b><br><br>\n",
    "<li>Rougher feed — исходное сырье</li>\n",
    "<li>Rougher additions (или reagent additions) — флотационные реагенты: Xanthate, Sulphate, Depressant</li>\n",
    "<li>Xanthate **— ксантогенат (промотер, или активатор флотации);</li>\n",
    "<li>Sulphate — сульфат (на данном производстве сульфид натрия);</li>\n",
    "<li>Depressant — депрессант (силикат натрия).</li>\n",
    "<li>Rougher process (англ. «грубый процесс») — флотация</li>\n",
    "<li>Rougher tails — отвальные хвосты</li>\n",
    "<li>Float banks — флотационная установка</li>\n",
    "<li>Cleaner process — очистка</li>\n",
    "<li>Rougher Au — черновой концентрат золота</li>\n",
    "<li>Final Au — финальный концентрат золота</li><br>\n",
    "\n",
    "<b>Параметры этапов</b><br><br>\n",
    "<li>air amount — объём воздуха</li>\n",
    "<li>fluid levels — уровень жидкости</li>\n",
    "<li>feed size — размер гранул сырья</li>\n",
    "<li>feed rate — скорость подачи</li><br><br>\n",
    "\n",
    "<b>Наименование признаков выглядит так:</b><br><br>\n",
    "[этап].[тип_параметра].[название_параметра]<br><br>\n",
    "\n",
    "<b>Возможные значения для блока [этап]:</b><br><br>\n",
    "<li>rougher — флотация</li>\n",
    "<li>primary_cleaner — первичная очистка</li>\n",
    "<li>secondary_cleaner — вторичная очистка</li>\n",
    "<li>final — финальные характеристики</li><br>\n",
    "\n",
    "<b>Возможные значения для блока [тип_параметра]:</b><br><br>\n",
    "<li>input — параметры сырья</li>\n",
    "<li>output — параметры продукта</li>\n",
    "<li>state — параметры, характеризующие текущее состояние этапа</li>\n",
    "<li>calculation — расчётные характеристики</li>"
   ]
  },
  {
   "cell_type": "markdown",
   "metadata": {},
   "source": [
    "### Импорт библиотек"
   ]
  },
  {
   "cell_type": "code",
   "execution_count": 1,
   "metadata": {},
   "outputs": [],
   "source": [
    "import pandas as pd\n",
    "import numpy as np\n",
    "import matplotlib.pyplot as plt\n",
    "import warnings"
   ]
  },
  {
   "cell_type": "code",
   "execution_count": 2,
   "metadata": {},
   "outputs": [],
   "source": [
    "from sklearn.metrics import mean_absolute_error\n",
    "from sklearn.metrics import make_scorer\n",
    "from sklearn.model_selection import train_test_split as tts\n",
    "from sklearn.model_selection import cross_val_score\n",
    "from sklearn.preprocessing import StandardScaler\n",
    "from sklearn.model_selection import GridSearchCV"
   ]
  },
  {
   "cell_type": "code",
   "execution_count": 3,
   "metadata": {},
   "outputs": [],
   "source": [
    "from sklearn.tree import DecisionTreeRegressor\n",
    "from sklearn.ensemble import RandomForestRegressor\n",
    "from sklearn.linear_model import LinearRegression"
   ]
  },
  {
   "cell_type": "markdown",
   "metadata": {},
   "source": [
    "### Изучение данных"
   ]
  },
  {
   "cell_type": "code",
   "execution_count": 4,
   "metadata": {},
   "outputs": [],
   "source": [
    "warnings.filterwarnings('ignore')"
   ]
  },
  {
   "cell_type": "code",
   "execution_count": 5,
   "metadata": {},
   "outputs": [],
   "source": [
    "df_train = pd.read_csv('/datasets/gold_recovery_train_new.csv')\n",
    "df_test = pd.read_csv('/datasets/gold_recovery_test_new.csv')\n",
    "df_full = pd.read_csv('/datasets/gold_recovery_full_new.csv')"
   ]
  },
  {
   "cell_type": "code",
   "execution_count": 6,
   "metadata": {
    "scrolled": true
   },
   "outputs": [
    {
     "data": {
      "text/html": [
       "<div>\n",
       "<style scoped>\n",
       "    .dataframe tbody tr th:only-of-type {\n",
       "        vertical-align: middle;\n",
       "    }\n",
       "\n",
       "    .dataframe tbody tr th {\n",
       "        vertical-align: top;\n",
       "    }\n",
       "\n",
       "    .dataframe thead th {\n",
       "        text-align: right;\n",
       "    }\n",
       "</style>\n",
       "<table border=\"1\" class=\"dataframe\">\n",
       "  <thead>\n",
       "    <tr style=\"text-align: right;\">\n",
       "      <th></th>\n",
       "      <th>date</th>\n",
       "      <th>final.output.concentrate_ag</th>\n",
       "      <th>final.output.concentrate_pb</th>\n",
       "      <th>final.output.concentrate_sol</th>\n",
       "      <th>final.output.concentrate_au</th>\n",
       "      <th>final.output.recovery</th>\n",
       "      <th>final.output.tail_ag</th>\n",
       "      <th>final.output.tail_pb</th>\n",
       "      <th>final.output.tail_sol</th>\n",
       "      <th>final.output.tail_au</th>\n",
       "      <th>...</th>\n",
       "      <th>secondary_cleaner.state.floatbank4_a_air</th>\n",
       "      <th>secondary_cleaner.state.floatbank4_a_level</th>\n",
       "      <th>secondary_cleaner.state.floatbank4_b_air</th>\n",
       "      <th>secondary_cleaner.state.floatbank4_b_level</th>\n",
       "      <th>secondary_cleaner.state.floatbank5_a_air</th>\n",
       "      <th>secondary_cleaner.state.floatbank5_a_level</th>\n",
       "      <th>secondary_cleaner.state.floatbank5_b_air</th>\n",
       "      <th>secondary_cleaner.state.floatbank5_b_level</th>\n",
       "      <th>secondary_cleaner.state.floatbank6_a_air</th>\n",
       "      <th>secondary_cleaner.state.floatbank6_a_level</th>\n",
       "    </tr>\n",
       "  </thead>\n",
       "  <tbody>\n",
       "    <tr>\n",
       "      <th>0</th>\n",
       "      <td>2016-01-15 00:00:00</td>\n",
       "      <td>6.055403</td>\n",
       "      <td>9.889648</td>\n",
       "      <td>5.507324</td>\n",
       "      <td>42.192020</td>\n",
       "      <td>70.541216</td>\n",
       "      <td>10.411962</td>\n",
       "      <td>0.895447</td>\n",
       "      <td>16.904297</td>\n",
       "      <td>2.143149</td>\n",
       "      <td>...</td>\n",
       "      <td>14.016835</td>\n",
       "      <td>-502.488007</td>\n",
       "      <td>12.099931</td>\n",
       "      <td>-504.715942</td>\n",
       "      <td>9.925633</td>\n",
       "      <td>-498.310211</td>\n",
       "      <td>8.079666</td>\n",
       "      <td>-500.470978</td>\n",
       "      <td>14.151341</td>\n",
       "      <td>-605.841980</td>\n",
       "    </tr>\n",
       "    <tr>\n",
       "      <th>1</th>\n",
       "      <td>2016-01-15 01:00:00</td>\n",
       "      <td>6.029369</td>\n",
       "      <td>9.968944</td>\n",
       "      <td>5.257781</td>\n",
       "      <td>42.701629</td>\n",
       "      <td>69.266198</td>\n",
       "      <td>10.462676</td>\n",
       "      <td>0.927452</td>\n",
       "      <td>16.634514</td>\n",
       "      <td>2.224930</td>\n",
       "      <td>...</td>\n",
       "      <td>13.992281</td>\n",
       "      <td>-505.503262</td>\n",
       "      <td>11.950531</td>\n",
       "      <td>-501.331529</td>\n",
       "      <td>10.039245</td>\n",
       "      <td>-500.169983</td>\n",
       "      <td>7.984757</td>\n",
       "      <td>-500.582168</td>\n",
       "      <td>13.998353</td>\n",
       "      <td>-599.787184</td>\n",
       "    </tr>\n",
       "    <tr>\n",
       "      <th>2</th>\n",
       "      <td>2016-01-15 02:00:00</td>\n",
       "      <td>6.055926</td>\n",
       "      <td>10.213995</td>\n",
       "      <td>5.383759</td>\n",
       "      <td>42.657501</td>\n",
       "      <td>68.116445</td>\n",
       "      <td>10.507046</td>\n",
       "      <td>0.953716</td>\n",
       "      <td>16.208849</td>\n",
       "      <td>2.257889</td>\n",
       "      <td>...</td>\n",
       "      <td>14.015015</td>\n",
       "      <td>-502.520901</td>\n",
       "      <td>11.912783</td>\n",
       "      <td>-501.133383</td>\n",
       "      <td>10.070913</td>\n",
       "      <td>-500.129135</td>\n",
       "      <td>8.013877</td>\n",
       "      <td>-500.517572</td>\n",
       "      <td>14.028663</td>\n",
       "      <td>-601.427363</td>\n",
       "    </tr>\n",
       "    <tr>\n",
       "      <th>3</th>\n",
       "      <td>2016-01-15 03:00:00</td>\n",
       "      <td>6.047977</td>\n",
       "      <td>9.977019</td>\n",
       "      <td>4.858634</td>\n",
       "      <td>42.689819</td>\n",
       "      <td>68.347543</td>\n",
       "      <td>10.422762</td>\n",
       "      <td>0.883763</td>\n",
       "      <td>16.532835</td>\n",
       "      <td>2.146849</td>\n",
       "      <td>...</td>\n",
       "      <td>14.036510</td>\n",
       "      <td>-500.857308</td>\n",
       "      <td>11.999550</td>\n",
       "      <td>-501.193686</td>\n",
       "      <td>9.970366</td>\n",
       "      <td>-499.201640</td>\n",
       "      <td>7.977324</td>\n",
       "      <td>-500.255908</td>\n",
       "      <td>14.005551</td>\n",
       "      <td>-599.996129</td>\n",
       "    </tr>\n",
       "    <tr>\n",
       "      <th>4</th>\n",
       "      <td>2016-01-15 04:00:00</td>\n",
       "      <td>6.148599</td>\n",
       "      <td>10.142511</td>\n",
       "      <td>4.939416</td>\n",
       "      <td>42.774141</td>\n",
       "      <td>66.927016</td>\n",
       "      <td>10.360302</td>\n",
       "      <td>0.792826</td>\n",
       "      <td>16.525686</td>\n",
       "      <td>2.055292</td>\n",
       "      <td>...</td>\n",
       "      <td>14.027298</td>\n",
       "      <td>-499.838632</td>\n",
       "      <td>11.953070</td>\n",
       "      <td>-501.053894</td>\n",
       "      <td>9.925709</td>\n",
       "      <td>-501.686727</td>\n",
       "      <td>7.894242</td>\n",
       "      <td>-500.356035</td>\n",
       "      <td>13.996647</td>\n",
       "      <td>-601.496691</td>\n",
       "    </tr>\n",
       "    <tr>\n",
       "      <th>...</th>\n",
       "      <td>...</td>\n",
       "      <td>...</td>\n",
       "      <td>...</td>\n",
       "      <td>...</td>\n",
       "      <td>...</td>\n",
       "      <td>...</td>\n",
       "      <td>...</td>\n",
       "      <td>...</td>\n",
       "      <td>...</td>\n",
       "      <td>...</td>\n",
       "      <td>...</td>\n",
       "      <td>...</td>\n",
       "      <td>...</td>\n",
       "      <td>...</td>\n",
       "      <td>...</td>\n",
       "      <td>...</td>\n",
       "      <td>...</td>\n",
       "      <td>...</td>\n",
       "      <td>...</td>\n",
       "      <td>...</td>\n",
       "      <td>...</td>\n",
       "    </tr>\n",
       "    <tr>\n",
       "      <th>14144</th>\n",
       "      <td>2018-08-18 06:59:59</td>\n",
       "      <td>3.224920</td>\n",
       "      <td>11.356233</td>\n",
       "      <td>6.803482</td>\n",
       "      <td>46.713954</td>\n",
       "      <td>73.755150</td>\n",
       "      <td>8.769645</td>\n",
       "      <td>3.141541</td>\n",
       "      <td>10.403181</td>\n",
       "      <td>1.529220</td>\n",
       "      <td>...</td>\n",
       "      <td>23.031497</td>\n",
       "      <td>-501.167942</td>\n",
       "      <td>20.007571</td>\n",
       "      <td>-499.740028</td>\n",
       "      <td>18.006038</td>\n",
       "      <td>-499.834374</td>\n",
       "      <td>13.001114</td>\n",
       "      <td>-500.155694</td>\n",
       "      <td>20.007840</td>\n",
       "      <td>-501.296428</td>\n",
       "    </tr>\n",
       "    <tr>\n",
       "      <th>14145</th>\n",
       "      <td>2018-08-18 07:59:59</td>\n",
       "      <td>3.195978</td>\n",
       "      <td>11.349355</td>\n",
       "      <td>6.862249</td>\n",
       "      <td>46.866780</td>\n",
       "      <td>69.049291</td>\n",
       "      <td>8.897321</td>\n",
       "      <td>3.130493</td>\n",
       "      <td>10.549470</td>\n",
       "      <td>1.612542</td>\n",
       "      <td>...</td>\n",
       "      <td>22.960095</td>\n",
       "      <td>-501.612783</td>\n",
       "      <td>20.035660</td>\n",
       "      <td>-500.251357</td>\n",
       "      <td>17.998535</td>\n",
       "      <td>-500.395178</td>\n",
       "      <td>12.954048</td>\n",
       "      <td>-499.895163</td>\n",
       "      <td>19.968498</td>\n",
       "      <td>-501.041608</td>\n",
       "    </tr>\n",
       "    <tr>\n",
       "      <th>14146</th>\n",
       "      <td>2018-08-18 08:59:59</td>\n",
       "      <td>3.109998</td>\n",
       "      <td>11.434366</td>\n",
       "      <td>6.886013</td>\n",
       "      <td>46.795691</td>\n",
       "      <td>67.002189</td>\n",
       "      <td>8.529606</td>\n",
       "      <td>2.911418</td>\n",
       "      <td>11.115147</td>\n",
       "      <td>1.596616</td>\n",
       "      <td>...</td>\n",
       "      <td>23.015718</td>\n",
       "      <td>-501.711599</td>\n",
       "      <td>19.951231</td>\n",
       "      <td>-499.857027</td>\n",
       "      <td>18.019543</td>\n",
       "      <td>-500.451156</td>\n",
       "      <td>13.023431</td>\n",
       "      <td>-499.914391</td>\n",
       "      <td>19.990885</td>\n",
       "      <td>-501.518452</td>\n",
       "    </tr>\n",
       "    <tr>\n",
       "      <th>14147</th>\n",
       "      <td>2018-08-18 09:59:59</td>\n",
       "      <td>3.367241</td>\n",
       "      <td>11.625587</td>\n",
       "      <td>6.799433</td>\n",
       "      <td>46.408188</td>\n",
       "      <td>65.523246</td>\n",
       "      <td>8.777171</td>\n",
       "      <td>2.819214</td>\n",
       "      <td>10.463847</td>\n",
       "      <td>1.602879</td>\n",
       "      <td>...</td>\n",
       "      <td>23.024963</td>\n",
       "      <td>-501.153409</td>\n",
       "      <td>20.054122</td>\n",
       "      <td>-500.314711</td>\n",
       "      <td>17.979515</td>\n",
       "      <td>-499.272871</td>\n",
       "      <td>12.992404</td>\n",
       "      <td>-499.976268</td>\n",
       "      <td>20.013986</td>\n",
       "      <td>-500.625471</td>\n",
       "    </tr>\n",
       "    <tr>\n",
       "      <th>14148</th>\n",
       "      <td>2018-08-18 10:59:59</td>\n",
       "      <td>3.598375</td>\n",
       "      <td>11.737832</td>\n",
       "      <td>6.717509</td>\n",
       "      <td>46.299438</td>\n",
       "      <td>70.281454</td>\n",
       "      <td>8.406690</td>\n",
       "      <td>2.517518</td>\n",
       "      <td>10.652193</td>\n",
       "      <td>1.389434</td>\n",
       "      <td>...</td>\n",
       "      <td>23.018622</td>\n",
       "      <td>-500.492702</td>\n",
       "      <td>20.020205</td>\n",
       "      <td>-500.220296</td>\n",
       "      <td>17.963512</td>\n",
       "      <td>-499.939490</td>\n",
       "      <td>12.990306</td>\n",
       "      <td>-500.080993</td>\n",
       "      <td>19.990336</td>\n",
       "      <td>-499.191575</td>\n",
       "    </tr>\n",
       "  </tbody>\n",
       "</table>\n",
       "<p>14149 rows × 87 columns</p>\n",
       "</div>"
      ],
      "text/plain": [
       "                      date  final.output.concentrate_ag  \\\n",
       "0      2016-01-15 00:00:00                     6.055403   \n",
       "1      2016-01-15 01:00:00                     6.029369   \n",
       "2      2016-01-15 02:00:00                     6.055926   \n",
       "3      2016-01-15 03:00:00                     6.047977   \n",
       "4      2016-01-15 04:00:00                     6.148599   \n",
       "...                    ...                          ...   \n",
       "14144  2018-08-18 06:59:59                     3.224920   \n",
       "14145  2018-08-18 07:59:59                     3.195978   \n",
       "14146  2018-08-18 08:59:59                     3.109998   \n",
       "14147  2018-08-18 09:59:59                     3.367241   \n",
       "14148  2018-08-18 10:59:59                     3.598375   \n",
       "\n",
       "       final.output.concentrate_pb  final.output.concentrate_sol  \\\n",
       "0                         9.889648                      5.507324   \n",
       "1                         9.968944                      5.257781   \n",
       "2                        10.213995                      5.383759   \n",
       "3                         9.977019                      4.858634   \n",
       "4                        10.142511                      4.939416   \n",
       "...                            ...                           ...   \n",
       "14144                    11.356233                      6.803482   \n",
       "14145                    11.349355                      6.862249   \n",
       "14146                    11.434366                      6.886013   \n",
       "14147                    11.625587                      6.799433   \n",
       "14148                    11.737832                      6.717509   \n",
       "\n",
       "       final.output.concentrate_au  final.output.recovery  \\\n",
       "0                        42.192020              70.541216   \n",
       "1                        42.701629              69.266198   \n",
       "2                        42.657501              68.116445   \n",
       "3                        42.689819              68.347543   \n",
       "4                        42.774141              66.927016   \n",
       "...                            ...                    ...   \n",
       "14144                    46.713954              73.755150   \n",
       "14145                    46.866780              69.049291   \n",
       "14146                    46.795691              67.002189   \n",
       "14147                    46.408188              65.523246   \n",
       "14148                    46.299438              70.281454   \n",
       "\n",
       "       final.output.tail_ag  final.output.tail_pb  final.output.tail_sol  \\\n",
       "0                 10.411962              0.895447              16.904297   \n",
       "1                 10.462676              0.927452              16.634514   \n",
       "2                 10.507046              0.953716              16.208849   \n",
       "3                 10.422762              0.883763              16.532835   \n",
       "4                 10.360302              0.792826              16.525686   \n",
       "...                     ...                   ...                    ...   \n",
       "14144              8.769645              3.141541              10.403181   \n",
       "14145              8.897321              3.130493              10.549470   \n",
       "14146              8.529606              2.911418              11.115147   \n",
       "14147              8.777171              2.819214              10.463847   \n",
       "14148              8.406690              2.517518              10.652193   \n",
       "\n",
       "       final.output.tail_au  ...  secondary_cleaner.state.floatbank4_a_air  \\\n",
       "0                  2.143149  ...                                 14.016835   \n",
       "1                  2.224930  ...                                 13.992281   \n",
       "2                  2.257889  ...                                 14.015015   \n",
       "3                  2.146849  ...                                 14.036510   \n",
       "4                  2.055292  ...                                 14.027298   \n",
       "...                     ...  ...                                       ...   \n",
       "14144              1.529220  ...                                 23.031497   \n",
       "14145              1.612542  ...                                 22.960095   \n",
       "14146              1.596616  ...                                 23.015718   \n",
       "14147              1.602879  ...                                 23.024963   \n",
       "14148              1.389434  ...                                 23.018622   \n",
       "\n",
       "       secondary_cleaner.state.floatbank4_a_level  \\\n",
       "0                                     -502.488007   \n",
       "1                                     -505.503262   \n",
       "2                                     -502.520901   \n",
       "3                                     -500.857308   \n",
       "4                                     -499.838632   \n",
       "...                                           ...   \n",
       "14144                                 -501.167942   \n",
       "14145                                 -501.612783   \n",
       "14146                                 -501.711599   \n",
       "14147                                 -501.153409   \n",
       "14148                                 -500.492702   \n",
       "\n",
       "       secondary_cleaner.state.floatbank4_b_air  \\\n",
       "0                                     12.099931   \n",
       "1                                     11.950531   \n",
       "2                                     11.912783   \n",
       "3                                     11.999550   \n",
       "4                                     11.953070   \n",
       "...                                         ...   \n",
       "14144                                 20.007571   \n",
       "14145                                 20.035660   \n",
       "14146                                 19.951231   \n",
       "14147                                 20.054122   \n",
       "14148                                 20.020205   \n",
       "\n",
       "       secondary_cleaner.state.floatbank4_b_level  \\\n",
       "0                                     -504.715942   \n",
       "1                                     -501.331529   \n",
       "2                                     -501.133383   \n",
       "3                                     -501.193686   \n",
       "4                                     -501.053894   \n",
       "...                                           ...   \n",
       "14144                                 -499.740028   \n",
       "14145                                 -500.251357   \n",
       "14146                                 -499.857027   \n",
       "14147                                 -500.314711   \n",
       "14148                                 -500.220296   \n",
       "\n",
       "       secondary_cleaner.state.floatbank5_a_air  \\\n",
       "0                                      9.925633   \n",
       "1                                     10.039245   \n",
       "2                                     10.070913   \n",
       "3                                      9.970366   \n",
       "4                                      9.925709   \n",
       "...                                         ...   \n",
       "14144                                 18.006038   \n",
       "14145                                 17.998535   \n",
       "14146                                 18.019543   \n",
       "14147                                 17.979515   \n",
       "14148                                 17.963512   \n",
       "\n",
       "       secondary_cleaner.state.floatbank5_a_level  \\\n",
       "0                                     -498.310211   \n",
       "1                                     -500.169983   \n",
       "2                                     -500.129135   \n",
       "3                                     -499.201640   \n",
       "4                                     -501.686727   \n",
       "...                                           ...   \n",
       "14144                                 -499.834374   \n",
       "14145                                 -500.395178   \n",
       "14146                                 -500.451156   \n",
       "14147                                 -499.272871   \n",
       "14148                                 -499.939490   \n",
       "\n",
       "       secondary_cleaner.state.floatbank5_b_air  \\\n",
       "0                                      8.079666   \n",
       "1                                      7.984757   \n",
       "2                                      8.013877   \n",
       "3                                      7.977324   \n",
       "4                                      7.894242   \n",
       "...                                         ...   \n",
       "14144                                 13.001114   \n",
       "14145                                 12.954048   \n",
       "14146                                 13.023431   \n",
       "14147                                 12.992404   \n",
       "14148                                 12.990306   \n",
       "\n",
       "       secondary_cleaner.state.floatbank5_b_level  \\\n",
       "0                                     -500.470978   \n",
       "1                                     -500.582168   \n",
       "2                                     -500.517572   \n",
       "3                                     -500.255908   \n",
       "4                                     -500.356035   \n",
       "...                                           ...   \n",
       "14144                                 -500.155694   \n",
       "14145                                 -499.895163   \n",
       "14146                                 -499.914391   \n",
       "14147                                 -499.976268   \n",
       "14148                                 -500.080993   \n",
       "\n",
       "       secondary_cleaner.state.floatbank6_a_air  \\\n",
       "0                                     14.151341   \n",
       "1                                     13.998353   \n",
       "2                                     14.028663   \n",
       "3                                     14.005551   \n",
       "4                                     13.996647   \n",
       "...                                         ...   \n",
       "14144                                 20.007840   \n",
       "14145                                 19.968498   \n",
       "14146                                 19.990885   \n",
       "14147                                 20.013986   \n",
       "14148                                 19.990336   \n",
       "\n",
       "       secondary_cleaner.state.floatbank6_a_level  \n",
       "0                                     -605.841980  \n",
       "1                                     -599.787184  \n",
       "2                                     -601.427363  \n",
       "3                                     -599.996129  \n",
       "4                                     -601.496691  \n",
       "...                                           ...  \n",
       "14144                                 -501.296428  \n",
       "14145                                 -501.041608  \n",
       "14146                                 -501.518452  \n",
       "14147                                 -500.625471  \n",
       "14148                                 -499.191575  \n",
       "\n",
       "[14149 rows x 87 columns]"
      ]
     },
     "execution_count": 6,
     "metadata": {},
     "output_type": "execute_result"
    }
   ],
   "source": [
    "df_train"
   ]
  },
  {
   "cell_type": "code",
   "execution_count": 7,
   "metadata": {
    "scrolled": true
   },
   "outputs": [
    {
     "name": "stdout",
     "output_type": "stream",
     "text": [
      "<class 'pandas.core.frame.DataFrame'>\n",
      "RangeIndex: 14149 entries, 0 to 14148\n",
      "Data columns (total 87 columns):\n",
      " #   Column                                              Non-Null Count  Dtype  \n",
      "---  ------                                              --------------  -----  \n",
      " 0   date                                                14149 non-null  object \n",
      " 1   final.output.concentrate_ag                         14148 non-null  float64\n",
      " 2   final.output.concentrate_pb                         14148 non-null  float64\n",
      " 3   final.output.concentrate_sol                        13938 non-null  float64\n",
      " 4   final.output.concentrate_au                         14149 non-null  float64\n",
      " 5   final.output.recovery                               14149 non-null  float64\n",
      " 6   final.output.tail_ag                                14149 non-null  float64\n",
      " 7   final.output.tail_pb                                14049 non-null  float64\n",
      " 8   final.output.tail_sol                               14144 non-null  float64\n",
      " 9   final.output.tail_au                                14149 non-null  float64\n",
      " 10  primary_cleaner.input.sulfate                       14129 non-null  float64\n",
      " 11  primary_cleaner.input.depressant                    14117 non-null  float64\n",
      " 12  primary_cleaner.input.feed_size                     14149 non-null  float64\n",
      " 13  primary_cleaner.input.xanthate                      14049 non-null  float64\n",
      " 14  primary_cleaner.output.concentrate_ag               14149 non-null  float64\n",
      " 15  primary_cleaner.output.concentrate_pb               14063 non-null  float64\n",
      " 16  primary_cleaner.output.concentrate_sol              13863 non-null  float64\n",
      " 17  primary_cleaner.output.concentrate_au               14149 non-null  float64\n",
      " 18  primary_cleaner.output.tail_ag                      14148 non-null  float64\n",
      " 19  primary_cleaner.output.tail_pb                      14134 non-null  float64\n",
      " 20  primary_cleaner.output.tail_sol                     14103 non-null  float64\n",
      " 21  primary_cleaner.output.tail_au                      14149 non-null  float64\n",
      " 22  primary_cleaner.state.floatbank8_a_air              14145 non-null  float64\n",
      " 23  primary_cleaner.state.floatbank8_a_level            14148 non-null  float64\n",
      " 24  primary_cleaner.state.floatbank8_b_air              14145 non-null  float64\n",
      " 25  primary_cleaner.state.floatbank8_b_level            14148 non-null  float64\n",
      " 26  primary_cleaner.state.floatbank8_c_air              14147 non-null  float64\n",
      " 27  primary_cleaner.state.floatbank8_c_level            14148 non-null  float64\n",
      " 28  primary_cleaner.state.floatbank8_d_air              14146 non-null  float64\n",
      " 29  primary_cleaner.state.floatbank8_d_level            14148 non-null  float64\n",
      " 30  rougher.calculation.sulfate_to_au_concentrate       14148 non-null  float64\n",
      " 31  rougher.calculation.floatbank10_sulfate_to_au_feed  14148 non-null  float64\n",
      " 32  rougher.calculation.floatbank11_sulfate_to_au_feed  14148 non-null  float64\n",
      " 33  rougher.calculation.au_pb_ratio                     14149 non-null  float64\n",
      " 34  rougher.input.feed_ag                               14149 non-null  float64\n",
      " 35  rougher.input.feed_pb                               14049 non-null  float64\n",
      " 36  rougher.input.feed_rate                             14141 non-null  float64\n",
      " 37  rougher.input.feed_size                             14005 non-null  float64\n",
      " 38  rougher.input.feed_sol                              14071 non-null  float64\n",
      " 39  rougher.input.feed_au                               14149 non-null  float64\n",
      " 40  rougher.input.floatbank10_sulfate                   14120 non-null  float64\n",
      " 41  rougher.input.floatbank10_xanthate                  14141 non-null  float64\n",
      " 42  rougher.input.floatbank11_sulfate                   14113 non-null  float64\n",
      " 43  rougher.input.floatbank11_xanthate                  13721 non-null  float64\n",
      " 44  rougher.output.concentrate_ag                       14149 non-null  float64\n",
      " 45  rougher.output.concentrate_pb                       14149 non-null  float64\n",
      " 46  rougher.output.concentrate_sol                      14127 non-null  float64\n",
      " 47  rougher.output.concentrate_au                       14149 non-null  float64\n",
      " 48  rougher.output.recovery                             14149 non-null  float64\n",
      " 49  rougher.output.tail_ag                              14148 non-null  float64\n",
      " 50  rougher.output.tail_pb                              14149 non-null  float64\n",
      " 51  rougher.output.tail_sol                             14149 non-null  float64\n",
      " 52  rougher.output.tail_au                              14149 non-null  float64\n",
      " 53  rougher.state.floatbank10_a_air                     14148 non-null  float64\n",
      " 54  rougher.state.floatbank10_a_level                   14148 non-null  float64\n",
      " 55  rougher.state.floatbank10_b_air                     14148 non-null  float64\n",
      " 56  rougher.state.floatbank10_b_level                   14148 non-null  float64\n",
      " 57  rougher.state.floatbank10_c_air                     14148 non-null  float64\n",
      " 58  rougher.state.floatbank10_c_level                   14148 non-null  float64\n",
      " 59  rougher.state.floatbank10_d_air                     14149 non-null  float64\n",
      " 60  rougher.state.floatbank10_d_level                   14149 non-null  float64\n",
      " 61  rougher.state.floatbank10_e_air                     13713 non-null  float64\n",
      " 62  rougher.state.floatbank10_e_level                   14149 non-null  float64\n",
      " 63  rougher.state.floatbank10_f_air                     14149 non-null  float64\n",
      " 64  rougher.state.floatbank10_f_level                   14149 non-null  float64\n",
      " 65  secondary_cleaner.output.tail_ag                    14147 non-null  float64\n",
      " 66  secondary_cleaner.output.tail_pb                    14139 non-null  float64\n",
      " 67  secondary_cleaner.output.tail_sol                   12544 non-null  float64\n",
      " 68  secondary_cleaner.output.tail_au                    14149 non-null  float64\n",
      " 69  secondary_cleaner.state.floatbank2_a_air            13932 non-null  float64\n",
      " 70  secondary_cleaner.state.floatbank2_a_level          14148 non-null  float64\n",
      " 71  secondary_cleaner.state.floatbank2_b_air            14128 non-null  float64\n",
      " 72  secondary_cleaner.state.floatbank2_b_level          14148 non-null  float64\n",
      " 73  secondary_cleaner.state.floatbank3_a_air            14145 non-null  float64\n",
      " 74  secondary_cleaner.state.floatbank3_a_level          14148 non-null  float64\n",
      " 75  secondary_cleaner.state.floatbank3_b_air            14148 non-null  float64\n",
      " 76  secondary_cleaner.state.floatbank3_b_level          14148 non-null  float64\n",
      " 77  secondary_cleaner.state.floatbank4_a_air            14143 non-null  float64\n",
      " 78  secondary_cleaner.state.floatbank4_a_level          14148 non-null  float64\n",
      " 79  secondary_cleaner.state.floatbank4_b_air            14148 non-null  float64\n",
      " 80  secondary_cleaner.state.floatbank4_b_level          14148 non-null  float64\n",
      " 81  secondary_cleaner.state.floatbank5_a_air            14148 non-null  float64\n",
      " 82  secondary_cleaner.state.floatbank5_a_level          14148 non-null  float64\n",
      " 83  secondary_cleaner.state.floatbank5_b_air            14148 non-null  float64\n",
      " 84  secondary_cleaner.state.floatbank5_b_level          14148 non-null  float64\n",
      " 85  secondary_cleaner.state.floatbank6_a_air            14147 non-null  float64\n",
      " 86  secondary_cleaner.state.floatbank6_a_level          14148 non-null  float64\n",
      "dtypes: float64(86), object(1)\n",
      "memory usage: 9.4+ MB\n"
     ]
    }
   ],
   "source": [
    "df_train.info()"
   ]
  },
  {
   "cell_type": "code",
   "execution_count": 8,
   "metadata": {
    "scrolled": true
   },
   "outputs": [
    {
     "data": {
      "text/html": [
       "<div>\n",
       "<style scoped>\n",
       "    .dataframe tbody tr th:only-of-type {\n",
       "        vertical-align: middle;\n",
       "    }\n",
       "\n",
       "    .dataframe tbody tr th {\n",
       "        vertical-align: top;\n",
       "    }\n",
       "\n",
       "    .dataframe thead th {\n",
       "        text-align: right;\n",
       "    }\n",
       "</style>\n",
       "<table border=\"1\" class=\"dataframe\">\n",
       "  <thead>\n",
       "    <tr style=\"text-align: right;\">\n",
       "      <th></th>\n",
       "      <th>date</th>\n",
       "      <th>primary_cleaner.input.sulfate</th>\n",
       "      <th>primary_cleaner.input.depressant</th>\n",
       "      <th>primary_cleaner.input.feed_size</th>\n",
       "      <th>primary_cleaner.input.xanthate</th>\n",
       "      <th>primary_cleaner.state.floatbank8_a_air</th>\n",
       "      <th>primary_cleaner.state.floatbank8_a_level</th>\n",
       "      <th>primary_cleaner.state.floatbank8_b_air</th>\n",
       "      <th>primary_cleaner.state.floatbank8_b_level</th>\n",
       "      <th>primary_cleaner.state.floatbank8_c_air</th>\n",
       "      <th>...</th>\n",
       "      <th>secondary_cleaner.state.floatbank4_a_air</th>\n",
       "      <th>secondary_cleaner.state.floatbank4_a_level</th>\n",
       "      <th>secondary_cleaner.state.floatbank4_b_air</th>\n",
       "      <th>secondary_cleaner.state.floatbank4_b_level</th>\n",
       "      <th>secondary_cleaner.state.floatbank5_a_air</th>\n",
       "      <th>secondary_cleaner.state.floatbank5_a_level</th>\n",
       "      <th>secondary_cleaner.state.floatbank5_b_air</th>\n",
       "      <th>secondary_cleaner.state.floatbank5_b_level</th>\n",
       "      <th>secondary_cleaner.state.floatbank6_a_air</th>\n",
       "      <th>secondary_cleaner.state.floatbank6_a_level</th>\n",
       "    </tr>\n",
       "  </thead>\n",
       "  <tbody>\n",
       "    <tr>\n",
       "      <th>0</th>\n",
       "      <td>2016-09-01 00:59:59</td>\n",
       "      <td>210.800909</td>\n",
       "      <td>14.993118</td>\n",
       "      <td>8.080000</td>\n",
       "      <td>1.005021</td>\n",
       "      <td>1398.981301</td>\n",
       "      <td>-500.225577</td>\n",
       "      <td>1399.144926</td>\n",
       "      <td>-499.919735</td>\n",
       "      <td>1400.102998</td>\n",
       "      <td>...</td>\n",
       "      <td>12.023554</td>\n",
       "      <td>-497.795834</td>\n",
       "      <td>8.016656</td>\n",
       "      <td>-501.289139</td>\n",
       "      <td>7.946562</td>\n",
       "      <td>-432.317850</td>\n",
       "      <td>4.872511</td>\n",
       "      <td>-500.037437</td>\n",
       "      <td>26.705889</td>\n",
       "      <td>-499.709414</td>\n",
       "    </tr>\n",
       "    <tr>\n",
       "      <th>1</th>\n",
       "      <td>2016-09-01 01:59:59</td>\n",
       "      <td>215.392455</td>\n",
       "      <td>14.987471</td>\n",
       "      <td>8.080000</td>\n",
       "      <td>0.990469</td>\n",
       "      <td>1398.777912</td>\n",
       "      <td>-500.057435</td>\n",
       "      <td>1398.055362</td>\n",
       "      <td>-499.778182</td>\n",
       "      <td>1396.151033</td>\n",
       "      <td>...</td>\n",
       "      <td>12.058140</td>\n",
       "      <td>-498.695773</td>\n",
       "      <td>8.130979</td>\n",
       "      <td>-499.634209</td>\n",
       "      <td>7.958270</td>\n",
       "      <td>-525.839648</td>\n",
       "      <td>4.878850</td>\n",
       "      <td>-500.162375</td>\n",
       "      <td>25.019940</td>\n",
       "      <td>-499.819438</td>\n",
       "    </tr>\n",
       "    <tr>\n",
       "      <th>2</th>\n",
       "      <td>2016-09-01 02:59:59</td>\n",
       "      <td>215.259946</td>\n",
       "      <td>12.884934</td>\n",
       "      <td>7.786667</td>\n",
       "      <td>0.996043</td>\n",
       "      <td>1398.493666</td>\n",
       "      <td>-500.868360</td>\n",
       "      <td>1398.860436</td>\n",
       "      <td>-499.764529</td>\n",
       "      <td>1398.075709</td>\n",
       "      <td>...</td>\n",
       "      <td>11.962366</td>\n",
       "      <td>-498.767484</td>\n",
       "      <td>8.096893</td>\n",
       "      <td>-500.827423</td>\n",
       "      <td>8.071056</td>\n",
       "      <td>-500.801673</td>\n",
       "      <td>4.905125</td>\n",
       "      <td>-499.828510</td>\n",
       "      <td>24.994862</td>\n",
       "      <td>-500.622559</td>\n",
       "    </tr>\n",
       "    <tr>\n",
       "      <th>3</th>\n",
       "      <td>2016-09-01 03:59:59</td>\n",
       "      <td>215.336236</td>\n",
       "      <td>12.006805</td>\n",
       "      <td>7.640000</td>\n",
       "      <td>0.863514</td>\n",
       "      <td>1399.618111</td>\n",
       "      <td>-498.863574</td>\n",
       "      <td>1397.440120</td>\n",
       "      <td>-499.211024</td>\n",
       "      <td>1400.129303</td>\n",
       "      <td>...</td>\n",
       "      <td>12.033091</td>\n",
       "      <td>-498.350935</td>\n",
       "      <td>8.074946</td>\n",
       "      <td>-499.474407</td>\n",
       "      <td>7.897085</td>\n",
       "      <td>-500.868509</td>\n",
       "      <td>4.931400</td>\n",
       "      <td>-499.963623</td>\n",
       "      <td>24.948919</td>\n",
       "      <td>-498.709987</td>\n",
       "    </tr>\n",
       "    <tr>\n",
       "      <th>4</th>\n",
       "      <td>2016-09-01 04:59:59</td>\n",
       "      <td>199.099327</td>\n",
       "      <td>10.682530</td>\n",
       "      <td>7.530000</td>\n",
       "      <td>0.805575</td>\n",
       "      <td>1401.268123</td>\n",
       "      <td>-500.808305</td>\n",
       "      <td>1398.128818</td>\n",
       "      <td>-499.504543</td>\n",
       "      <td>1402.172226</td>\n",
       "      <td>...</td>\n",
       "      <td>12.025367</td>\n",
       "      <td>-500.786497</td>\n",
       "      <td>8.054678</td>\n",
       "      <td>-500.397500</td>\n",
       "      <td>8.107890</td>\n",
       "      <td>-509.526725</td>\n",
       "      <td>4.957674</td>\n",
       "      <td>-500.360026</td>\n",
       "      <td>25.003331</td>\n",
       "      <td>-500.856333</td>\n",
       "    </tr>\n",
       "    <tr>\n",
       "      <th>...</th>\n",
       "      <td>...</td>\n",
       "      <td>...</td>\n",
       "      <td>...</td>\n",
       "      <td>...</td>\n",
       "      <td>...</td>\n",
       "      <td>...</td>\n",
       "      <td>...</td>\n",
       "      <td>...</td>\n",
       "      <td>...</td>\n",
       "      <td>...</td>\n",
       "      <td>...</td>\n",
       "      <td>...</td>\n",
       "      <td>...</td>\n",
       "      <td>...</td>\n",
       "      <td>...</td>\n",
       "      <td>...</td>\n",
       "      <td>...</td>\n",
       "      <td>...</td>\n",
       "      <td>...</td>\n",
       "      <td>...</td>\n",
       "      <td>...</td>\n",
       "    </tr>\n",
       "    <tr>\n",
       "      <th>5285</th>\n",
       "      <td>2017-12-31 19:59:59</td>\n",
       "      <td>173.957757</td>\n",
       "      <td>15.963399</td>\n",
       "      <td>8.070000</td>\n",
       "      <td>0.896701</td>\n",
       "      <td>1401.930554</td>\n",
       "      <td>-499.728848</td>\n",
       "      <td>1401.441445</td>\n",
       "      <td>-499.193423</td>\n",
       "      <td>1399.810313</td>\n",
       "      <td>...</td>\n",
       "      <td>13.995957</td>\n",
       "      <td>-500.157454</td>\n",
       "      <td>12.069155</td>\n",
       "      <td>-499.673279</td>\n",
       "      <td>7.977259</td>\n",
       "      <td>-499.516126</td>\n",
       "      <td>5.933319</td>\n",
       "      <td>-499.965973</td>\n",
       "      <td>8.987171</td>\n",
       "      <td>-499.755909</td>\n",
       "    </tr>\n",
       "    <tr>\n",
       "      <th>5286</th>\n",
       "      <td>2017-12-31 20:59:59</td>\n",
       "      <td>172.910270</td>\n",
       "      <td>16.002605</td>\n",
       "      <td>8.070000</td>\n",
       "      <td>0.896519</td>\n",
       "      <td>1447.075722</td>\n",
       "      <td>-494.716823</td>\n",
       "      <td>1448.851892</td>\n",
       "      <td>-465.963026</td>\n",
       "      <td>1443.890424</td>\n",
       "      <td>...</td>\n",
       "      <td>16.749781</td>\n",
       "      <td>-496.031539</td>\n",
       "      <td>13.365371</td>\n",
       "      <td>-499.122723</td>\n",
       "      <td>9.288553</td>\n",
       "      <td>-496.892967</td>\n",
       "      <td>7.372897</td>\n",
       "      <td>-499.942956</td>\n",
       "      <td>8.986832</td>\n",
       "      <td>-499.903761</td>\n",
       "    </tr>\n",
       "    <tr>\n",
       "      <th>5287</th>\n",
       "      <td>2017-12-31 21:59:59</td>\n",
       "      <td>171.135718</td>\n",
       "      <td>15.993669</td>\n",
       "      <td>8.070000</td>\n",
       "      <td>1.165996</td>\n",
       "      <td>1498.836182</td>\n",
       "      <td>-501.770403</td>\n",
       "      <td>1499.572353</td>\n",
       "      <td>-495.516347</td>\n",
       "      <td>1502.749213</td>\n",
       "      <td>...</td>\n",
       "      <td>19.994130</td>\n",
       "      <td>-499.791312</td>\n",
       "      <td>15.101425</td>\n",
       "      <td>-499.936252</td>\n",
       "      <td>10.989181</td>\n",
       "      <td>-498.347898</td>\n",
       "      <td>9.020944</td>\n",
       "      <td>-500.040448</td>\n",
       "      <td>8.982038</td>\n",
       "      <td>-497.789882</td>\n",
       "    </tr>\n",
       "    <tr>\n",
       "      <th>5288</th>\n",
       "      <td>2017-12-31 22:59:59</td>\n",
       "      <td>179.697158</td>\n",
       "      <td>15.438979</td>\n",
       "      <td>8.070000</td>\n",
       "      <td>1.501068</td>\n",
       "      <td>1498.466243</td>\n",
       "      <td>-500.483984</td>\n",
       "      <td>1497.986986</td>\n",
       "      <td>-519.200340</td>\n",
       "      <td>1496.569047</td>\n",
       "      <td>...</td>\n",
       "      <td>19.958760</td>\n",
       "      <td>-499.958750</td>\n",
       "      <td>15.026853</td>\n",
       "      <td>-499.723143</td>\n",
       "      <td>11.011607</td>\n",
       "      <td>-499.985046</td>\n",
       "      <td>9.009783</td>\n",
       "      <td>-499.937902</td>\n",
       "      <td>9.012660</td>\n",
       "      <td>-500.154284</td>\n",
       "    </tr>\n",
       "    <tr>\n",
       "      <th>5289</th>\n",
       "      <td>2017-12-31 23:59:59</td>\n",
       "      <td>181.556856</td>\n",
       "      <td>14.995850</td>\n",
       "      <td>8.070000</td>\n",
       "      <td>1.623454</td>\n",
       "      <td>1498.096303</td>\n",
       "      <td>-499.796922</td>\n",
       "      <td>1501.743791</td>\n",
       "      <td>-505.146931</td>\n",
       "      <td>1499.535978</td>\n",
       "      <td>...</td>\n",
       "      <td>20.034715</td>\n",
       "      <td>-500.728588</td>\n",
       "      <td>14.914199</td>\n",
       "      <td>-499.948518</td>\n",
       "      <td>10.986607</td>\n",
       "      <td>-500.658027</td>\n",
       "      <td>8.989497</td>\n",
       "      <td>-500.337588</td>\n",
       "      <td>8.988632</td>\n",
       "      <td>-500.764937</td>\n",
       "    </tr>\n",
       "  </tbody>\n",
       "</table>\n",
       "<p>5290 rows × 53 columns</p>\n",
       "</div>"
      ],
      "text/plain": [
       "                     date  primary_cleaner.input.sulfate  \\\n",
       "0     2016-09-01 00:59:59                     210.800909   \n",
       "1     2016-09-01 01:59:59                     215.392455   \n",
       "2     2016-09-01 02:59:59                     215.259946   \n",
       "3     2016-09-01 03:59:59                     215.336236   \n",
       "4     2016-09-01 04:59:59                     199.099327   \n",
       "...                   ...                            ...   \n",
       "5285  2017-12-31 19:59:59                     173.957757   \n",
       "5286  2017-12-31 20:59:59                     172.910270   \n",
       "5287  2017-12-31 21:59:59                     171.135718   \n",
       "5288  2017-12-31 22:59:59                     179.697158   \n",
       "5289  2017-12-31 23:59:59                     181.556856   \n",
       "\n",
       "      primary_cleaner.input.depressant  primary_cleaner.input.feed_size  \\\n",
       "0                            14.993118                         8.080000   \n",
       "1                            14.987471                         8.080000   \n",
       "2                            12.884934                         7.786667   \n",
       "3                            12.006805                         7.640000   \n",
       "4                            10.682530                         7.530000   \n",
       "...                                ...                              ...   \n",
       "5285                         15.963399                         8.070000   \n",
       "5286                         16.002605                         8.070000   \n",
       "5287                         15.993669                         8.070000   \n",
       "5288                         15.438979                         8.070000   \n",
       "5289                         14.995850                         8.070000   \n",
       "\n",
       "      primary_cleaner.input.xanthate  primary_cleaner.state.floatbank8_a_air  \\\n",
       "0                           1.005021                             1398.981301   \n",
       "1                           0.990469                             1398.777912   \n",
       "2                           0.996043                             1398.493666   \n",
       "3                           0.863514                             1399.618111   \n",
       "4                           0.805575                             1401.268123   \n",
       "...                              ...                                     ...   \n",
       "5285                        0.896701                             1401.930554   \n",
       "5286                        0.896519                             1447.075722   \n",
       "5287                        1.165996                             1498.836182   \n",
       "5288                        1.501068                             1498.466243   \n",
       "5289                        1.623454                             1498.096303   \n",
       "\n",
       "      primary_cleaner.state.floatbank8_a_level  \\\n",
       "0                                  -500.225577   \n",
       "1                                  -500.057435   \n",
       "2                                  -500.868360   \n",
       "3                                  -498.863574   \n",
       "4                                  -500.808305   \n",
       "...                                        ...   \n",
       "5285                               -499.728848   \n",
       "5286                               -494.716823   \n",
       "5287                               -501.770403   \n",
       "5288                               -500.483984   \n",
       "5289                               -499.796922   \n",
       "\n",
       "      primary_cleaner.state.floatbank8_b_air  \\\n",
       "0                                1399.144926   \n",
       "1                                1398.055362   \n",
       "2                                1398.860436   \n",
       "3                                1397.440120   \n",
       "4                                1398.128818   \n",
       "...                                      ...   \n",
       "5285                             1401.441445   \n",
       "5286                             1448.851892   \n",
       "5287                             1499.572353   \n",
       "5288                             1497.986986   \n",
       "5289                             1501.743791   \n",
       "\n",
       "      primary_cleaner.state.floatbank8_b_level  \\\n",
       "0                                  -499.919735   \n",
       "1                                  -499.778182   \n",
       "2                                  -499.764529   \n",
       "3                                  -499.211024   \n",
       "4                                  -499.504543   \n",
       "...                                        ...   \n",
       "5285                               -499.193423   \n",
       "5286                               -465.963026   \n",
       "5287                               -495.516347   \n",
       "5288                               -519.200340   \n",
       "5289                               -505.146931   \n",
       "\n",
       "      primary_cleaner.state.floatbank8_c_air  ...  \\\n",
       "0                                1400.102998  ...   \n",
       "1                                1396.151033  ...   \n",
       "2                                1398.075709  ...   \n",
       "3                                1400.129303  ...   \n",
       "4                                1402.172226  ...   \n",
       "...                                      ...  ...   \n",
       "5285                             1399.810313  ...   \n",
       "5286                             1443.890424  ...   \n",
       "5287                             1502.749213  ...   \n",
       "5288                             1496.569047  ...   \n",
       "5289                             1499.535978  ...   \n",
       "\n",
       "      secondary_cleaner.state.floatbank4_a_air  \\\n",
       "0                                    12.023554   \n",
       "1                                    12.058140   \n",
       "2                                    11.962366   \n",
       "3                                    12.033091   \n",
       "4                                    12.025367   \n",
       "...                                        ...   \n",
       "5285                                 13.995957   \n",
       "5286                                 16.749781   \n",
       "5287                                 19.994130   \n",
       "5288                                 19.958760   \n",
       "5289                                 20.034715   \n",
       "\n",
       "      secondary_cleaner.state.floatbank4_a_level  \\\n",
       "0                                    -497.795834   \n",
       "1                                    -498.695773   \n",
       "2                                    -498.767484   \n",
       "3                                    -498.350935   \n",
       "4                                    -500.786497   \n",
       "...                                          ...   \n",
       "5285                                 -500.157454   \n",
       "5286                                 -496.031539   \n",
       "5287                                 -499.791312   \n",
       "5288                                 -499.958750   \n",
       "5289                                 -500.728588   \n",
       "\n",
       "      secondary_cleaner.state.floatbank4_b_air  \\\n",
       "0                                     8.016656   \n",
       "1                                     8.130979   \n",
       "2                                     8.096893   \n",
       "3                                     8.074946   \n",
       "4                                     8.054678   \n",
       "...                                        ...   \n",
       "5285                                 12.069155   \n",
       "5286                                 13.365371   \n",
       "5287                                 15.101425   \n",
       "5288                                 15.026853   \n",
       "5289                                 14.914199   \n",
       "\n",
       "      secondary_cleaner.state.floatbank4_b_level  \\\n",
       "0                                    -501.289139   \n",
       "1                                    -499.634209   \n",
       "2                                    -500.827423   \n",
       "3                                    -499.474407   \n",
       "4                                    -500.397500   \n",
       "...                                          ...   \n",
       "5285                                 -499.673279   \n",
       "5286                                 -499.122723   \n",
       "5287                                 -499.936252   \n",
       "5288                                 -499.723143   \n",
       "5289                                 -499.948518   \n",
       "\n",
       "      secondary_cleaner.state.floatbank5_a_air  \\\n",
       "0                                     7.946562   \n",
       "1                                     7.958270   \n",
       "2                                     8.071056   \n",
       "3                                     7.897085   \n",
       "4                                     8.107890   \n",
       "...                                        ...   \n",
       "5285                                  7.977259   \n",
       "5286                                  9.288553   \n",
       "5287                                 10.989181   \n",
       "5288                                 11.011607   \n",
       "5289                                 10.986607   \n",
       "\n",
       "      secondary_cleaner.state.floatbank5_a_level  \\\n",
       "0                                    -432.317850   \n",
       "1                                    -525.839648   \n",
       "2                                    -500.801673   \n",
       "3                                    -500.868509   \n",
       "4                                    -509.526725   \n",
       "...                                          ...   \n",
       "5285                                 -499.516126   \n",
       "5286                                 -496.892967   \n",
       "5287                                 -498.347898   \n",
       "5288                                 -499.985046   \n",
       "5289                                 -500.658027   \n",
       "\n",
       "      secondary_cleaner.state.floatbank5_b_air  \\\n",
       "0                                     4.872511   \n",
       "1                                     4.878850   \n",
       "2                                     4.905125   \n",
       "3                                     4.931400   \n",
       "4                                     4.957674   \n",
       "...                                        ...   \n",
       "5285                                  5.933319   \n",
       "5286                                  7.372897   \n",
       "5287                                  9.020944   \n",
       "5288                                  9.009783   \n",
       "5289                                  8.989497   \n",
       "\n",
       "      secondary_cleaner.state.floatbank5_b_level  \\\n",
       "0                                    -500.037437   \n",
       "1                                    -500.162375   \n",
       "2                                    -499.828510   \n",
       "3                                    -499.963623   \n",
       "4                                    -500.360026   \n",
       "...                                          ...   \n",
       "5285                                 -499.965973   \n",
       "5286                                 -499.942956   \n",
       "5287                                 -500.040448   \n",
       "5288                                 -499.937902   \n",
       "5289                                 -500.337588   \n",
       "\n",
       "      secondary_cleaner.state.floatbank6_a_air  \\\n",
       "0                                    26.705889   \n",
       "1                                    25.019940   \n",
       "2                                    24.994862   \n",
       "3                                    24.948919   \n",
       "4                                    25.003331   \n",
       "...                                        ...   \n",
       "5285                                  8.987171   \n",
       "5286                                  8.986832   \n",
       "5287                                  8.982038   \n",
       "5288                                  9.012660   \n",
       "5289                                  8.988632   \n",
       "\n",
       "      secondary_cleaner.state.floatbank6_a_level  \n",
       "0                                    -499.709414  \n",
       "1                                    -499.819438  \n",
       "2                                    -500.622559  \n",
       "3                                    -498.709987  \n",
       "4                                    -500.856333  \n",
       "...                                          ...  \n",
       "5285                                 -499.755909  \n",
       "5286                                 -499.903761  \n",
       "5287                                 -497.789882  \n",
       "5288                                 -500.154284  \n",
       "5289                                 -500.764937  \n",
       "\n",
       "[5290 rows x 53 columns]"
      ]
     },
     "execution_count": 8,
     "metadata": {},
     "output_type": "execute_result"
    }
   ],
   "source": [
    "df_test"
   ]
  },
  {
   "cell_type": "code",
   "execution_count": 9,
   "metadata": {
    "scrolled": true
   },
   "outputs": [
    {
     "name": "stdout",
     "output_type": "stream",
     "text": [
      "<class 'pandas.core.frame.DataFrame'>\n",
      "RangeIndex: 5290 entries, 0 to 5289\n",
      "Data columns (total 53 columns):\n",
      " #   Column                                      Non-Null Count  Dtype  \n",
      "---  ------                                      --------------  -----  \n",
      " 0   date                                        5290 non-null   object \n",
      " 1   primary_cleaner.input.sulfate               5286 non-null   float64\n",
      " 2   primary_cleaner.input.depressant            5285 non-null   float64\n",
      " 3   primary_cleaner.input.feed_size             5290 non-null   float64\n",
      " 4   primary_cleaner.input.xanthate              5286 non-null   float64\n",
      " 5   primary_cleaner.state.floatbank8_a_air      5290 non-null   float64\n",
      " 6   primary_cleaner.state.floatbank8_a_level    5290 non-null   float64\n",
      " 7   primary_cleaner.state.floatbank8_b_air      5290 non-null   float64\n",
      " 8   primary_cleaner.state.floatbank8_b_level    5290 non-null   float64\n",
      " 9   primary_cleaner.state.floatbank8_c_air      5290 non-null   float64\n",
      " 10  primary_cleaner.state.floatbank8_c_level    5290 non-null   float64\n",
      " 11  primary_cleaner.state.floatbank8_d_air      5290 non-null   float64\n",
      " 12  primary_cleaner.state.floatbank8_d_level    5290 non-null   float64\n",
      " 13  rougher.input.feed_ag                       5290 non-null   float64\n",
      " 14  rougher.input.feed_pb                       5290 non-null   float64\n",
      " 15  rougher.input.feed_rate                     5287 non-null   float64\n",
      " 16  rougher.input.feed_size                     5289 non-null   float64\n",
      " 17  rougher.input.feed_sol                      5269 non-null   float64\n",
      " 18  rougher.input.feed_au                       5290 non-null   float64\n",
      " 19  rougher.input.floatbank10_sulfate           5285 non-null   float64\n",
      " 20  rougher.input.floatbank10_xanthate          5290 non-null   float64\n",
      " 21  rougher.input.floatbank11_sulfate           5282 non-null   float64\n",
      " 22  rougher.input.floatbank11_xanthate          5265 non-null   float64\n",
      " 23  rougher.state.floatbank10_a_air             5290 non-null   float64\n",
      " 24  rougher.state.floatbank10_a_level           5290 non-null   float64\n",
      " 25  rougher.state.floatbank10_b_air             5290 non-null   float64\n",
      " 26  rougher.state.floatbank10_b_level           5290 non-null   float64\n",
      " 27  rougher.state.floatbank10_c_air             5290 non-null   float64\n",
      " 28  rougher.state.floatbank10_c_level           5290 non-null   float64\n",
      " 29  rougher.state.floatbank10_d_air             5290 non-null   float64\n",
      " 30  rougher.state.floatbank10_d_level           5290 non-null   float64\n",
      " 31  rougher.state.floatbank10_e_air             5290 non-null   float64\n",
      " 32  rougher.state.floatbank10_e_level           5290 non-null   float64\n",
      " 33  rougher.state.floatbank10_f_air             5290 non-null   float64\n",
      " 34  rougher.state.floatbank10_f_level           5290 non-null   float64\n",
      " 35  secondary_cleaner.state.floatbank2_a_air    5287 non-null   float64\n",
      " 36  secondary_cleaner.state.floatbank2_a_level  5290 non-null   float64\n",
      " 37  secondary_cleaner.state.floatbank2_b_air    5288 non-null   float64\n",
      " 38  secondary_cleaner.state.floatbank2_b_level  5290 non-null   float64\n",
      " 39  secondary_cleaner.state.floatbank3_a_air    5281 non-null   float64\n",
      " 40  secondary_cleaner.state.floatbank3_a_level  5290 non-null   float64\n",
      " 41  secondary_cleaner.state.floatbank3_b_air    5290 non-null   float64\n",
      " 42  secondary_cleaner.state.floatbank3_b_level  5290 non-null   float64\n",
      " 43  secondary_cleaner.state.floatbank4_a_air    5290 non-null   float64\n",
      " 44  secondary_cleaner.state.floatbank4_a_level  5290 non-null   float64\n",
      " 45  secondary_cleaner.state.floatbank4_b_air    5290 non-null   float64\n",
      " 46  secondary_cleaner.state.floatbank4_b_level  5290 non-null   float64\n",
      " 47  secondary_cleaner.state.floatbank5_a_air    5290 non-null   float64\n",
      " 48  secondary_cleaner.state.floatbank5_a_level  5290 non-null   float64\n",
      " 49  secondary_cleaner.state.floatbank5_b_air    5290 non-null   float64\n",
      " 50  secondary_cleaner.state.floatbank5_b_level  5290 non-null   float64\n",
      " 51  secondary_cleaner.state.floatbank6_a_air    5290 non-null   float64\n",
      " 52  secondary_cleaner.state.floatbank6_a_level  5290 non-null   float64\n",
      "dtypes: float64(52), object(1)\n",
      "memory usage: 2.1+ MB\n"
     ]
    }
   ],
   "source": [
    "df_test.info()"
   ]
  },
  {
   "cell_type": "code",
   "execution_count": 10,
   "metadata": {
    "scrolled": true
   },
   "outputs": [
    {
     "name": "stdout",
     "output_type": "stream",
     "text": [
      "<class 'pandas.core.frame.DataFrame'>\n",
      "RangeIndex: 19439 entries, 0 to 19438\n",
      "Data columns (total 87 columns):\n",
      " #   Column                                              Non-Null Count  Dtype  \n",
      "---  ------                                              --------------  -----  \n",
      " 0   date                                                19439 non-null  object \n",
      " 1   final.output.concentrate_ag                         19438 non-null  float64\n",
      " 2   final.output.concentrate_pb                         19438 non-null  float64\n",
      " 3   final.output.concentrate_sol                        19228 non-null  float64\n",
      " 4   final.output.concentrate_au                         19439 non-null  float64\n",
      " 5   final.output.recovery                               19439 non-null  float64\n",
      " 6   final.output.tail_ag                                19438 non-null  float64\n",
      " 7   final.output.tail_pb                                19338 non-null  float64\n",
      " 8   final.output.tail_sol                               19433 non-null  float64\n",
      " 9   final.output.tail_au                                19439 non-null  float64\n",
      " 10  primary_cleaner.input.sulfate                       19415 non-null  float64\n",
      " 11  primary_cleaner.input.depressant                    19402 non-null  float64\n",
      " 12  primary_cleaner.input.feed_size                     19439 non-null  float64\n",
      " 13  primary_cleaner.input.xanthate                      19335 non-null  float64\n",
      " 14  primary_cleaner.output.concentrate_ag               19439 non-null  float64\n",
      " 15  primary_cleaner.output.concentrate_pb               19323 non-null  float64\n",
      " 16  primary_cleaner.output.concentrate_sol              19069 non-null  float64\n",
      " 17  primary_cleaner.output.concentrate_au               19439 non-null  float64\n",
      " 18  primary_cleaner.output.tail_ag                      19435 non-null  float64\n",
      " 19  primary_cleaner.output.tail_pb                      19418 non-null  float64\n",
      " 20  primary_cleaner.output.tail_sol                     19377 non-null  float64\n",
      " 21  primary_cleaner.output.tail_au                      19439 non-null  float64\n",
      " 22  primary_cleaner.state.floatbank8_a_air              19435 non-null  float64\n",
      " 23  primary_cleaner.state.floatbank8_a_level            19438 non-null  float64\n",
      " 24  primary_cleaner.state.floatbank8_b_air              19435 non-null  float64\n",
      " 25  primary_cleaner.state.floatbank8_b_level            19438 non-null  float64\n",
      " 26  primary_cleaner.state.floatbank8_c_air              19437 non-null  float64\n",
      " 27  primary_cleaner.state.floatbank8_c_level            19438 non-null  float64\n",
      " 28  primary_cleaner.state.floatbank8_d_air              19436 non-null  float64\n",
      " 29  primary_cleaner.state.floatbank8_d_level            19438 non-null  float64\n",
      " 30  rougher.calculation.sulfate_to_au_concentrate       19437 non-null  float64\n",
      " 31  rougher.calculation.floatbank10_sulfate_to_au_feed  19437 non-null  float64\n",
      " 32  rougher.calculation.floatbank11_sulfate_to_au_feed  19437 non-null  float64\n",
      " 33  rougher.calculation.au_pb_ratio                     19439 non-null  float64\n",
      " 34  rougher.input.feed_ag                               19439 non-null  float64\n",
      " 35  rougher.input.feed_pb                               19339 non-null  float64\n",
      " 36  rougher.input.feed_rate                             19428 non-null  float64\n",
      " 37  rougher.input.feed_size                             19294 non-null  float64\n",
      " 38  rougher.input.feed_sol                              19340 non-null  float64\n",
      " 39  rougher.input.feed_au                               19439 non-null  float64\n",
      " 40  rougher.input.floatbank10_sulfate                   19405 non-null  float64\n",
      " 41  rougher.input.floatbank10_xanthate                  19431 non-null  float64\n",
      " 42  rougher.input.floatbank11_sulfate                   19395 non-null  float64\n",
      " 43  rougher.input.floatbank11_xanthate                  18986 non-null  float64\n",
      " 44  rougher.output.concentrate_ag                       19439 non-null  float64\n",
      " 45  rougher.output.concentrate_pb                       19439 non-null  float64\n",
      " 46  rougher.output.concentrate_sol                      19416 non-null  float64\n",
      " 47  rougher.output.concentrate_au                       19439 non-null  float64\n",
      " 48  rougher.output.recovery                             19439 non-null  float64\n",
      " 49  rougher.output.tail_ag                              19438 non-null  float64\n",
      " 50  rougher.output.tail_pb                              19439 non-null  float64\n",
      " 51  rougher.output.tail_sol                             19439 non-null  float64\n",
      " 52  rougher.output.tail_au                              19439 non-null  float64\n",
      " 53  rougher.state.floatbank10_a_air                     19438 non-null  float64\n",
      " 54  rougher.state.floatbank10_a_level                   19438 non-null  float64\n",
      " 55  rougher.state.floatbank10_b_air                     19438 non-null  float64\n",
      " 56  rougher.state.floatbank10_b_level                   19438 non-null  float64\n",
      " 57  rougher.state.floatbank10_c_air                     19438 non-null  float64\n",
      " 58  rougher.state.floatbank10_c_level                   19438 non-null  float64\n",
      " 59  rougher.state.floatbank10_d_air                     19439 non-null  float64\n",
      " 60  rougher.state.floatbank10_d_level                   19439 non-null  float64\n",
      " 61  rougher.state.floatbank10_e_air                     19003 non-null  float64\n",
      " 62  rougher.state.floatbank10_e_level                   19439 non-null  float64\n",
      " 63  rougher.state.floatbank10_f_air                     19439 non-null  float64\n",
      " 64  rougher.state.floatbank10_f_level                   19439 non-null  float64\n",
      " 65  secondary_cleaner.output.tail_ag                    19437 non-null  float64\n",
      " 66  secondary_cleaner.output.tail_pb                    19427 non-null  float64\n",
      " 67  secondary_cleaner.output.tail_sol                   17691 non-null  float64\n",
      " 68  secondary_cleaner.output.tail_au                    19439 non-null  float64\n",
      " 69  secondary_cleaner.state.floatbank2_a_air            19219 non-null  float64\n",
      " 70  secondary_cleaner.state.floatbank2_a_level          19438 non-null  float64\n",
      " 71  secondary_cleaner.state.floatbank2_b_air            19416 non-null  float64\n",
      " 72  secondary_cleaner.state.floatbank2_b_level          19438 non-null  float64\n",
      " 73  secondary_cleaner.state.floatbank3_a_air            19426 non-null  float64\n",
      " 74  secondary_cleaner.state.floatbank3_a_level          19438 non-null  float64\n",
      " 75  secondary_cleaner.state.floatbank3_b_air            19438 non-null  float64\n",
      " 76  secondary_cleaner.state.floatbank3_b_level          19438 non-null  float64\n",
      " 77  secondary_cleaner.state.floatbank4_a_air            19433 non-null  float64\n",
      " 78  secondary_cleaner.state.floatbank4_a_level          19438 non-null  float64\n",
      " 79  secondary_cleaner.state.floatbank4_b_air            19438 non-null  float64\n",
      " 80  secondary_cleaner.state.floatbank4_b_level          19438 non-null  float64\n",
      " 81  secondary_cleaner.state.floatbank5_a_air            19438 non-null  float64\n",
      " 82  secondary_cleaner.state.floatbank5_a_level          19438 non-null  float64\n",
      " 83  secondary_cleaner.state.floatbank5_b_air            19438 non-null  float64\n",
      " 84  secondary_cleaner.state.floatbank5_b_level          19438 non-null  float64\n",
      " 85  secondary_cleaner.state.floatbank6_a_air            19437 non-null  float64\n",
      " 86  secondary_cleaner.state.floatbank6_a_level          19438 non-null  float64\n",
      "dtypes: float64(86), object(1)\n",
      "memory usage: 12.9+ MB\n"
     ]
    }
   ],
   "source": [
    "df_full.info()"
   ]
  },
  {
   "cell_type": "markdown",
   "metadata": {},
   "source": [
    "<b>Вывод:</b>"
   ]
  },
  {
   "cell_type": "markdown",
   "metadata": {},
   "source": [
    "В таблицах train и test присутсвуют не все столбцы данных.<br>\n",
    "\n",
    "Значение столбцов описано в начале проекта"
   ]
  },
  {
   "cell_type": "markdown",
   "metadata": {},
   "source": [
    "### Вычисление MAE"
   ]
  },
  {
   "cell_type": "code",
   "execution_count": 11,
   "metadata": {},
   "outputs": [],
   "source": [
    "def recovery_func(c, f, t):\n",
    "    recovery = []\n",
    "    recovery = ((c * (f - t)) / (f * (c - t))) * 100\n",
    "    return pd.Series(recovery)\n",
    "\n",
    "recovery = recovery_func(df_train['rougher.output.concentrate_au'],\n",
    "                        df_train['rougher.input.feed_au'],\n",
    "                        df_train['rougher.output.tail_au'])"
   ]
  },
  {
   "cell_type": "code",
   "execution_count": 12,
   "metadata": {},
   "outputs": [
    {
     "name": "stdout",
     "output_type": "stream",
     "text": [
      "MAE = 0.0000000000000097\n"
     ]
    }
   ],
   "source": [
    "mae = mean_absolute_error(recovery, df_train['rougher.output.recovery'])\n",
    "print('MAE = {0:.16f}'.format(mae))"
   ]
  },
  {
   "cell_type": "markdown",
   "metadata": {},
   "source": [
    "<b>Вывод:</b>"
   ]
  },
  {
   "cell_type": "markdown",
   "metadata": {},
   "source": [
    "Средняя квадратичная ошибка близка к нулю, следовательно различия минимальны."
   ]
  },
  {
   "cell_type": "markdown",
   "metadata": {},
   "source": [
    "### Признаки, не вошедшие в df_test"
   ]
  },
  {
   "cell_type": "code",
   "execution_count": 13,
   "metadata": {},
   "outputs": [
    {
     "data": {
      "text/plain": [
       "{'final.output.concentrate_ag',\n",
       " 'final.output.concentrate_au',\n",
       " 'final.output.concentrate_pb',\n",
       " 'final.output.concentrate_sol',\n",
       " 'final.output.recovery',\n",
       " 'final.output.tail_ag',\n",
       " 'final.output.tail_au',\n",
       " 'final.output.tail_pb',\n",
       " 'final.output.tail_sol',\n",
       " 'primary_cleaner.output.concentrate_ag',\n",
       " 'primary_cleaner.output.concentrate_au',\n",
       " 'primary_cleaner.output.concentrate_pb',\n",
       " 'primary_cleaner.output.concentrate_sol',\n",
       " 'primary_cleaner.output.tail_ag',\n",
       " 'primary_cleaner.output.tail_au',\n",
       " 'primary_cleaner.output.tail_pb',\n",
       " 'primary_cleaner.output.tail_sol',\n",
       " 'rougher.calculation.au_pb_ratio',\n",
       " 'rougher.calculation.floatbank10_sulfate_to_au_feed',\n",
       " 'rougher.calculation.floatbank11_sulfate_to_au_feed',\n",
       " 'rougher.calculation.sulfate_to_au_concentrate',\n",
       " 'rougher.output.concentrate_ag',\n",
       " 'rougher.output.concentrate_au',\n",
       " 'rougher.output.concentrate_pb',\n",
       " 'rougher.output.concentrate_sol',\n",
       " 'rougher.output.recovery',\n",
       " 'rougher.output.tail_ag',\n",
       " 'rougher.output.tail_au',\n",
       " 'rougher.output.tail_pb',\n",
       " 'rougher.output.tail_sol',\n",
       " 'secondary_cleaner.output.tail_ag',\n",
       " 'secondary_cleaner.output.tail_au',\n",
       " 'secondary_cleaner.output.tail_pb',\n",
       " 'secondary_cleaner.output.tail_sol'}"
      ]
     },
     "execution_count": 13,
     "metadata": {},
     "output_type": "execute_result"
    }
   ],
   "source": [
    "df_test_list = set(df_test.columns)\n",
    "df_train_list = set(df_train.columns)\n",
    "\n",
    "df_train_list - df_test_list"
   ]
  },
  {
   "cell_type": "markdown",
   "metadata": {},
   "source": [
    "### Предобработка данных"
   ]
  },
  {
   "cell_type": "code",
   "execution_count": 14,
   "metadata": {},
   "outputs": [],
   "source": [
    "df_test.index = df_test['date']\n",
    "df_train.index = df_train['date']\n",
    "df_full.index = df_full['date']\n",
    "\n",
    "df_test['rougher.output.recovery'] = df_full['rougher.output.recovery']\n",
    "df_test['final.output.recovery'] = df_full['final.output.recovery']"
   ]
  },
  {
   "cell_type": "code",
   "execution_count": 15,
   "metadata": {},
   "outputs": [],
   "source": [
    "df_test_columns = df_test.columns\n",
    "df_train = df_train[df_test_columns]"
   ]
  },
  {
   "cell_type": "code",
   "execution_count": 16,
   "metadata": {},
   "outputs": [],
   "source": [
    "df_test = df_test.fillna(method=\"ffill\")\n",
    "df_train = df_train.fillna(method=\"ffill\")\n",
    "df_full = df_full.fillna(method=\"ffill\")"
   ]
  },
  {
   "cell_type": "markdown",
   "metadata": {},
   "source": [
    "<b>Вывод:</b>"
   ]
  },
  {
   "cell_type": "markdown",
   "metadata": {},
   "source": [
    "Выборки train и test были обработаны. Признаки теперь совпадают."
   ]
  },
  {
   "cell_type": "markdown",
   "metadata": {},
   "source": [
    "## Анализ данных"
   ]
  },
  {
   "cell_type": "markdown",
   "metadata": {},
   "source": [
    "### Концентрация металлов"
   ]
  },
  {
   "cell_type": "code",
   "execution_count": 17,
   "metadata": {},
   "outputs": [
    {
     "name": "stdout",
     "output_type": "stream",
     "text": [
      "<class 'pandas.core.frame.DataFrame'>\n",
      "Index: 19439 entries, 2016-01-15 00:00:00 to 2018-08-18 10:59:59\n",
      "Data columns (total 87 columns):\n",
      " #   Column                                              Non-Null Count  Dtype  \n",
      "---  ------                                              --------------  -----  \n",
      " 0   date                                                19439 non-null  object \n",
      " 1   final.output.concentrate_ag                         19439 non-null  float64\n",
      " 2   final.output.concentrate_pb                         19439 non-null  float64\n",
      " 3   final.output.concentrate_sol                        19439 non-null  float64\n",
      " 4   final.output.concentrate_au                         19439 non-null  float64\n",
      " 5   final.output.recovery                               19439 non-null  float64\n",
      " 6   final.output.tail_ag                                19439 non-null  float64\n",
      " 7   final.output.tail_pb                                19439 non-null  float64\n",
      " 8   final.output.tail_sol                               19439 non-null  float64\n",
      " 9   final.output.tail_au                                19439 non-null  float64\n",
      " 10  primary_cleaner.input.sulfate                       19439 non-null  float64\n",
      " 11  primary_cleaner.input.depressant                    19439 non-null  float64\n",
      " 12  primary_cleaner.input.feed_size                     19439 non-null  float64\n",
      " 13  primary_cleaner.input.xanthate                      19439 non-null  float64\n",
      " 14  primary_cleaner.output.concentrate_ag               19439 non-null  float64\n",
      " 15  primary_cleaner.output.concentrate_pb               19439 non-null  float64\n",
      " 16  primary_cleaner.output.concentrate_sol              19439 non-null  float64\n",
      " 17  primary_cleaner.output.concentrate_au               19439 non-null  float64\n",
      " 18  primary_cleaner.output.tail_ag                      19439 non-null  float64\n",
      " 19  primary_cleaner.output.tail_pb                      19439 non-null  float64\n",
      " 20  primary_cleaner.output.tail_sol                     19439 non-null  float64\n",
      " 21  primary_cleaner.output.tail_au                      19439 non-null  float64\n",
      " 22  primary_cleaner.state.floatbank8_a_air              19439 non-null  float64\n",
      " 23  primary_cleaner.state.floatbank8_a_level            19439 non-null  float64\n",
      " 24  primary_cleaner.state.floatbank8_b_air              19439 non-null  float64\n",
      " 25  primary_cleaner.state.floatbank8_b_level            19439 non-null  float64\n",
      " 26  primary_cleaner.state.floatbank8_c_air              19439 non-null  float64\n",
      " 27  primary_cleaner.state.floatbank8_c_level            19439 non-null  float64\n",
      " 28  primary_cleaner.state.floatbank8_d_air              19439 non-null  float64\n",
      " 29  primary_cleaner.state.floatbank8_d_level            19439 non-null  float64\n",
      " 30  rougher.calculation.sulfate_to_au_concentrate       19439 non-null  float64\n",
      " 31  rougher.calculation.floatbank10_sulfate_to_au_feed  19439 non-null  float64\n",
      " 32  rougher.calculation.floatbank11_sulfate_to_au_feed  19439 non-null  float64\n",
      " 33  rougher.calculation.au_pb_ratio                     19439 non-null  float64\n",
      " 34  rougher.input.feed_ag                               19439 non-null  float64\n",
      " 35  rougher.input.feed_pb                               19439 non-null  float64\n",
      " 36  rougher.input.feed_rate                             19439 non-null  float64\n",
      " 37  rougher.input.feed_size                             19439 non-null  float64\n",
      " 38  rougher.input.feed_sol                              19439 non-null  float64\n",
      " 39  rougher.input.feed_au                               19439 non-null  float64\n",
      " 40  rougher.input.floatbank10_sulfate                   19439 non-null  float64\n",
      " 41  rougher.input.floatbank10_xanthate                  19439 non-null  float64\n",
      " 42  rougher.input.floatbank11_sulfate                   19439 non-null  float64\n",
      " 43  rougher.input.floatbank11_xanthate                  19439 non-null  float64\n",
      " 44  rougher.output.concentrate_ag                       19439 non-null  float64\n",
      " 45  rougher.output.concentrate_pb                       19439 non-null  float64\n",
      " 46  rougher.output.concentrate_sol                      19439 non-null  float64\n",
      " 47  rougher.output.concentrate_au                       19439 non-null  float64\n",
      " 48  rougher.output.recovery                             19439 non-null  float64\n",
      " 49  rougher.output.tail_ag                              19439 non-null  float64\n",
      " 50  rougher.output.tail_pb                              19439 non-null  float64\n",
      " 51  rougher.output.tail_sol                             19439 non-null  float64\n",
      " 52  rougher.output.tail_au                              19439 non-null  float64\n",
      " 53  rougher.state.floatbank10_a_air                     19439 non-null  float64\n",
      " 54  rougher.state.floatbank10_a_level                   19439 non-null  float64\n",
      " 55  rougher.state.floatbank10_b_air                     19439 non-null  float64\n",
      " 56  rougher.state.floatbank10_b_level                   19439 non-null  float64\n",
      " 57  rougher.state.floatbank10_c_air                     19439 non-null  float64\n",
      " 58  rougher.state.floatbank10_c_level                   19439 non-null  float64\n",
      " 59  rougher.state.floatbank10_d_air                     19439 non-null  float64\n",
      " 60  rougher.state.floatbank10_d_level                   19439 non-null  float64\n",
      " 61  rougher.state.floatbank10_e_air                     19439 non-null  float64\n",
      " 62  rougher.state.floatbank10_e_level                   19439 non-null  float64\n",
      " 63  rougher.state.floatbank10_f_air                     19439 non-null  float64\n",
      " 64  rougher.state.floatbank10_f_level                   19439 non-null  float64\n",
      " 65  secondary_cleaner.output.tail_ag                    19439 non-null  float64\n",
      " 66  secondary_cleaner.output.tail_pb                    19439 non-null  float64\n",
      " 67  secondary_cleaner.output.tail_sol                   19439 non-null  float64\n",
      " 68  secondary_cleaner.output.tail_au                    19439 non-null  float64\n",
      " 69  secondary_cleaner.state.floatbank2_a_air            19439 non-null  float64\n",
      " 70  secondary_cleaner.state.floatbank2_a_level          19439 non-null  float64\n",
      " 71  secondary_cleaner.state.floatbank2_b_air            19439 non-null  float64\n",
      " 72  secondary_cleaner.state.floatbank2_b_level          19439 non-null  float64\n",
      " 73  secondary_cleaner.state.floatbank3_a_air            19439 non-null  float64\n",
      " 74  secondary_cleaner.state.floatbank3_a_level          19439 non-null  float64\n",
      " 75  secondary_cleaner.state.floatbank3_b_air            19439 non-null  float64\n",
      " 76  secondary_cleaner.state.floatbank3_b_level          19439 non-null  float64\n",
      " 77  secondary_cleaner.state.floatbank4_a_air            19439 non-null  float64\n",
      " 78  secondary_cleaner.state.floatbank4_a_level          19439 non-null  float64\n",
      " 79  secondary_cleaner.state.floatbank4_b_air            19439 non-null  float64\n",
      " 80  secondary_cleaner.state.floatbank4_b_level          19439 non-null  float64\n",
      " 81  secondary_cleaner.state.floatbank5_a_air            19439 non-null  float64\n",
      " 82  secondary_cleaner.state.floatbank5_a_level          19439 non-null  float64\n",
      " 83  secondary_cleaner.state.floatbank5_b_air            19439 non-null  float64\n",
      " 84  secondary_cleaner.state.floatbank5_b_level          19439 non-null  float64\n",
      " 85  secondary_cleaner.state.floatbank6_a_air            19439 non-null  float64\n",
      " 86  secondary_cleaner.state.floatbank6_a_level          19439 non-null  float64\n",
      "dtypes: float64(86), object(1)\n",
      "memory usage: 13.6+ MB\n"
     ]
    }
   ],
   "source": [
    "df_full.info()"
   ]
  },
  {
   "cell_type": "code",
   "execution_count": 18,
   "metadata": {},
   "outputs": [
    {
     "name": "stdout",
     "output_type": "stream",
     "text": [
      "Концентрация AG после основной очистки: 8.44240807771906\n",
      "Концентрация AU после основной очистки: 32.1194004078765\n",
      "Концентрация PB после основной очистки: 9.810316539310149\n"
     ]
    }
   ],
   "source": [
    "print('Концентрация AG после основной очистки:',\n",
    "      df_full['primary_cleaner.output.concentrate_ag'].mean())\n",
    "print('Концентрация AU после основной очистки:',\n",
    "      df_full['primary_cleaner.output.concentrate_au'].mean())\n",
    "print('Концентрация PB после основной очистки:',\n",
    "      df_full['primary_cleaner.output.concentrate_pb'].mean())"
   ]
  },
  {
   "cell_type": "code",
   "execution_count": 19,
   "metadata": {},
   "outputs": [
    {
     "name": "stdout",
     "output_type": "stream",
     "text": [
      "Финальная концентрация AG: 5.168386967510243\n",
      "Финальная концентрация AU: 44.0765129419528\n",
      "Финальная концентрация PB: 9.978821384192907\n"
     ]
    }
   ],
   "source": [
    "print('Финальная концентрация AG:',\n",
    "      df_full['final.output.concentrate_ag'].mean())\n",
    "print('Финальная концентрация AU:',\n",
    "      df_full['final.output.concentrate_au'].mean())\n",
    "print('Финальная концентрация PB:',\n",
    "      df_full['final.output.concentrate_pb'].mean())"
   ]
  },
  {
   "cell_type": "code",
   "execution_count": 20,
   "metadata": {},
   "outputs": [],
   "source": [
    "def concentrate(r_input, primary, final, x, y):\n",
    "    plt.figure(figsize=(10, 6))\n",
    "    df_full[primary].plot(kind='hist', alpha=0.5, bins=50, grid=True)\n",
    "    df_full[final].plot(kind='hist', alpha=0.5, bins=50, grid=True)\n",
    "    df_full[r_input].plot(kind='hist', alpha=0.5, bins=50, grid=True)\n",
    "    plt.title('Гистограмма распределения концентрации'+ \"\\n\")\n",
    "    plt.xlim([x, y])\n",
    "    plt.xlabel('Концентрация')\n",
    "    plt.ylabel('Частотность')\n",
    "    plt.legend(['Финальная очистка', 'Основная очистка', 'Сырье']);"
   ]
  },
  {
   "cell_type": "markdown",
   "metadata": {},
   "source": [
    "#### Концентрация AG"
   ]
  },
  {
   "cell_type": "code",
   "execution_count": 21,
   "metadata": {},
   "outputs": [
    {
     "data": {
      "image/png": "[encoded data removed]",
      "text/plain": [
       "<Figure size 720x432 with 1 Axes>"
      ]
     },
     "metadata": {
      "needs_background": "light"
     },
     "output_type": "display_data"
    }
   ],
   "source": [
    "concentrate('rougher.input.feed_ag', 'primary_cleaner.output.concentrate_ag', 'final.output.concentrate_ag', 0, 15)"
   ]
  },
  {
   "cell_type": "markdown",
   "metadata": {},
   "source": [
    "Концентрация AG становится выше при финальной очистке"
   ]
  },
  {
   "cell_type": "markdown",
   "metadata": {},
   "source": [
    "#### Концентрация AU"
   ]
  },
  {
   "cell_type": "code",
   "execution_count": 22,
   "metadata": {
    "scrolled": false
   },
   "outputs": [
    {
     "data": {
      "image/png": "[encoded data removed]",
      "text/plain": [
       "<Figure size 720x432 with 1 Axes>"
      ]
     },
     "metadata": {
      "needs_background": "light"
     },
     "output_type": "display_data"
    }
   ],
   "source": [
    "concentrate('rougher.input.feed_au', 'primary_cleaner.output.concentrate_au', 'final.output.concentrate_au', 20, 60)"
   ]
  },
  {
   "cell_type": "markdown",
   "metadata": {},
   "source": [
    "Концентрация AU при финальной очистке становится меньше"
   ]
  },
  {
   "cell_type": "markdown",
   "metadata": {},
   "source": [
    "#### Концентрация PB"
   ]
  },
  {
   "cell_type": "code",
   "execution_count": 23,
   "metadata": {},
   "outputs": [
    {
     "data": {
      "image/png": "[encoded data removed]",
      "text/plain": [
       "<Figure size 720x432 with 1 Axes>"
      ]
     },
     "metadata": {
      "needs_background": "light"
     },
     "output_type": "display_data"
    }
   ],
   "source": [
    "concentrate('rougher.input.feed_pb', 'primary_cleaner.output.concentrate_pb', 'final.output.concentrate_pb', 0, 20)"
   ]
  },
  {
   "cell_type": "markdown",
   "metadata": {},
   "source": [
    "Концентрация PB почти совпадает при основной и финальной очистках"
   ]
  },
  {
   "cell_type": "markdown",
   "metadata": {},
   "source": [
    "### Распределение размера гранул сырья"
   ]
  },
  {
   "cell_type": "code",
   "execution_count": 24,
   "metadata": {},
   "outputs": [
    {
     "data": {
      "text/plain": [
       "(0.0, 100.0)"
      ]
     },
     "execution_count": 24,
     "metadata": {},
     "output_type": "execute_result"
    },
    {
     "data": {
      "text/plain": [
       "<Figure size 720x432 with 0 Axes>"
      ]
     },
     "metadata": {},
     "output_type": "display_data"
    },
    {
     "data": {
      "image/png": "[encoded data removed]",
      "text/plain": [
       "<Figure size 432x288 with 1 Axes>"
      ]
     },
     "metadata": {
      "needs_background": "light"
     },
     "output_type": "display_data"
    }
   ],
   "source": [
    "plt.figure(figsize=(10, 6))\n",
    "ax = df_train.plot(kind='hist', y='rougher.input.feed_size', color = 'red', alpha = 0.5, bins=50, density=True)\n",
    "df_test.plot(kind='hist', y='rougher.input.feed_size', color='green', ax=ax, alpha = 0.5, bins=50, density=True)\n",
    "plt.title('Гистограмма распределения размера гранул сырья по выборкам'+ \"\\n\")\n",
    "plt.xlabel('Размер')\n",
    "plt.ylabel('Частотность')\n",
    "ax.legend(['train','test'])\n",
    "plt.xlim([0, 100])"
   ]
  },
  {
   "cell_type": "markdown",
   "metadata": {},
   "source": [
    "<b>Вывод:</b>"
   ]
  },
  {
   "cell_type": "markdown",
   "metadata": {},
   "source": [
    "Распределение размера гранул различается не сильно"
   ]
  },
  {
   "cell_type": "markdown",
   "metadata": {},
   "source": [
    "### Суммарная концентрация всех веществ"
   ]
  },
  {
   "cell_type": "code",
   "execution_count": 25,
   "metadata": {},
   "outputs": [
    {
     "data": {
      "text/html": [
       "<div>\n",
       "<style scoped>\n",
       "    .dataframe tbody tr th:only-of-type {\n",
       "        vertical-align: middle;\n",
       "    }\n",
       "\n",
       "    .dataframe tbody tr th {\n",
       "        vertical-align: top;\n",
       "    }\n",
       "\n",
       "    .dataframe thead th {\n",
       "        text-align: right;\n",
       "    }\n",
       "</style>\n",
       "<table border=\"1\" class=\"dataframe\">\n",
       "  <thead>\n",
       "    <tr style=\"text-align: right;\">\n",
       "      <th></th>\n",
       "      <th>date</th>\n",
       "      <th>primary_cleaner.input.sulfate</th>\n",
       "      <th>primary_cleaner.input.depressant</th>\n",
       "      <th>primary_cleaner.input.feed_size</th>\n",
       "      <th>primary_cleaner.input.xanthate</th>\n",
       "      <th>primary_cleaner.state.floatbank8_a_air</th>\n",
       "      <th>primary_cleaner.state.floatbank8_a_level</th>\n",
       "      <th>primary_cleaner.state.floatbank8_b_air</th>\n",
       "      <th>primary_cleaner.state.floatbank8_b_level</th>\n",
       "      <th>primary_cleaner.state.floatbank8_c_air</th>\n",
       "      <th>...</th>\n",
       "      <th>secondary_cleaner.state.floatbank4_b_air</th>\n",
       "      <th>secondary_cleaner.state.floatbank4_b_level</th>\n",
       "      <th>secondary_cleaner.state.floatbank5_a_air</th>\n",
       "      <th>secondary_cleaner.state.floatbank5_a_level</th>\n",
       "      <th>secondary_cleaner.state.floatbank5_b_air</th>\n",
       "      <th>secondary_cleaner.state.floatbank5_b_level</th>\n",
       "      <th>secondary_cleaner.state.floatbank6_a_air</th>\n",
       "      <th>secondary_cleaner.state.floatbank6_a_level</th>\n",
       "      <th>rougher.output.recovery</th>\n",
       "      <th>final.output.recovery</th>\n",
       "    </tr>\n",
       "    <tr>\n",
       "      <th>date</th>\n",
       "      <th></th>\n",
       "      <th></th>\n",
       "      <th></th>\n",
       "      <th></th>\n",
       "      <th></th>\n",
       "      <th></th>\n",
       "      <th></th>\n",
       "      <th></th>\n",
       "      <th></th>\n",
       "      <th></th>\n",
       "      <th></th>\n",
       "      <th></th>\n",
       "      <th></th>\n",
       "      <th></th>\n",
       "      <th></th>\n",
       "      <th></th>\n",
       "      <th></th>\n",
       "      <th></th>\n",
       "      <th></th>\n",
       "      <th></th>\n",
       "      <th></th>\n",
       "    </tr>\n",
       "  </thead>\n",
       "  <tbody>\n",
       "    <tr>\n",
       "      <th>2016-01-15 00:00:00</th>\n",
       "      <td>2016-01-15 00:00:00</td>\n",
       "      <td>127.092003</td>\n",
       "      <td>10.128295</td>\n",
       "      <td>7.25</td>\n",
       "      <td>0.988759</td>\n",
       "      <td>1549.775757</td>\n",
       "      <td>-498.912140</td>\n",
       "      <td>1551.434204</td>\n",
       "      <td>-516.403442</td>\n",
       "      <td>1549.873901</td>\n",
       "      <td>...</td>\n",
       "      <td>12.099931</td>\n",
       "      <td>-504.715942</td>\n",
       "      <td>9.925633</td>\n",
       "      <td>-498.310211</td>\n",
       "      <td>8.079666</td>\n",
       "      <td>-500.470978</td>\n",
       "      <td>14.151341</td>\n",
       "      <td>-605.841980</td>\n",
       "      <td>87.107763</td>\n",
       "      <td>70.541216</td>\n",
       "    </tr>\n",
       "    <tr>\n",
       "      <th>2016-01-15 01:00:00</th>\n",
       "      <td>2016-01-15 01:00:00</td>\n",
       "      <td>125.629232</td>\n",
       "      <td>10.296251</td>\n",
       "      <td>7.25</td>\n",
       "      <td>1.002663</td>\n",
       "      <td>1576.166671</td>\n",
       "      <td>-500.904965</td>\n",
       "      <td>1575.950626</td>\n",
       "      <td>-499.865889</td>\n",
       "      <td>1575.994189</td>\n",
       "      <td>...</td>\n",
       "      <td>11.950531</td>\n",
       "      <td>-501.331529</td>\n",
       "      <td>10.039245</td>\n",
       "      <td>-500.169983</td>\n",
       "      <td>7.984757</td>\n",
       "      <td>-500.582168</td>\n",
       "      <td>13.998353</td>\n",
       "      <td>-599.787184</td>\n",
       "      <td>86.843261</td>\n",
       "      <td>69.266198</td>\n",
       "    </tr>\n",
       "    <tr>\n",
       "      <th>2016-01-15 02:00:00</th>\n",
       "      <td>2016-01-15 02:00:00</td>\n",
       "      <td>123.819808</td>\n",
       "      <td>11.316280</td>\n",
       "      <td>7.25</td>\n",
       "      <td>0.991265</td>\n",
       "      <td>1601.556163</td>\n",
       "      <td>-499.997791</td>\n",
       "      <td>1600.386685</td>\n",
       "      <td>-500.607762</td>\n",
       "      <td>1602.003542</td>\n",
       "      <td>...</td>\n",
       "      <td>11.912783</td>\n",
       "      <td>-501.133383</td>\n",
       "      <td>10.070913</td>\n",
       "      <td>-500.129135</td>\n",
       "      <td>8.013877</td>\n",
       "      <td>-500.517572</td>\n",
       "      <td>14.028663</td>\n",
       "      <td>-601.427363</td>\n",
       "      <td>86.842308</td>\n",
       "      <td>68.116445</td>\n",
       "    </tr>\n",
       "    <tr>\n",
       "      <th>2016-01-15 03:00:00</th>\n",
       "      <td>2016-01-15 03:00:00</td>\n",
       "      <td>122.270188</td>\n",
       "      <td>11.322140</td>\n",
       "      <td>7.25</td>\n",
       "      <td>0.996739</td>\n",
       "      <td>1599.968720</td>\n",
       "      <td>-500.951778</td>\n",
       "      <td>1600.659236</td>\n",
       "      <td>-499.677094</td>\n",
       "      <td>1600.304144</td>\n",
       "      <td>...</td>\n",
       "      <td>11.999550</td>\n",
       "      <td>-501.193686</td>\n",
       "      <td>9.970366</td>\n",
       "      <td>-499.201640</td>\n",
       "      <td>7.977324</td>\n",
       "      <td>-500.255908</td>\n",
       "      <td>14.005551</td>\n",
       "      <td>-599.996129</td>\n",
       "      <td>87.226430</td>\n",
       "      <td>68.347543</td>\n",
       "    </tr>\n",
       "    <tr>\n",
       "      <th>2016-01-15 04:00:00</th>\n",
       "      <td>2016-01-15 04:00:00</td>\n",
       "      <td>117.988169</td>\n",
       "      <td>11.913613</td>\n",
       "      <td>7.25</td>\n",
       "      <td>1.009869</td>\n",
       "      <td>1601.339707</td>\n",
       "      <td>-498.975456</td>\n",
       "      <td>1601.437854</td>\n",
       "      <td>-500.323246</td>\n",
       "      <td>1599.581894</td>\n",
       "      <td>...</td>\n",
       "      <td>11.953070</td>\n",
       "      <td>-501.053894</td>\n",
       "      <td>9.925709</td>\n",
       "      <td>-501.686727</td>\n",
       "      <td>7.894242</td>\n",
       "      <td>-500.356035</td>\n",
       "      <td>13.996647</td>\n",
       "      <td>-601.496691</td>\n",
       "      <td>86.688794</td>\n",
       "      <td>66.927016</td>\n",
       "    </tr>\n",
       "    <tr>\n",
       "      <th>...</th>\n",
       "      <td>...</td>\n",
       "      <td>...</td>\n",
       "      <td>...</td>\n",
       "      <td>...</td>\n",
       "      <td>...</td>\n",
       "      <td>...</td>\n",
       "      <td>...</td>\n",
       "      <td>...</td>\n",
       "      <td>...</td>\n",
       "      <td>...</td>\n",
       "      <td>...</td>\n",
       "      <td>...</td>\n",
       "      <td>...</td>\n",
       "      <td>...</td>\n",
       "      <td>...</td>\n",
       "      <td>...</td>\n",
       "      <td>...</td>\n",
       "      <td>...</td>\n",
       "      <td>...</td>\n",
       "      <td>...</td>\n",
       "      <td>...</td>\n",
       "    </tr>\n",
       "    <tr>\n",
       "      <th>2018-08-18 06:59:59</th>\n",
       "      <td>2018-08-18 06:59:59</td>\n",
       "      <td>123.381787</td>\n",
       "      <td>8.028927</td>\n",
       "      <td>6.50</td>\n",
       "      <td>1.304232</td>\n",
       "      <td>1648.421193</td>\n",
       "      <td>-400.382169</td>\n",
       "      <td>1648.742005</td>\n",
       "      <td>-400.359661</td>\n",
       "      <td>1648.578230</td>\n",
       "      <td>...</td>\n",
       "      <td>20.007571</td>\n",
       "      <td>-499.740028</td>\n",
       "      <td>18.006038</td>\n",
       "      <td>-499.834374</td>\n",
       "      <td>13.001114</td>\n",
       "      <td>-500.155694</td>\n",
       "      <td>20.007840</td>\n",
       "      <td>-501.296428</td>\n",
       "      <td>89.574376</td>\n",
       "      <td>73.755150</td>\n",
       "    </tr>\n",
       "    <tr>\n",
       "      <th>2018-08-18 07:59:59</th>\n",
       "      <td>2018-08-18 07:59:59</td>\n",
       "      <td>120.878188</td>\n",
       "      <td>7.962636</td>\n",
       "      <td>6.50</td>\n",
       "      <td>1.302419</td>\n",
       "      <td>1649.820162</td>\n",
       "      <td>-399.930973</td>\n",
       "      <td>1649.357538</td>\n",
       "      <td>-399.721222</td>\n",
       "      <td>1648.656192</td>\n",
       "      <td>...</td>\n",
       "      <td>20.035660</td>\n",
       "      <td>-500.251357</td>\n",
       "      <td>17.998535</td>\n",
       "      <td>-500.395178</td>\n",
       "      <td>12.954048</td>\n",
       "      <td>-499.895163</td>\n",
       "      <td>19.968498</td>\n",
       "      <td>-501.041608</td>\n",
       "      <td>87.724007</td>\n",
       "      <td>69.049291</td>\n",
       "    </tr>\n",
       "    <tr>\n",
       "      <th>2018-08-18 08:59:59</th>\n",
       "      <td>2018-08-18 08:59:59</td>\n",
       "      <td>105.666118</td>\n",
       "      <td>7.955111</td>\n",
       "      <td>6.50</td>\n",
       "      <td>1.315926</td>\n",
       "      <td>1649.166761</td>\n",
       "      <td>-399.888631</td>\n",
       "      <td>1649.196904</td>\n",
       "      <td>-399.677571</td>\n",
       "      <td>1647.896999</td>\n",
       "      <td>...</td>\n",
       "      <td>19.951231</td>\n",
       "      <td>-499.857027</td>\n",
       "      <td>18.019543</td>\n",
       "      <td>-500.451156</td>\n",
       "      <td>13.023431</td>\n",
       "      <td>-499.914391</td>\n",
       "      <td>19.990885</td>\n",
       "      <td>-501.518452</td>\n",
       "      <td>88.890579</td>\n",
       "      <td>67.002189</td>\n",
       "    </tr>\n",
       "    <tr>\n",
       "      <th>2018-08-18 09:59:59</th>\n",
       "      <td>2018-08-18 09:59:59</td>\n",
       "      <td>98.880538</td>\n",
       "      <td>7.984164</td>\n",
       "      <td>6.50</td>\n",
       "      <td>1.241969</td>\n",
       "      <td>1646.547763</td>\n",
       "      <td>-398.977083</td>\n",
       "      <td>1648.212240</td>\n",
       "      <td>-400.383265</td>\n",
       "      <td>1648.917387</td>\n",
       "      <td>...</td>\n",
       "      <td>20.054122</td>\n",
       "      <td>-500.314711</td>\n",
       "      <td>17.979515</td>\n",
       "      <td>-499.272871</td>\n",
       "      <td>12.992404</td>\n",
       "      <td>-499.976268</td>\n",
       "      <td>20.013986</td>\n",
       "      <td>-500.625471</td>\n",
       "      <td>89.858126</td>\n",
       "      <td>65.523246</td>\n",
       "    </tr>\n",
       "    <tr>\n",
       "      <th>2018-08-18 10:59:59</th>\n",
       "      <td>2018-08-18 10:59:59</td>\n",
       "      <td>95.248427</td>\n",
       "      <td>8.078957</td>\n",
       "      <td>6.50</td>\n",
       "      <td>1.283045</td>\n",
       "      <td>1648.759906</td>\n",
       "      <td>-399.862053</td>\n",
       "      <td>1650.135395</td>\n",
       "      <td>-399.957321</td>\n",
       "      <td>1648.831890</td>\n",
       "      <td>...</td>\n",
       "      <td>20.020205</td>\n",
       "      <td>-500.220296</td>\n",
       "      <td>17.963512</td>\n",
       "      <td>-499.939490</td>\n",
       "      <td>12.990306</td>\n",
       "      <td>-500.080993</td>\n",
       "      <td>19.990336</td>\n",
       "      <td>-499.191575</td>\n",
       "      <td>89.514960</td>\n",
       "      <td>70.281454</td>\n",
       "    </tr>\n",
       "  </tbody>\n",
       "</table>\n",
       "<p>13850 rows × 55 columns</p>\n",
       "</div>"
      ],
      "text/plain": [
       "                                    date  primary_cleaner.input.sulfate  \\\n",
       "date                                                                      \n",
       "2016-01-15 00:00:00  2016-01-15 00:00:00                     127.092003   \n",
       "2016-01-15 01:00:00  2016-01-15 01:00:00                     125.629232   \n",
       "2016-01-15 02:00:00  2016-01-15 02:00:00                     123.819808   \n",
       "2016-01-15 03:00:00  2016-01-15 03:00:00                     122.270188   \n",
       "2016-01-15 04:00:00  2016-01-15 04:00:00                     117.988169   \n",
       "...                                  ...                            ...   \n",
       "2018-08-18 06:59:59  2018-08-18 06:59:59                     123.381787   \n",
       "2018-08-18 07:59:59  2018-08-18 07:59:59                     120.878188   \n",
       "2018-08-18 08:59:59  2018-08-18 08:59:59                     105.666118   \n",
       "2018-08-18 09:59:59  2018-08-18 09:59:59                      98.880538   \n",
       "2018-08-18 10:59:59  2018-08-18 10:59:59                      95.248427   \n",
       "\n",
       "                     primary_cleaner.input.depressant  \\\n",
       "date                                                    \n",
       "2016-01-15 00:00:00                         10.128295   \n",
       "2016-01-15 01:00:00                         10.296251   \n",
       "2016-01-15 02:00:00                         11.316280   \n",
       "2016-01-15 03:00:00                         11.322140   \n",
       "2016-01-15 04:00:00                         11.913613   \n",
       "...                                               ...   \n",
       "2018-08-18 06:59:59                          8.028927   \n",
       "2018-08-18 07:59:59                          7.962636   \n",
       "2018-08-18 08:59:59                          7.955111   \n",
       "2018-08-18 09:59:59                          7.984164   \n",
       "2018-08-18 10:59:59                          8.078957   \n",
       "\n",
       "                     primary_cleaner.input.feed_size  \\\n",
       "date                                                   \n",
       "2016-01-15 00:00:00                             7.25   \n",
       "2016-01-15 01:00:00                             7.25   \n",
       "2016-01-15 02:00:00                             7.25   \n",
       "2016-01-15 03:00:00                             7.25   \n",
       "2016-01-15 04:00:00                             7.25   \n",
       "...                                              ...   \n",
       "2018-08-18 06:59:59                             6.50   \n",
       "2018-08-18 07:59:59                             6.50   \n",
       "2018-08-18 08:59:59                             6.50   \n",
       "2018-08-18 09:59:59                             6.50   \n",
       "2018-08-18 10:59:59                             6.50   \n",
       "\n",
       "                     primary_cleaner.input.xanthate  \\\n",
       "date                                                  \n",
       "2016-01-15 00:00:00                        0.988759   \n",
       "2016-01-15 01:00:00                        1.002663   \n",
       "2016-01-15 02:00:00                        0.991265   \n",
       "2016-01-15 03:00:00                        0.996739   \n",
       "2016-01-15 04:00:00                        1.009869   \n",
       "...                                             ...   \n",
       "2018-08-18 06:59:59                        1.304232   \n",
       "2018-08-18 07:59:59                        1.302419   \n",
       "2018-08-18 08:59:59                        1.315926   \n",
       "2018-08-18 09:59:59                        1.241969   \n",
       "2018-08-18 10:59:59                        1.283045   \n",
       "\n",
       "                     primary_cleaner.state.floatbank8_a_air  \\\n",
       "date                                                          \n",
       "2016-01-15 00:00:00                             1549.775757   \n",
       "2016-01-15 01:00:00                             1576.166671   \n",
       "2016-01-15 02:00:00                             1601.556163   \n",
       "2016-01-15 03:00:00                             1599.968720   \n",
       "2016-01-15 04:00:00                             1601.339707   \n",
       "...                                                     ...   \n",
       "2018-08-18 06:59:59                             1648.421193   \n",
       "2018-08-18 07:59:59                             1649.820162   \n",
       "2018-08-18 08:59:59                             1649.166761   \n",
       "2018-08-18 09:59:59                             1646.547763   \n",
       "2018-08-18 10:59:59                             1648.759906   \n",
       "\n",
       "                     primary_cleaner.state.floatbank8_a_level  \\\n",
       "date                                                            \n",
       "2016-01-15 00:00:00                               -498.912140   \n",
       "2016-01-15 01:00:00                               -500.904965   \n",
       "2016-01-15 02:00:00                               -499.997791   \n",
       "2016-01-15 03:00:00                               -500.951778   \n",
       "2016-01-15 04:00:00                               -498.975456   \n",
       "...                                                       ...   \n",
       "2018-08-18 06:59:59                               -400.382169   \n",
       "2018-08-18 07:59:59                               -399.930973   \n",
       "2018-08-18 08:59:59                               -399.888631   \n",
       "2018-08-18 09:59:59                               -398.977083   \n",
       "2018-08-18 10:59:59                               -399.862053   \n",
       "\n",
       "                     primary_cleaner.state.floatbank8_b_air  \\\n",
       "date                                                          \n",
       "2016-01-15 00:00:00                             1551.434204   \n",
       "2016-01-15 01:00:00                             1575.950626   \n",
       "2016-01-15 02:00:00                             1600.386685   \n",
       "2016-01-15 03:00:00                             1600.659236   \n",
       "2016-01-15 04:00:00                             1601.437854   \n",
       "...                                                     ...   \n",
       "2018-08-18 06:59:59                             1648.742005   \n",
       "2018-08-18 07:59:59                             1649.357538   \n",
       "2018-08-18 08:59:59                             1649.196904   \n",
       "2018-08-18 09:59:59                             1648.212240   \n",
       "2018-08-18 10:59:59                             1650.135395   \n",
       "\n",
       "                     primary_cleaner.state.floatbank8_b_level  \\\n",
       "date                                                            \n",
       "2016-01-15 00:00:00                               -516.403442   \n",
       "2016-01-15 01:00:00                               -499.865889   \n",
       "2016-01-15 02:00:00                               -500.607762   \n",
       "2016-01-15 03:00:00                               -499.677094   \n",
       "2016-01-15 04:00:00                               -500.323246   \n",
       "...                                                       ...   \n",
       "2018-08-18 06:59:59                               -400.359661   \n",
       "2018-08-18 07:59:59                               -399.721222   \n",
       "2018-08-18 08:59:59                               -399.677571   \n",
       "2018-08-18 09:59:59                               -400.383265   \n",
       "2018-08-18 10:59:59                               -399.957321   \n",
       "\n",
       "                     primary_cleaner.state.floatbank8_c_air  ...  \\\n",
       "date                                                         ...   \n",
       "2016-01-15 00:00:00                             1549.873901  ...   \n",
       "2016-01-15 01:00:00                             1575.994189  ...   \n",
       "2016-01-15 02:00:00                             1602.003542  ...   \n",
       "2016-01-15 03:00:00                             1600.304144  ...   \n",
       "2016-01-15 04:00:00                             1599.581894  ...   \n",
       "...                                                     ...  ...   \n",
       "2018-08-18 06:59:59                             1648.578230  ...   \n",
       "2018-08-18 07:59:59                             1648.656192  ...   \n",
       "2018-08-18 08:59:59                             1647.896999  ...   \n",
       "2018-08-18 09:59:59                             1648.917387  ...   \n",
       "2018-08-18 10:59:59                             1648.831890  ...   \n",
       "\n",
       "                     secondary_cleaner.state.floatbank4_b_air  \\\n",
       "date                                                            \n",
       "2016-01-15 00:00:00                                 12.099931   \n",
       "2016-01-15 01:00:00                                 11.950531   \n",
       "2016-01-15 02:00:00                                 11.912783   \n",
       "2016-01-15 03:00:00                                 11.999550   \n",
       "2016-01-15 04:00:00                                 11.953070   \n",
       "...                                                       ...   \n",
       "2018-08-18 06:59:59                                 20.007571   \n",
       "2018-08-18 07:59:59                                 20.035660   \n",
       "2018-08-18 08:59:59                                 19.951231   \n",
       "2018-08-18 09:59:59                                 20.054122   \n",
       "2018-08-18 10:59:59                                 20.020205   \n",
       "\n",
       "                     secondary_cleaner.state.floatbank4_b_level  \\\n",
       "date                                                              \n",
       "2016-01-15 00:00:00                                 -504.715942   \n",
       "2016-01-15 01:00:00                                 -501.331529   \n",
       "2016-01-15 02:00:00                                 -501.133383   \n",
       "2016-01-15 03:00:00                                 -501.193686   \n",
       "2016-01-15 04:00:00                                 -501.053894   \n",
       "...                                                         ...   \n",
       "2018-08-18 06:59:59                                 -499.740028   \n",
       "2018-08-18 07:59:59                                 -500.251357   \n",
       "2018-08-18 08:59:59                                 -499.857027   \n",
       "2018-08-18 09:59:59                                 -500.314711   \n",
       "2018-08-18 10:59:59                                 -500.220296   \n",
       "\n",
       "                     secondary_cleaner.state.floatbank5_a_air  \\\n",
       "date                                                            \n",
       "2016-01-15 00:00:00                                  9.925633   \n",
       "2016-01-15 01:00:00                                 10.039245   \n",
       "2016-01-15 02:00:00                                 10.070913   \n",
       "2016-01-15 03:00:00                                  9.970366   \n",
       "2016-01-15 04:00:00                                  9.925709   \n",
       "...                                                       ...   \n",
       "2018-08-18 06:59:59                                 18.006038   \n",
       "2018-08-18 07:59:59                                 17.998535   \n",
       "2018-08-18 08:59:59                                 18.019543   \n",
       "2018-08-18 09:59:59                                 17.979515   \n",
       "2018-08-18 10:59:59                                 17.963512   \n",
       "\n",
       "                     secondary_cleaner.state.floatbank5_a_level  \\\n",
       "date                                                              \n",
       "2016-01-15 00:00:00                                 -498.310211   \n",
       "2016-01-15 01:00:00                                 -500.169983   \n",
       "2016-01-15 02:00:00                                 -500.129135   \n",
       "2016-01-15 03:00:00                                 -499.201640   \n",
       "2016-01-15 04:00:00                                 -501.686727   \n",
       "...                                                         ...   \n",
       "2018-08-18 06:59:59                                 -499.834374   \n",
       "2018-08-18 07:59:59                                 -500.395178   \n",
       "2018-08-18 08:59:59                                 -500.451156   \n",
       "2018-08-18 09:59:59                                 -499.272871   \n",
       "2018-08-18 10:59:59                                 -499.939490   \n",
       "\n",
       "                     secondary_cleaner.state.floatbank5_b_air  \\\n",
       "date                                                            \n",
       "2016-01-15 00:00:00                                  8.079666   \n",
       "2016-01-15 01:00:00                                  7.984757   \n",
       "2016-01-15 02:00:00                                  8.013877   \n",
       "2016-01-15 03:00:00                                  7.977324   \n",
       "2016-01-15 04:00:00                                  7.894242   \n",
       "...                                                       ...   \n",
       "2018-08-18 06:59:59                                 13.001114   \n",
       "2018-08-18 07:59:59                                 12.954048   \n",
       "2018-08-18 08:59:59                                 13.023431   \n",
       "2018-08-18 09:59:59                                 12.992404   \n",
       "2018-08-18 10:59:59                                 12.990306   \n",
       "\n",
       "                     secondary_cleaner.state.floatbank5_b_level  \\\n",
       "date                                                              \n",
       "2016-01-15 00:00:00                                 -500.470978   \n",
       "2016-01-15 01:00:00                                 -500.582168   \n",
       "2016-01-15 02:00:00                                 -500.517572   \n",
       "2016-01-15 03:00:00                                 -500.255908   \n",
       "2016-01-15 04:00:00                                 -500.356035   \n",
       "...                                                         ...   \n",
       "2018-08-18 06:59:59                                 -500.155694   \n",
       "2018-08-18 07:59:59                                 -499.895163   \n",
       "2018-08-18 08:59:59                                 -499.914391   \n",
       "2018-08-18 09:59:59                                 -499.976268   \n",
       "2018-08-18 10:59:59                                 -500.080993   \n",
       "\n",
       "                     secondary_cleaner.state.floatbank6_a_air  \\\n",
       "date                                                            \n",
       "2016-01-15 00:00:00                                 14.151341   \n",
       "2016-01-15 01:00:00                                 13.998353   \n",
       "2016-01-15 02:00:00                                 14.028663   \n",
       "2016-01-15 03:00:00                                 14.005551   \n",
       "2016-01-15 04:00:00                                 13.996647   \n",
       "...                                                       ...   \n",
       "2018-08-18 06:59:59                                 20.007840   \n",
       "2018-08-18 07:59:59                                 19.968498   \n",
       "2018-08-18 08:59:59                                 19.990885   \n",
       "2018-08-18 09:59:59                                 20.013986   \n",
       "2018-08-18 10:59:59                                 19.990336   \n",
       "\n",
       "                     secondary_cleaner.state.floatbank6_a_level  \\\n",
       "date                                                              \n",
       "2016-01-15 00:00:00                                 -605.841980   \n",
       "2016-01-15 01:00:00                                 -599.787184   \n",
       "2016-01-15 02:00:00                                 -601.427363   \n",
       "2016-01-15 03:00:00                                 -599.996129   \n",
       "2016-01-15 04:00:00                                 -601.496691   \n",
       "...                                                         ...   \n",
       "2018-08-18 06:59:59                                 -501.296428   \n",
       "2018-08-18 07:59:59                                 -501.041608   \n",
       "2018-08-18 08:59:59                                 -501.518452   \n",
       "2018-08-18 09:59:59                                 -500.625471   \n",
       "2018-08-18 10:59:59                                 -499.191575   \n",
       "\n",
       "                     rougher.output.recovery  final.output.recovery  \n",
       "date                                                                 \n",
       "2016-01-15 00:00:00                87.107763              70.541216  \n",
       "2016-01-15 01:00:00                86.843261              69.266198  \n",
       "2016-01-15 02:00:00                86.842308              68.116445  \n",
       "2016-01-15 03:00:00                87.226430              68.347543  \n",
       "2016-01-15 04:00:00                86.688794              66.927016  \n",
       "...                                      ...                    ...  \n",
       "2018-08-18 06:59:59                89.574376              73.755150  \n",
       "2018-08-18 07:59:59                87.724007              69.049291  \n",
       "2018-08-18 08:59:59                88.890579              67.002189  \n",
       "2018-08-18 09:59:59                89.858126              65.523246  \n",
       "2018-08-18 10:59:59                89.514960              70.281454  \n",
       "\n",
       "[13850 rows x 55 columns]"
      ]
     },
     "execution_count": 25,
     "metadata": {},
     "output_type": "execute_result"
    }
   ],
   "source": [
    "df_train[~((df_full['rougher.output.concentrate_ag'] + df_full['rougher.output.concentrate_pb'] \n",
    "                        + df_full['rougher.output.concentrate_sol'] + df_full['rougher.output.concentrate_au'])<1)\n",
    "                     |((df_full['primary_cleaner.output.concentrate_ag'] + df_full['primary_cleaner.output.concentrate_pb'] \n",
    "                      + df_full['primary_cleaner.output.concentrate_sol'] + df_full['primary_cleaner.output.concentrate_au'])<1)\n",
    "                     |((df_full['final.output.concentrate_ag'] + df_full['final.output.concentrate_pb'] \n",
    "                        + df_full['final.output.concentrate_sol'] + df_full['final.output.concentrate_au'])<1)]"
   ]
  },
  {
   "cell_type": "markdown",
   "metadata": {},
   "source": [
    "<b>Вывод:</b>"
   ]
  },
  {
   "cell_type": "markdown",
   "metadata": {},
   "source": [
    "Были отсечены данные, концентрация которых была ниже единицы"
   ]
  },
  {
   "cell_type": "code",
   "execution_count": 26,
   "metadata": {},
   "outputs": [],
   "source": [
    "r_input = df_full['rougher.input.feed_ag'] + df_full['rougher.input.feed_au'] + df_full['rougher.input.feed_pb']\n",
    "p_clean = (df_full['primary_cleaner.output.concentrate_ag'] +\n",
    "          df_full['primary_cleaner.output.concentrate_au'] +\n",
    "          df_full['primary_cleaner.output.concentrate_pb'])\n",
    "f_clean = (df_full['final.output.concentrate_ag'] +\n",
    "          df_full['final.output.concentrate_au'] +\n",
    "          df_full['final.output.concentrate_pb'])"
   ]
  },
  {
   "cell_type": "code",
   "execution_count": 27,
   "metadata": {},
   "outputs": [
    {
     "data": {
      "image/png": "[encoded data removed]",
      "text/plain": [
       "<Figure size 720x432 with 1 Axes>"
      ]
     },
     "metadata": {
      "needs_background": "light"
     },
     "output_type": "display_data"
    }
   ],
   "source": [
    "plt.figure(figsize=(10, 6))\n",
    "r_input.plot(kind='hist', alpha=0.5, bins=50, grid=True)\n",
    "p_clean.plot(kind='hist', alpha=0.5, bins=50, grid=True)\n",
    "f_clean.plot(kind='hist', alpha=0.5, bins=50, grid=True)\n",
    "plt.title('Гистограмма распределения суммарной концентрации'+ \"\\n\")\n",
    "plt.xlim([0, 70])\n",
    "plt.xlabel('Концентрация')\n",
    "plt.ylabel('Частотность')\n",
    "plt.legend(['Сырье', 'Основная очистка', 'Финальная очистка']);"
   ]
  },
  {
   "cell_type": "markdown",
   "metadata": {},
   "source": [
    "## Модель"
   ]
  },
  {
   "cell_type": "code",
   "execution_count": 28,
   "metadata": {},
   "outputs": [],
   "source": [
    "target_train_r = df_train['rougher.output.recovery']\n",
    "target_train_f = df_train['final.output.recovery']\n",
    "features_train = df_train.drop(['rougher.output.recovery', 'final.output.recovery', 'date'], axis=1)\n",
    "\n",
    "scaler = StandardScaler()\n",
    "scaler.fit(features_train)\n",
    "features_train = scaler.transform(features_train)"
   ]
  },
  {
   "cell_type": "code",
   "execution_count": 29,
   "metadata": {},
   "outputs": [],
   "source": [
    "target_test_r = df_test['rougher.output.recovery']\n",
    "target_test_f = df_test['final.output.recovery']\n",
    "features_test = df_test.drop(['rougher.output.recovery', 'final.output.recovery', 'date'], axis=1)\n",
    "\n",
    "scaler = StandardScaler()\n",
    "scaler.fit(features_test)\n",
    "features_test = scaler.transform(features_test)"
   ]
  },
  {
   "cell_type": "markdown",
   "metadata": {},
   "source": [
    "<b>Вывод:</b>"
   ]
  },
  {
   "cell_type": "markdown",
   "metadata": {},
   "source": [
    "Данные разделены для обучения. Так же отскалированы."
   ]
  },
  {
   "cell_type": "markdown",
   "metadata": {},
   "source": [
    "### Вычисление sMAPE"
   ]
  },
  {
   "cell_type": "code",
   "execution_count": 30,
   "metadata": {},
   "outputs": [],
   "source": [
    "def sMAPE(y_target, y_pred):\n",
    "    n = len(y_target)\n",
    "    return -100/n * np.sum(np.abs(y_target - y_pred)/((np.abs(y_target) + np.abs(y_pred))/2))"
   ]
  },
  {
   "cell_type": "code",
   "execution_count": 31,
   "metadata": {},
   "outputs": [],
   "source": [
    "def total_sMAPE(smape_r, smape_f):\n",
    "    return 0.25*smape_r + 0.75*smape_f"
   ]
  },
  {
   "cell_type": "code",
   "execution_count": 32,
   "metadata": {},
   "outputs": [],
   "source": [
    "sMAPE_score = make_scorer(sMAPE, greater_is_better=True)"
   ]
  },
  {
   "cell_type": "markdown",
   "metadata": {},
   "source": [
    "### Обучение моделей"
   ]
  },
  {
   "cell_type": "markdown",
   "metadata": {},
   "source": [
    "#### Древо решений"
   ]
  },
  {
   "cell_type": "code",
   "execution_count": 33,
   "metadata": {},
   "outputs": [
    {
     "name": "stdout",
     "output_type": "stream",
     "text": [
      "Лучшие гиперпараметры для модели: {'max_depth': 1}\n",
      "CPU times: user 11.5 s, sys: 13.5 ms, total: 11.5 s\n",
      "Wall time: 11.5 s\n"
     ]
    },
    {
     "data": {
      "text/plain": [
       "-10.57824446779"
      ]
     },
     "execution_count": 33,
     "metadata": {},
     "output_type": "execute_result"
    }
   ],
   "source": [
    "%%time\n",
    "parametrs = {'max_depth': range(1, 40, 10)}\n",
    "model_dtr_f = DecisionTreeRegressor(random_state=12345)\n",
    "grid_dtr_f = GridSearchCV(model_dtr_f, parametrs, scoring=sMAPE_score, cv=5)\n",
    "grid_dtr_f.fit(features_train, target_train_f)\n",
    "print('Лучшие гиперпараметры для модели:', grid_dtr_f.best_params_)\n",
    "scores_dtr_f = grid_dtr_f.score(features_train, target_train_f)\n",
    "scores_dtr_f"
   ]
  },
  {
   "cell_type": "code",
   "execution_count": 34,
   "metadata": {},
   "outputs": [
    {
     "name": "stdout",
     "output_type": "stream",
     "text": [
      "Лучшие гиперпараметры для модели: {'max_depth': 1}\n",
      "CPU times: user 11.5 s, sys: 2.83 ms, total: 11.5 s\n",
      "Wall time: 11.5 s\n"
     ]
    },
    {
     "data": {
      "text/plain": [
       "-12.075414924287072"
      ]
     },
     "execution_count": 34,
     "metadata": {},
     "output_type": "execute_result"
    }
   ],
   "source": [
    "%%time\n",
    "parametrs = {'max_depth': range(1, 40, 10)}\n",
    "model_dtr_r = DecisionTreeRegressor(random_state=12345)\n",
    "grid_dtr_r = GridSearchCV(model_dtr_f, parametrs, scoring=sMAPE_score, cv=5)\n",
    "grid_dtr_r.fit(features_train, target_train_r)\n",
    "print('Лучшие гиперпараметры для модели:', grid_dtr_r.best_params_)\n",
    "scores_dtr_r = grid_dtr_r.score(features_train, target_train_r)\n",
    "scores_dtr_r"
   ]
  },
  {
   "cell_type": "code",
   "execution_count": 35,
   "metadata": {
    "scrolled": true
   },
   "outputs": [
    {
     "data": {
      "text/plain": [
       "-10.952537081914269"
      ]
     },
     "execution_count": 35,
     "metadata": {},
     "output_type": "execute_result"
    }
   ],
   "source": [
    "total_sMAPE(scores_dtr_r, scores_dtr_f).mean()"
   ]
  },
  {
   "cell_type": "markdown",
   "metadata": {},
   "source": [
    "#### Случайный лес"
   ]
  },
  {
   "cell_type": "code",
   "execution_count": 36,
   "metadata": {},
   "outputs": [
    {
     "name": "stdout",
     "output_type": "stream",
     "text": [
      "Лучшие гиперпараметры для модели: {'max_depth': 9, 'n_estimators': 10}\n",
      "CPU times: user 16.6 s, sys: 15.2 ms, total: 16.7 s\n",
      "Wall time: 16.8 s\n"
     ]
    },
    {
     "data": {
      "text/plain": [
       "-7.039402193409148"
      ]
     },
     "execution_count": 36,
     "metadata": {},
     "output_type": "execute_result"
    }
   ],
   "source": [
    "%%time\n",
    "parametrs = {'max_depth': range(9, 10, 1), 'n_estimators': range(10, 20, 10)}\n",
    "model_rfr_f = RandomForestRegressor(random_state=12345)\n",
    "grid_rfr_f = GridSearchCV(model_rfr_f, parametrs, scoring=sMAPE_score, cv=5)\n",
    "grid_rfr_f.fit(features_train, target_train_f)\n",
    "print('Лучшие гиперпараметры для модели:', grid_rfr_f.best_params_)\n",
    "scores_rfr_f = grid_rfr_f.score(features_train, target_train_f)\n",
    "scores_rfr_f"
   ]
  },
  {
   "cell_type": "code",
   "execution_count": 37,
   "metadata": {},
   "outputs": [
    {
     "name": "stdout",
     "output_type": "stream",
     "text": [
      "Лучшие гиперпараметры для модели: {'max_depth': 9, 'n_estimators': 10}\n",
      "CPU times: user 17.4 s, sys: 3.72 ms, total: 17.4 s\n",
      "Wall time: 17.5 s\n"
     ]
    },
    {
     "data": {
      "text/plain": [
       "-7.729593142037381"
      ]
     },
     "execution_count": 37,
     "metadata": {},
     "output_type": "execute_result"
    }
   ],
   "source": [
    "%%time\n",
    "parametrs = {'max_depth': range(9, 10, 1), 'n_estimators': range(10, 20, 10)}\n",
    "model_rfr_r = RandomForestRegressor(random_state=12345)\n",
    "grid_rfr_r = GridSearchCV(model_rfr_r, parametrs, scoring=sMAPE_score, cv=5)\n",
    "grid_rfr_r.fit(features_train, target_train_r)\n",
    "print('Лучшие гиперпараметры для модели:', grid_rfr_r.best_params_)\n",
    "scores_rfr_r = grid_rfr_r.score(features_train, target_train_r)\n",
    "scores_rfr_r"
   ]
  },
  {
   "cell_type": "code",
   "execution_count": 38,
   "metadata": {},
   "outputs": [
    {
     "data": {
      "text/plain": [
       "-7.211949930566206"
      ]
     },
     "execution_count": 38,
     "metadata": {},
     "output_type": "execute_result"
    }
   ],
   "source": [
    "total_sMAPE(scores_rfr_r, scores_rfr_f).mean()"
   ]
  },
  {
   "cell_type": "markdown",
   "metadata": {},
   "source": [
    "#### Линейная регрессия"
   ]
  },
  {
   "cell_type": "code",
   "execution_count": 39,
   "metadata": {},
   "outputs": [
    {
     "name": "stdout",
     "output_type": "stream",
     "text": [
      "[-14.21317347 -10.7516344  -11.1015969  -10.47709069 -14.68300613]\n"
     ]
    }
   ],
   "source": [
    "model_l_f = LinearRegression()\n",
    "scores_l_f = cross_val_score(model_l_f, features_train, target_train_f, scoring=sMAPE_score, cv=5)\n",
    "print(scores_l_f)"
   ]
  },
  {
   "cell_type": "code",
   "execution_count": 40,
   "metadata": {},
   "outputs": [
    {
     "name": "stdout",
     "output_type": "stream",
     "text": [
      "[-14.97104632  -7.71742663 -17.68267912 -14.57577066  -9.06549457]\n"
     ]
    }
   ],
   "source": [
    "model_l_r = LinearRegression()\n",
    "scores_l_r = cross_val_score(model_l_r, features_train, target_train_r, scoring=sMAPE_score, cv=5)\n",
    "print(scores_l_r)"
   ]
  },
  {
   "cell_type": "code",
   "execution_count": 41,
   "metadata": {},
   "outputs": [
    {
     "data": {
      "text/plain": [
       "-12.384596104847194"
      ]
     },
     "execution_count": 41,
     "metadata": {},
     "output_type": "execute_result"
    }
   ],
   "source": [
    "total_sMAPE(scores_l_r, scores_l_f).mean()"
   ]
  },
  {
   "cell_type": "markdown",
   "metadata": {},
   "source": [
    "<b>Вывод:</b>"
   ]
  },
  {
   "cell_type": "markdown",
   "metadata": {},
   "source": [
    "Самой лучшей моделью оказалась модель Случайного леса."
   ]
  },
  {
   "cell_type": "markdown",
   "metadata": {},
   "source": [
    "#### Лучшая модель"
   ]
  },
  {
   "cell_type": "code",
   "execution_count": 42,
   "metadata": {},
   "outputs": [
    {
     "data": {
      "text/plain": [
       "array([83.29077634, 83.29077634, 83.29077634, ..., 83.29077634,\n",
       "       83.29077634, 83.29077634])"
      ]
     },
     "execution_count": 42,
     "metadata": {},
     "output_type": "execute_result"
    }
   ],
   "source": [
    "model_dtr_r = DecisionTreeRegressor(random_state=12345, max_depth=1)\n",
    "model_dtr_r.fit(features_train, target_train_r)\n",
    "predicted_dtr_r = model_dtr_r.predict(features_test)\n",
    "predicted_dtr_r"
   ]
  },
  {
   "cell_type": "code",
   "execution_count": 43,
   "metadata": {},
   "outputs": [
    {
     "data": {
      "text/plain": [
       "array([67.98757692, 67.98757692, 67.98757692, ..., 67.98757692,\n",
       "       67.98757692, 67.98757692])"
      ]
     },
     "execution_count": 43,
     "metadata": {},
     "output_type": "execute_result"
    }
   ],
   "source": [
    "model_dtr_f = DecisionTreeRegressor(random_state=12345, max_depth=1)\n",
    "model_dtr_f.fit(features_train, target_train_f)\n",
    "predicted_dtr_f = model_dtr_f.predict(features_test)\n",
    "predicted_dtr_f"
   ]
  },
  {
   "cell_type": "code",
   "execution_count": 44,
   "metadata": {},
   "outputs": [
    {
     "data": {
      "text/plain": [
       "-10.300475262543893"
      ]
     },
     "execution_count": 44,
     "metadata": {},
     "output_type": "execute_result"
    }
   ],
   "source": [
    "smape_dtr_r = sMAPE(predicted_dtr_r, target_test_r)\n",
    "smape_dtr_r"
   ]
  },
  {
   "cell_type": "code",
   "execution_count": 45,
   "metadata": {},
   "outputs": [
    {
     "data": {
      "text/plain": [
       "-10.050166723547093"
      ]
     },
     "execution_count": 45,
     "metadata": {},
     "output_type": "execute_result"
    }
   ],
   "source": [
    "smape_dtr_f = sMAPE(predicted_dtr_f, target_test_f)\n",
    "smape_dtr_f"
   ]
  },
  {
   "cell_type": "code",
   "execution_count": 46,
   "metadata": {},
   "outputs": [
    {
     "data": {
      "text/plain": [
       "-10.112743858296293"
      ]
     },
     "execution_count": 46,
     "metadata": {},
     "output_type": "execute_result"
    }
   ],
   "source": [
    "total_sMAPE(smape_dtr_r, smape_dtr_f).mean()"
   ]
  },
  {
   "cell_type": "markdown",
   "metadata": {},
   "source": [
    "<b>Вывод:</b>"
   ]
  },
  {
   "cell_type": "markdown",
   "metadata": {},
   "source": [
    "Метрика лучшей модели на тестовой выборке ухудшилась, но не критично"
   ]
  },
  {
   "cell_type": "markdown",
   "metadata": {},
   "source": [
    "## Чек-лист готовности проекта"
   ]
  },
  {
   "cell_type": "markdown",
   "metadata": {},
   "source": [
    "- [x]  Jupyter Notebook открыт\n",
    "- [x]  Весь код выполняется без ошибок\n",
    "- [x]  Ячейки с кодом расположены в порядке выполнения\n",
    "- [x]  Выполнен шаг 1: данные подготовлены\n",
    "    - [x]  Проверена формула вычисления эффективности обогащения\n",
    "    - [x]  Проанализированы признаки, недоступные в тестовой выборке\n",
    "    - [x]  Проведена предобработка данных\n",
    "- [x]  Выполнен шаг 2: данные проанализированы\n",
    "    - [x]  Исследовано изменение концентрации элементов на каждом этапе\n",
    "    - [x]  Проанализированы распределения размеров гранул на обучающей и тестовой выборках\n",
    "    - [x]  Исследованы суммарные концентрации\n",
    "- [x]  Выполнен шаг 3: построена модель прогнозирования\n",
    "    - [x]  Написана функция для вычисления итогового *sMAPE*\n",
    "    - [x]  Обучено и проверено несколько моделей\n",
    "    - [ ]  Выбрана лучшая модель, её качество проверено на тестовой выборке"
   ]
  }
 ],
 "metadata": {
  "ExecuteTimeLog": [
   {
    "duration": 2334,
    "start_time": "2022-03-14T22:18:03.178Z"
   },
   {
    "duration": 8855,
    "start_time": "2022-03-14T22:22:12.949Z"
   },
   {
    "duration": 788,
    "start_time": "2022-03-14T22:22:36.188Z"
   },
   {
    "duration": 10698,
    "start_time": "2022-03-14T22:22:36.978Z"
   },
   {
    "duration": 1172,
    "start_time": "2022-03-14T22:23:14.002Z"
   },
   {
    "duration": 31,
    "start_time": "2022-03-14T22:23:18.906Z"
   },
   {
    "duration": 16,
    "start_time": "2022-03-14T22:23:22.637Z"
   },
   {
    "duration": 25,
    "start_time": "2022-03-14T22:23:51.616Z"
   },
   {
    "duration": 12,
    "start_time": "2022-03-14T22:24:01.275Z"
   },
   {
    "duration": 11,
    "start_time": "2022-03-14T22:25:06.670Z"
   },
   {
    "duration": 18,
    "start_time": "2022-03-14T22:25:25.173Z"
   },
   {
    "duration": 251,
    "start_time": "2022-03-15T12:48:55.921Z"
   },
   {
    "duration": 718,
    "start_time": "2022-03-15T12:49:01.162Z"
   },
   {
    "duration": 981,
    "start_time": "2022-03-15T12:49:01.882Z"
   },
   {
    "duration": 47,
    "start_time": "2022-03-15T12:49:02.865Z"
   },
   {
    "duration": 15,
    "start_time": "2022-03-15T12:49:02.914Z"
   },
   {
    "duration": 43,
    "start_time": "2022-03-15T12:49:02.931Z"
   },
   {
    "duration": 23,
    "start_time": "2022-03-15T12:50:26.120Z"
   },
   {
    "duration": 587,
    "start_time": "2022-03-15T13:10:08.457Z"
   },
   {
    "duration": 8,
    "start_time": "2022-03-15T13:10:20.103Z"
   },
   {
    "duration": 350,
    "start_time": "2022-03-15T13:11:12.480Z"
   },
   {
    "duration": 7,
    "start_time": "2022-03-15T13:11:19.776Z"
   },
   {
    "duration": 5,
    "start_time": "2022-03-15T13:11:20.239Z"
   },
   {
    "duration": 5,
    "start_time": "2022-03-15T13:12:29.144Z"
   },
   {
    "duration": 210,
    "start_time": "2022-03-15T13:19:01.721Z"
   },
   {
    "duration": 7,
    "start_time": "2022-03-15T13:20:38.718Z"
   },
   {
    "duration": 3,
    "start_time": "2022-03-15T13:21:08.282Z"
   },
   {
    "duration": 268,
    "start_time": "2022-03-15T13:21:20.050Z"
   },
   {
    "duration": 232,
    "start_time": "2022-03-15T13:21:29.269Z"
   },
   {
    "duration": 222,
    "start_time": "2022-03-15T13:21:36.242Z"
   },
   {
    "duration": 202,
    "start_time": "2022-03-15T13:22:42.634Z"
   },
   {
    "duration": 163,
    "start_time": "2022-03-15T13:23:54.327Z"
   },
   {
    "duration": 6,
    "start_time": "2022-03-15T13:24:02.606Z"
   },
   {
    "duration": 10,
    "start_time": "2022-03-15T13:24:34.522Z"
   },
   {
    "duration": 687,
    "start_time": "2022-03-15T13:59:12.974Z"
   },
   {
    "duration": 560,
    "start_time": "2022-03-15T13:59:13.663Z"
   },
   {
    "duration": 992,
    "start_time": "2022-03-15T13:59:14.228Z"
   },
   {
    "duration": 52,
    "start_time": "2022-03-15T13:59:15.222Z"
   },
   {
    "duration": 36,
    "start_time": "2022-03-15T13:59:15.276Z"
   },
   {
    "duration": 17,
    "start_time": "2022-03-15T13:59:15.314Z"
   },
   {
    "duration": 7,
    "start_time": "2022-03-15T13:59:15.333Z"
   },
   {
    "duration": 7,
    "start_time": "2022-03-15T13:59:15.364Z"
   },
   {
    "duration": 25,
    "start_time": "2022-03-15T13:59:15.373Z"
   },
   {
    "duration": 4750,
    "start_time": "2022-03-15T14:03:43.206Z"
   },
   {
    "duration": 6,
    "start_time": "2022-03-15T14:03:55.157Z"
   },
   {
    "duration": 61,
    "start_time": "2022-03-15T14:08:33.751Z"
   },
   {
    "duration": 179,
    "start_time": "2022-03-15T14:08:49.217Z"
   },
   {
    "duration": 6,
    "start_time": "2022-03-15T14:08:52.943Z"
   },
   {
    "duration": 4401,
    "start_time": "2022-03-15T14:09:07.330Z"
   },
   {
    "duration": 7,
    "start_time": "2022-03-15T14:09:25.383Z"
   },
   {
    "duration": 6,
    "start_time": "2022-03-15T14:10:01.642Z"
   },
   {
    "duration": 19,
    "start_time": "2022-03-15T14:10:10.258Z"
   },
   {
    "duration": 641,
    "start_time": "2022-03-15T14:12:26.215Z"
   },
   {
    "duration": 445,
    "start_time": "2022-03-15T14:12:26.859Z"
   },
   {
    "duration": 743,
    "start_time": "2022-03-15T14:12:27.306Z"
   },
   {
    "duration": 48,
    "start_time": "2022-03-15T14:12:28.051Z"
   },
   {
    "duration": 25,
    "start_time": "2022-03-15T14:12:28.101Z"
   },
   {
    "duration": 42,
    "start_time": "2022-03-15T14:12:28.128Z"
   },
   {
    "duration": 11,
    "start_time": "2022-03-15T14:12:28.173Z"
   },
   {
    "duration": 17,
    "start_time": "2022-03-15T14:12:28.186Z"
   },
   {
    "duration": 9,
    "start_time": "2022-03-15T14:12:28.205Z"
   },
   {
    "duration": 34,
    "start_time": "2022-03-15T14:13:40.174Z"
   },
   {
    "duration": 10,
    "start_time": "2022-03-15T14:13:47.131Z"
   },
   {
    "duration": 9,
    "start_time": "2022-03-15T14:14:01.519Z"
   },
   {
    "duration": 283,
    "start_time": "2022-03-15T14:17:32.811Z"
   },
   {
    "duration": 179,
    "start_time": "2022-03-15T14:17:52.433Z"
   },
   {
    "duration": 164,
    "start_time": "2022-03-15T14:19:36.813Z"
   },
   {
    "duration": 64,
    "start_time": "2022-03-15T14:21:51.294Z"
   },
   {
    "duration": 224,
    "start_time": "2022-03-15T14:21:56.234Z"
   },
   {
    "duration": 208,
    "start_time": "2022-03-15T14:24:41.175Z"
   },
   {
    "duration": 175,
    "start_time": "2022-03-15T14:26:19.939Z"
   },
   {
    "duration": 184,
    "start_time": "2022-03-15T14:26:45.556Z"
   },
   {
    "duration": 683,
    "start_time": "2022-03-15T14:26:53.296Z"
   },
   {
    "duration": 571,
    "start_time": "2022-03-15T14:26:53.981Z"
   },
   {
    "duration": 1019,
    "start_time": "2022-03-15T14:26:54.555Z"
   },
   {
    "duration": 50,
    "start_time": "2022-03-15T14:26:55.576Z"
   },
   {
    "duration": 51,
    "start_time": "2022-03-15T14:26:55.628Z"
   },
   {
    "duration": 23,
    "start_time": "2022-03-15T14:26:55.682Z"
   },
   {
    "duration": 10,
    "start_time": "2022-03-15T14:26:55.707Z"
   },
   {
    "duration": 5,
    "start_time": "2022-03-15T14:26:55.719Z"
   },
   {
    "duration": 13,
    "start_time": "2022-03-15T14:26:55.726Z"
   },
   {
    "duration": 34,
    "start_time": "2022-03-15T14:26:55.742Z"
   },
   {
    "duration": 246,
    "start_time": "2022-03-15T14:26:55.778Z"
   },
   {
    "duration": 221,
    "start_time": "2022-03-15T14:27:37.478Z"
   },
   {
    "duration": 195,
    "start_time": "2022-03-15T14:27:49.888Z"
   },
   {
    "duration": 92,
    "start_time": "2022-03-15T14:28:47.923Z"
   },
   {
    "duration": 92,
    "start_time": "2022-03-15T14:28:52.707Z"
   },
   {
    "duration": 69,
    "start_time": "2022-03-15T14:29:03.847Z"
   },
   {
    "duration": 124,
    "start_time": "2022-03-15T14:29:11.188Z"
   },
   {
    "duration": 7,
    "start_time": "2022-03-15T14:31:53.835Z"
   },
   {
    "duration": 32,
    "start_time": "2022-03-15T14:32:01.209Z"
   },
   {
    "duration": 44,
    "start_time": "2022-03-15T14:32:08.237Z"
   },
   {
    "duration": 7,
    "start_time": "2022-03-15T14:32:12.914Z"
   },
   {
    "duration": 16,
    "start_time": "2022-03-15T14:32:56.901Z"
   },
   {
    "duration": 16,
    "start_time": "2022-03-15T14:33:05.434Z"
   },
   {
    "duration": 7,
    "start_time": "2022-03-15T14:33:12.690Z"
   },
   {
    "duration": 43,
    "start_time": "2022-03-15T14:35:18.604Z"
   },
   {
    "duration": 6,
    "start_time": "2022-03-15T14:35:24.716Z"
   },
   {
    "duration": 17,
    "start_time": "2022-03-15T14:35:30.284Z"
   },
   {
    "duration": 9,
    "start_time": "2022-03-15T14:36:00.682Z"
   },
   {
    "duration": 7,
    "start_time": "2022-03-15T14:36:01.117Z"
   },
   {
    "duration": 13,
    "start_time": "2022-03-15T14:36:01.887Z"
   },
   {
    "duration": 16,
    "start_time": "2022-03-15T14:36:26.653Z"
   },
   {
    "duration": 66,
    "start_time": "2022-03-15T14:36:36.736Z"
   },
   {
    "duration": 39,
    "start_time": "2022-03-15T14:36:39.471Z"
   },
   {
    "duration": 19,
    "start_time": "2022-03-15T14:36:46.913Z"
   },
   {
    "duration": 6,
    "start_time": "2022-03-15T15:03:45.159Z"
   },
   {
    "duration": 4650,
    "start_time": "2022-03-15T15:04:00.254Z"
   },
   {
    "duration": 7,
    "start_time": "2022-03-15T15:04:10.543Z"
   },
   {
    "duration": 24,
    "start_time": "2022-03-15T15:05:06.043Z"
   },
   {
    "duration": 9,
    "start_time": "2022-03-15T15:09:30.344Z"
   },
   {
    "duration": 9,
    "start_time": "2022-03-15T15:09:38.631Z"
   },
   {
    "duration": 7,
    "start_time": "2022-03-15T15:10:18.188Z"
   },
   {
    "duration": 5,
    "start_time": "2022-03-15T15:10:28.323Z"
   },
   {
    "duration": 5,
    "start_time": "2022-03-15T15:12:36.707Z"
   },
   {
    "duration": 6,
    "start_time": "2022-03-15T15:13:23.760Z"
   },
   {
    "duration": 5,
    "start_time": "2022-03-15T15:13:44.163Z"
   },
   {
    "duration": 6,
    "start_time": "2022-03-15T15:13:44.360Z"
   },
   {
    "duration": 70,
    "start_time": "2022-03-15T15:16:17.774Z"
   },
   {
    "duration": 14,
    "start_time": "2022-03-15T15:19:31.213Z"
   },
   {
    "duration": 8,
    "start_time": "2022-03-15T15:20:32.352Z"
   },
   {
    "duration": 188,
    "start_time": "2022-03-15T15:23:09.994Z"
   },
   {
    "duration": 185,
    "start_time": "2022-03-15T15:23:19.720Z"
   },
   {
    "duration": 179,
    "start_time": "2022-03-15T15:23:38.538Z"
   },
   {
    "duration": 180,
    "start_time": "2022-03-15T15:23:52.497Z"
   },
   {
    "duration": 349,
    "start_time": "2022-03-15T15:25:41.151Z"
   },
   {
    "duration": 359,
    "start_time": "2022-03-15T15:26:12.616Z"
   },
   {
    "duration": 163,
    "start_time": "2022-03-15T15:28:47.794Z"
   },
   {
    "duration": 6,
    "start_time": "2022-03-15T15:28:53.222Z"
   },
   {
    "duration": 7,
    "start_time": "2022-03-15T15:29:01.694Z"
   },
   {
    "duration": 632,
    "start_time": "2022-03-15T15:29:13.570Z"
   },
   {
    "duration": 470,
    "start_time": "2022-03-15T15:29:14.204Z"
   },
   {
    "duration": 689,
    "start_time": "2022-03-15T15:29:14.676Z"
   },
   {
    "duration": 29,
    "start_time": "2022-03-15T15:29:15.368Z"
   },
   {
    "duration": 24,
    "start_time": "2022-03-15T15:29:15.399Z"
   },
   {
    "duration": 43,
    "start_time": "2022-03-15T15:29:15.424Z"
   },
   {
    "duration": 8,
    "start_time": "2022-03-15T15:29:15.469Z"
   },
   {
    "duration": 5,
    "start_time": "2022-03-15T15:29:15.479Z"
   },
   {
    "duration": 8,
    "start_time": "2022-03-15T15:29:15.486Z"
   },
   {
    "duration": 20,
    "start_time": "2022-03-15T15:29:15.495Z"
   },
   {
    "duration": 19,
    "start_time": "2022-03-15T15:29:15.516Z"
   },
   {
    "duration": 30,
    "start_time": "2022-03-15T15:29:15.537Z"
   },
   {
    "duration": 19,
    "start_time": "2022-03-15T15:29:15.569Z"
   },
   {
    "duration": 7,
    "start_time": "2022-03-15T15:29:15.590Z"
   },
   {
    "duration": 7,
    "start_time": "2022-03-15T15:29:15.598Z"
   },
   {
    "duration": 17,
    "start_time": "2022-03-15T15:29:15.607Z"
   },
   {
    "duration": 44,
    "start_time": "2022-03-15T15:29:30.398Z"
   },
   {
    "duration": 54,
    "start_time": "2022-03-15T15:29:35.701Z"
   },
   {
    "duration": 30,
    "start_time": "2022-03-15T15:30:15.406Z"
   },
   {
    "duration": 693,
    "start_time": "2022-03-15T15:30:20.160Z"
   },
   {
    "duration": 439,
    "start_time": "2022-03-15T15:30:20.855Z"
   },
   {
    "duration": 840,
    "start_time": "2022-03-15T15:30:21.296Z"
   },
   {
    "duration": 37,
    "start_time": "2022-03-15T15:30:22.138Z"
   },
   {
    "duration": 24,
    "start_time": "2022-03-15T15:30:22.176Z"
   },
   {
    "duration": 36,
    "start_time": "2022-03-15T15:30:22.202Z"
   },
   {
    "duration": 8,
    "start_time": "2022-03-15T15:30:22.240Z"
   },
   {
    "duration": 12,
    "start_time": "2022-03-15T15:30:22.249Z"
   },
   {
    "duration": 26,
    "start_time": "2022-03-15T15:30:22.263Z"
   },
   {
    "duration": 23,
    "start_time": "2022-03-15T15:30:22.290Z"
   },
   {
    "duration": 41,
    "start_time": "2022-03-15T15:30:22.315Z"
   },
   {
    "duration": 23,
    "start_time": "2022-03-15T15:30:22.358Z"
   },
   {
    "duration": 19,
    "start_time": "2022-03-15T15:30:22.383Z"
   },
   {
    "duration": 10,
    "start_time": "2022-03-15T15:30:22.403Z"
   },
   {
    "duration": 25,
    "start_time": "2022-03-15T15:30:22.415Z"
   },
   {
    "duration": 11,
    "start_time": "2022-03-15T15:30:22.441Z"
   },
   {
    "duration": 8,
    "start_time": "2022-03-15T15:32:07.321Z"
   },
   {
    "duration": 426,
    "start_time": "2022-03-15T15:32:57.003Z"
   },
   {
    "duration": 394,
    "start_time": "2022-03-15T15:33:01.197Z"
   },
   {
    "duration": 1055,
    "start_time": "2022-03-15T15:36:48.485Z"
   },
   {
    "duration": 707,
    "start_time": "2022-03-15T15:36:49.543Z"
   },
   {
    "duration": 883,
    "start_time": "2022-03-15T15:36:50.253Z"
   },
   {
    "duration": 39,
    "start_time": "2022-03-15T15:36:51.138Z"
   },
   {
    "duration": 24,
    "start_time": "2022-03-15T15:36:51.179Z"
   },
   {
    "duration": 18,
    "start_time": "2022-03-15T15:36:51.204Z"
   },
   {
    "duration": 40,
    "start_time": "2022-03-15T15:36:51.223Z"
   },
   {
    "duration": 5,
    "start_time": "2022-03-15T15:36:51.266Z"
   },
   {
    "duration": 7,
    "start_time": "2022-03-15T15:36:51.272Z"
   },
   {
    "duration": 16,
    "start_time": "2022-03-15T15:36:51.281Z"
   },
   {
    "duration": 9,
    "start_time": "2022-03-15T15:36:51.299Z"
   },
   {
    "duration": 57,
    "start_time": "2022-03-15T15:36:51.310Z"
   },
   {
    "duration": 19,
    "start_time": "2022-03-15T15:36:51.369Z"
   },
   {
    "duration": 6,
    "start_time": "2022-03-15T15:36:51.390Z"
   },
   {
    "duration": 12,
    "start_time": "2022-03-15T15:36:51.398Z"
   },
   {
    "duration": 474,
    "start_time": "2022-03-15T15:36:51.412Z"
   },
   {
    "duration": 619,
    "start_time": "2022-03-15T15:38:44.083Z"
   },
   {
    "duration": 477,
    "start_time": "2022-03-15T15:38:44.704Z"
   },
   {
    "duration": 765,
    "start_time": "2022-03-15T15:38:45.183Z"
   },
   {
    "duration": 34,
    "start_time": "2022-03-15T15:38:45.950Z"
   },
   {
    "duration": 25,
    "start_time": "2022-03-15T15:38:45.986Z"
   },
   {
    "duration": 20,
    "start_time": "2022-03-15T15:38:46.013Z"
   },
   {
    "duration": 33,
    "start_time": "2022-03-15T15:38:46.035Z"
   },
   {
    "duration": 26,
    "start_time": "2022-03-15T15:38:46.071Z"
   },
   {
    "duration": 12,
    "start_time": "2022-03-15T15:38:46.101Z"
   },
   {
    "duration": 33,
    "start_time": "2022-03-15T15:38:46.116Z"
   },
   {
    "duration": 19,
    "start_time": "2022-03-15T15:38:46.151Z"
   },
   {
    "duration": 37,
    "start_time": "2022-03-15T15:38:46.172Z"
   },
   {
    "duration": 18,
    "start_time": "2022-03-15T15:38:46.210Z"
   },
   {
    "duration": 6,
    "start_time": "2022-03-15T15:38:46.230Z"
   },
   {
    "duration": 20,
    "start_time": "2022-03-15T15:38:46.237Z"
   },
   {
    "duration": 177,
    "start_time": "2022-03-15T15:38:46.259Z"
   },
   {
    "duration": 516,
    "start_time": "2022-03-15T15:44:30.206Z"
   },
   {
    "duration": 805,
    "start_time": "2022-03-15T15:44:44.085Z"
   },
   {
    "duration": 405,
    "start_time": "2022-03-15T15:44:51.186Z"
   },
   {
    "duration": 498,
    "start_time": "2022-03-15T15:45:01.181Z"
   },
   {
    "duration": 395,
    "start_time": "2022-03-15T15:45:33.197Z"
   },
   {
    "duration": 245,
    "start_time": "2022-03-15T15:45:40.860Z"
   },
   {
    "duration": 351,
    "start_time": "2022-03-15T15:45:55.668Z"
   },
   {
    "duration": 266,
    "start_time": "2022-03-15T15:46:06.432Z"
   },
   {
    "duration": 550,
    "start_time": "2022-03-15T15:47:08.196Z"
   },
   {
    "duration": 248,
    "start_time": "2022-03-15T15:47:27.294Z"
   },
   {
    "duration": 278,
    "start_time": "2022-03-15T15:47:32.664Z"
   },
   {
    "duration": 297,
    "start_time": "2022-03-15T15:48:13.972Z"
   },
   {
    "duration": 296,
    "start_time": "2022-03-15T15:48:27.669Z"
   },
   {
    "duration": 376,
    "start_time": "2022-03-15T15:50:25.167Z"
   },
   {
    "duration": 291,
    "start_time": "2022-03-15T15:50:30.819Z"
   },
   {
    "duration": 678,
    "start_time": "2022-03-15T15:52:00.490Z"
   },
   {
    "duration": 408,
    "start_time": "2022-03-15T15:54:43.830Z"
   },
   {
    "duration": 316,
    "start_time": "2022-03-15T15:54:48.947Z"
   },
   {
    "duration": 510,
    "start_time": "2022-03-15T15:56:43.753Z"
   },
   {
    "duration": 328,
    "start_time": "2022-03-15T15:56:54.976Z"
   },
   {
    "duration": 619,
    "start_time": "2022-03-15T15:57:04.898Z"
   },
   {
    "duration": 417,
    "start_time": "2022-03-15T15:59:03.058Z"
   },
   {
    "duration": 445,
    "start_time": "2022-03-15T15:59:15.981Z"
   },
   {
    "duration": 412,
    "start_time": "2022-03-15T15:59:27.988Z"
   },
   {
    "duration": 415,
    "start_time": "2022-03-15T16:00:22.101Z"
   },
   {
    "duration": 345,
    "start_time": "2022-03-16T12:07:38.518Z"
   },
   {
    "duration": 907,
    "start_time": "2022-03-16T12:07:44.432Z"
   },
   {
    "duration": 613,
    "start_time": "2022-03-16T12:07:45.344Z"
   },
   {
    "duration": 1018,
    "start_time": "2022-03-16T12:07:45.960Z"
   },
   {
    "duration": 46,
    "start_time": "2022-03-16T12:07:46.981Z"
   },
   {
    "duration": 42,
    "start_time": "2022-03-16T12:07:47.042Z"
   },
   {
    "duration": 57,
    "start_time": "2022-03-16T12:07:47.087Z"
   },
   {
    "duration": 12,
    "start_time": "2022-03-16T12:07:47.147Z"
   },
   {
    "duration": 6,
    "start_time": "2022-03-16T12:07:47.165Z"
   },
   {
    "duration": 8,
    "start_time": "2022-03-16T12:07:47.174Z"
   },
   {
    "duration": 18,
    "start_time": "2022-03-16T12:07:47.185Z"
   },
   {
    "duration": 10,
    "start_time": "2022-03-16T12:07:47.244Z"
   },
   {
    "duration": 31,
    "start_time": "2022-03-16T12:07:47.257Z"
   },
   {
    "duration": 26,
    "start_time": "2022-03-16T12:07:47.291Z"
   },
   {
    "duration": 8,
    "start_time": "2022-03-16T12:07:47.342Z"
   },
   {
    "duration": 8,
    "start_time": "2022-03-16T12:07:47.352Z"
   },
   {
    "duration": 725,
    "start_time": "2022-03-16T12:07:47.362Z"
   },
   {
    "duration": 75,
    "start_time": "2022-03-16T12:07:48.090Z"
   },
   {
    "duration": 447,
    "start_time": "2022-03-16T12:10:14.827Z"
   },
   {
    "duration": 347,
    "start_time": "2022-03-16T12:10:42.425Z"
   },
   {
    "duration": 797,
    "start_time": "2022-03-16T12:11:06.094Z"
   },
   {
    "duration": 917,
    "start_time": "2022-03-16T12:11:24.953Z"
   },
   {
    "duration": 853,
    "start_time": "2022-03-16T12:11:31.428Z"
   },
   {
    "duration": 952,
    "start_time": "2022-03-16T12:12:05.805Z"
   },
   {
    "duration": 842,
    "start_time": "2022-03-16T12:12:32.082Z"
   },
   {
    "duration": 908,
    "start_time": "2022-03-16T12:13:08.294Z"
   },
   {
    "duration": 853,
    "start_time": "2022-03-16T12:13:30.056Z"
   },
   {
    "duration": 1017,
    "start_time": "2022-03-16T12:13:38.985Z"
   },
   {
    "duration": 842,
    "start_time": "2022-03-16T12:13:46.036Z"
   },
   {
    "duration": 804,
    "start_time": "2022-03-16T12:13:51.516Z"
   },
   {
    "duration": 799,
    "start_time": "2022-03-16T12:13:59.492Z"
   },
   {
    "duration": 846,
    "start_time": "2022-03-16T12:14:36.109Z"
   },
   {
    "duration": 944,
    "start_time": "2022-03-16T12:14:38.983Z"
   },
   {
    "duration": 6,
    "start_time": "2022-03-16T12:16:47.722Z"
   },
   {
    "duration": 1100,
    "start_time": "2022-03-16T12:17:12.271Z"
   },
   {
    "duration": 782,
    "start_time": "2022-03-16T12:17:43.877Z"
   },
   {
    "duration": 769,
    "start_time": "2022-03-16T12:18:02.603Z"
   },
   {
    "duration": 813,
    "start_time": "2022-03-16T12:18:08.545Z"
   },
   {
    "duration": 802,
    "start_time": "2022-03-16T12:18:14.473Z"
   },
   {
    "duration": 3,
    "start_time": "2022-03-16T12:21:13.586Z"
   },
   {
    "duration": 4,
    "start_time": "2022-03-16T12:21:23.727Z"
   },
   {
    "duration": 1277,
    "start_time": "2022-03-16T12:21:29.710Z"
   },
   {
    "duration": 621,
    "start_time": "2022-03-16T12:21:30.991Z"
   },
   {
    "duration": 4,
    "start_time": "2022-03-16T12:21:31.616Z"
   },
   {
    "duration": 997,
    "start_time": "2022-03-16T12:21:31.623Z"
   },
   {
    "duration": 60,
    "start_time": "2022-03-16T12:21:32.623Z"
   },
   {
    "duration": 66,
    "start_time": "2022-03-16T12:21:32.686Z"
   },
   {
    "duration": 27,
    "start_time": "2022-03-16T12:21:32.755Z"
   },
   {
    "duration": 10,
    "start_time": "2022-03-16T12:21:32.785Z"
   },
   {
    "duration": 5,
    "start_time": "2022-03-16T12:21:32.799Z"
   },
   {
    "duration": 39,
    "start_time": "2022-03-16T12:21:32.806Z"
   },
   {
    "duration": 27,
    "start_time": "2022-03-16T12:21:32.848Z"
   },
   {
    "duration": 10,
    "start_time": "2022-03-16T12:21:32.878Z"
   },
   {
    "duration": 30,
    "start_time": "2022-03-16T12:21:32.890Z"
   },
   {
    "duration": 35,
    "start_time": "2022-03-16T12:21:32.942Z"
   },
   {
    "duration": 9,
    "start_time": "2022-03-16T12:21:32.979Z"
   },
   {
    "duration": 9,
    "start_time": "2022-03-16T12:21:32.990Z"
   },
   {
    "duration": 42,
    "start_time": "2022-03-16T12:21:33.002Z"
   },
   {
    "duration": 831,
    "start_time": "2022-03-16T12:21:33.048Z"
   },
   {
    "duration": 868,
    "start_time": "2022-03-16T12:21:33.883Z"
   },
   {
    "duration": 926,
    "start_time": "2022-03-16T12:21:34.755Z"
   },
   {
    "duration": 922,
    "start_time": "2022-03-16T12:21:35.684Z"
   },
   {
    "duration": 90,
    "start_time": "2022-03-16T12:21:36.609Z"
   },
   {
    "duration": 570,
    "start_time": "2022-03-16T12:23:23.898Z"
   },
   {
    "duration": 4,
    "start_time": "2022-03-16T12:23:56.681Z"
   },
   {
    "duration": 5,
    "start_time": "2022-03-16T12:24:02.001Z"
   },
   {
    "duration": 6,
    "start_time": "2022-03-16T12:24:10.422Z"
   },
   {
    "duration": 11,
    "start_time": "2022-03-16T12:28:49.706Z"
   },
   {
    "duration": 4,
    "start_time": "2022-03-16T12:30:13.499Z"
   },
   {
    "duration": 4,
    "start_time": "2022-03-16T12:30:15.872Z"
   },
   {
    "duration": 9,
    "start_time": "2022-03-16T12:30:46.164Z"
   },
   {
    "duration": 59,
    "start_time": "2022-03-16T12:31:13.728Z"
   },
   {
    "duration": 709,
    "start_time": "2022-03-16T12:35:21.374Z"
   },
   {
    "duration": 9,
    "start_time": "2022-03-16T12:36:40.138Z"
   },
   {
    "duration": 354,
    "start_time": "2022-03-16T12:36:50.255Z"
   },
   {
    "duration": 920,
    "start_time": "2022-03-16T12:37:03.356Z"
   },
   {
    "duration": 557,
    "start_time": "2022-03-16T12:37:04.279Z"
   },
   {
    "duration": 59,
    "start_time": "2022-03-16T12:37:04.839Z"
   },
   {
    "duration": 4,
    "start_time": "2022-03-16T12:37:04.901Z"
   },
   {
    "duration": 997,
    "start_time": "2022-03-16T12:37:04.907Z"
   },
   {
    "duration": 60,
    "start_time": "2022-03-16T12:37:05.907Z"
   },
   {
    "duration": 40,
    "start_time": "2022-03-16T12:37:05.970Z"
   },
   {
    "duration": 52,
    "start_time": "2022-03-16T12:37:06.014Z"
   },
   {
    "duration": 10,
    "start_time": "2022-03-16T12:37:06.069Z"
   },
   {
    "duration": 5,
    "start_time": "2022-03-16T12:37:06.082Z"
   },
   {
    "duration": 9,
    "start_time": "2022-03-16T12:37:06.089Z"
   },
   {
    "duration": 50,
    "start_time": "2022-03-16T12:37:06.100Z"
   },
   {
    "duration": 15,
    "start_time": "2022-03-16T12:37:06.153Z"
   },
   {
    "duration": 32,
    "start_time": "2022-03-16T12:37:06.170Z"
   },
   {
    "duration": 42,
    "start_time": "2022-03-16T12:37:06.204Z"
   },
   {
    "duration": 11,
    "start_time": "2022-03-16T12:37:06.249Z"
   },
   {
    "duration": 9,
    "start_time": "2022-03-16T12:37:06.263Z"
   },
   {
    "duration": 6,
    "start_time": "2022-03-16T12:37:06.274Z"
   },
   {
    "duration": 852,
    "start_time": "2022-03-16T12:37:06.283Z"
   },
   {
    "duration": 783,
    "start_time": "2022-03-16T12:37:07.137Z"
   },
   {
    "duration": 938,
    "start_time": "2022-03-16T12:37:07.922Z"
   },
   {
    "duration": 875,
    "start_time": "2022-03-16T12:37:08.863Z"
   },
   {
    "duration": 70,
    "start_time": "2022-03-16T12:37:09.748Z"
   },
   {
    "duration": 17,
    "start_time": "2022-03-16T12:37:09.842Z"
   },
   {
    "duration": 13,
    "start_time": "2022-03-16T12:37:09.862Z"
   },
   {
    "duration": 29,
    "start_time": "2022-03-16T12:37:09.878Z"
   },
   {
    "duration": 16,
    "start_time": "2022-03-16T12:37:09.909Z"
   },
   {
    "duration": 41,
    "start_time": "2022-03-16T12:37:09.928Z"
   },
   {
    "duration": 25,
    "start_time": "2022-03-16T12:37:09.972Z"
   },
   {
    "duration": 465,
    "start_time": "2022-03-16T12:37:10.000Z"
   },
   {
    "duration": 9,
    "start_time": "2022-03-16T12:43:25.236Z"
   },
   {
    "duration": 5,
    "start_time": "2022-03-16T12:44:10.242Z"
   },
   {
    "duration": 272,
    "start_time": "2022-03-16T12:49:25.827Z"
   },
   {
    "duration": 994,
    "start_time": "2022-03-16T12:50:02.266Z"
   },
   {
    "duration": 623,
    "start_time": "2022-03-16T12:50:03.263Z"
   },
   {
    "duration": 60,
    "start_time": "2022-03-16T12:50:03.890Z"
   },
   {
    "duration": 6,
    "start_time": "2022-03-16T12:50:03.954Z"
   },
   {
    "duration": 1072,
    "start_time": "2022-03-16T12:50:03.963Z"
   },
   {
    "duration": 59,
    "start_time": "2022-03-16T12:50:05.038Z"
   },
   {
    "duration": 73,
    "start_time": "2022-03-16T12:50:05.100Z"
   },
   {
    "duration": 29,
    "start_time": "2022-03-16T12:50:05.177Z"
   },
   {
    "duration": 34,
    "start_time": "2022-03-16T12:50:05.209Z"
   },
   {
    "duration": 8,
    "start_time": "2022-03-16T12:50:05.248Z"
   },
   {
    "duration": 12,
    "start_time": "2022-03-16T12:50:05.262Z"
   },
   {
    "duration": 17,
    "start_time": "2022-03-16T12:50:05.277Z"
   },
   {
    "duration": 16,
    "start_time": "2022-03-16T12:50:05.296Z"
   },
   {
    "duration": 63,
    "start_time": "2022-03-16T12:50:05.314Z"
   },
   {
    "duration": 29,
    "start_time": "2022-03-16T12:50:05.379Z"
   },
   {
    "duration": 35,
    "start_time": "2022-03-16T12:50:05.411Z"
   },
   {
    "duration": 12,
    "start_time": "2022-03-16T12:50:05.450Z"
   },
   {
    "duration": 7,
    "start_time": "2022-03-16T12:50:05.464Z"
   },
   {
    "duration": 1114,
    "start_time": "2022-03-16T12:50:05.474Z"
   },
   {
    "duration": 862,
    "start_time": "2022-03-16T12:50:06.591Z"
   },
   {
    "duration": 921,
    "start_time": "2022-03-16T12:50:07.457Z"
   },
   {
    "duration": 950,
    "start_time": "2022-03-16T12:50:08.381Z"
   },
   {
    "duration": 81,
    "start_time": "2022-03-16T12:50:09.342Z"
   },
   {
    "duration": 31,
    "start_time": "2022-03-16T12:50:09.427Z"
   },
   {
    "duration": 14,
    "start_time": "2022-03-16T12:50:09.461Z"
   },
   {
    "duration": 13,
    "start_time": "2022-03-16T12:50:09.478Z"
   },
   {
    "duration": 6,
    "start_time": "2022-03-16T12:50:09.494Z"
   },
   {
    "duration": 41,
    "start_time": "2022-03-16T12:50:09.502Z"
   },
   {
    "duration": 9,
    "start_time": "2022-03-16T12:50:09.546Z"
   },
   {
    "duration": 450,
    "start_time": "2022-03-16T12:50:09.558Z"
   },
   {
    "duration": 4,
    "start_time": "2022-03-16T13:00:58.200Z"
   },
   {
    "duration": 331,
    "start_time": "2022-03-16T13:15:16.986Z"
   },
   {
    "duration": 4,
    "start_time": "2022-03-16T13:15:40.203Z"
   },
   {
    "duration": 375,
    "start_time": "2022-03-16T13:15:45.412Z"
   },
   {
    "duration": 670,
    "start_time": "2022-03-16T13:16:19.280Z"
   },
   {
    "duration": 1211,
    "start_time": "2022-03-16T13:17:10.433Z"
   },
   {
    "duration": 779,
    "start_time": "2022-03-16T13:17:11.648Z"
   },
   {
    "duration": 72,
    "start_time": "2022-03-16T13:17:12.435Z"
   },
   {
    "duration": 5,
    "start_time": "2022-03-16T13:17:12.510Z"
   },
   {
    "duration": 909,
    "start_time": "2022-03-16T13:17:12.542Z"
   },
   {
    "duration": 44,
    "start_time": "2022-03-16T13:17:13.453Z"
   },
   {
    "duration": 67,
    "start_time": "2022-03-16T13:17:13.501Z"
   },
   {
    "duration": 31,
    "start_time": "2022-03-16T13:17:13.572Z"
   },
   {
    "duration": 13,
    "start_time": "2022-03-16T13:17:13.606Z"
   },
   {
    "duration": 7,
    "start_time": "2022-03-16T13:17:13.644Z"
   },
   {
    "duration": 8,
    "start_time": "2022-03-16T13:17:13.654Z"
   },
   {
    "duration": 20,
    "start_time": "2022-03-16T13:17:13.665Z"
   },
   {
    "duration": 12,
    "start_time": "2022-03-16T13:17:13.689Z"
   },
   {
    "duration": 75,
    "start_time": "2022-03-16T13:17:13.704Z"
   },
   {
    "duration": 41,
    "start_time": "2022-03-16T13:17:13.783Z"
   },
   {
    "duration": 22,
    "start_time": "2022-03-16T13:17:13.827Z"
   },
   {
    "duration": 9,
    "start_time": "2022-03-16T13:17:13.852Z"
   },
   {
    "duration": 8,
    "start_time": "2022-03-16T13:17:13.865Z"
   },
   {
    "duration": 1252,
    "start_time": "2022-03-16T13:17:13.876Z"
   },
   {
    "duration": 1207,
    "start_time": "2022-03-16T13:17:15.130Z"
   },
   {
    "duration": 1223,
    "start_time": "2022-03-16T13:17:16.344Z"
   },
   {
    "duration": 810,
    "start_time": "2022-03-16T13:17:17.575Z"
   },
   {
    "duration": 75,
    "start_time": "2022-03-16T13:17:18.388Z"
   },
   {
    "duration": 9,
    "start_time": "2022-03-16T13:17:18.465Z"
   },
   {
    "duration": 13,
    "start_time": "2022-03-16T13:17:18.477Z"
   },
   {
    "duration": 8,
    "start_time": "2022-03-16T13:17:18.492Z"
   },
   {
    "duration": 8,
    "start_time": "2022-03-16T13:17:18.502Z"
   },
   {
    "duration": 31,
    "start_time": "2022-03-16T13:17:18.512Z"
   },
   {
    "duration": 741,
    "start_time": "2022-03-16T13:17:18.546Z"
   },
   {
    "duration": 335,
    "start_time": "2022-03-16T13:21:33.820Z"
   },
   {
    "duration": 4,
    "start_time": "2022-03-16T13:21:49.827Z"
   },
   {
    "duration": 30,
    "start_time": "2022-03-16T13:21:54.133Z"
   },
   {
    "duration": 16,
    "start_time": "2022-03-16T13:22:05.774Z"
   },
   {
    "duration": 592,
    "start_time": "2022-03-16T13:22:07.879Z"
   },
   {
    "duration": 27,
    "start_time": "2022-03-16T13:26:59.517Z"
   },
   {
    "duration": 14,
    "start_time": "2022-03-16T13:26:59.705Z"
   },
   {
    "duration": 5,
    "start_time": "2022-03-16T13:27:32.826Z"
   },
   {
    "duration": 296,
    "start_time": "2022-03-16T13:30:34.303Z"
   },
   {
    "duration": 260,
    "start_time": "2022-03-16T13:30:43.670Z"
   },
   {
    "duration": 319,
    "start_time": "2022-03-16T13:30:48.615Z"
   },
   {
    "duration": 278,
    "start_time": "2022-03-16T13:31:33.100Z"
   },
   {
    "duration": 275,
    "start_time": "2022-03-16T13:31:39.232Z"
   },
   {
    "duration": 488,
    "start_time": "2022-03-16T13:32:49.792Z"
   },
   {
    "duration": 339,
    "start_time": "2022-03-16T13:33:20.653Z"
   },
   {
    "duration": 4,
    "start_time": "2022-03-16T13:33:33.940Z"
   },
   {
    "duration": 315,
    "start_time": "2022-03-16T13:33:38.101Z"
   },
   {
    "duration": 878,
    "start_time": "2022-03-16T13:33:54.021Z"
   },
   {
    "duration": 531,
    "start_time": "2022-03-16T13:33:54.901Z"
   },
   {
    "duration": 46,
    "start_time": "2022-03-16T13:33:55.435Z"
   },
   {
    "duration": 4,
    "start_time": "2022-03-16T13:33:55.484Z"
   },
   {
    "duration": 914,
    "start_time": "2022-03-16T13:33:55.490Z"
   },
   {
    "duration": 57,
    "start_time": "2022-03-16T13:33:56.407Z"
   },
   {
    "duration": 38,
    "start_time": "2022-03-16T13:33:56.467Z"
   },
   {
    "duration": 50,
    "start_time": "2022-03-16T13:33:56.507Z"
   },
   {
    "duration": 11,
    "start_time": "2022-03-16T13:33:56.561Z"
   },
   {
    "duration": 14,
    "start_time": "2022-03-16T13:33:56.575Z"
   },
   {
    "duration": 17,
    "start_time": "2022-03-16T13:33:56.591Z"
   },
   {
    "duration": 29,
    "start_time": "2022-03-16T13:33:56.611Z"
   },
   {
    "duration": 19,
    "start_time": "2022-03-16T13:33:56.642Z"
   },
   {
    "duration": 34,
    "start_time": "2022-03-16T13:33:56.664Z"
   },
   {
    "duration": 25,
    "start_time": "2022-03-16T13:33:56.700Z"
   },
   {
    "duration": 20,
    "start_time": "2022-03-16T13:33:56.728Z"
   },
   {
    "duration": 8,
    "start_time": "2022-03-16T13:33:56.750Z"
   },
   {
    "duration": 6,
    "start_time": "2022-03-16T13:33:56.760Z"
   },
   {
    "duration": 800,
    "start_time": "2022-03-16T13:33:56.768Z"
   },
   {
    "duration": 772,
    "start_time": "2022-03-16T13:33:57.571Z"
   },
   {
    "duration": 764,
    "start_time": "2022-03-16T13:33:58.345Z"
   },
   {
    "duration": 793,
    "start_time": "2022-03-16T13:33:59.112Z"
   },
   {
    "duration": 72,
    "start_time": "2022-03-16T13:33:59.907Z"
   },
   {
    "duration": 33,
    "start_time": "2022-03-16T13:33:59.982Z"
   },
   {
    "duration": 32,
    "start_time": "2022-03-16T13:34:00.017Z"
   },
   {
    "duration": 4,
    "start_time": "2022-03-16T13:34:00.051Z"
   },
   {
    "duration": 10,
    "start_time": "2022-03-16T13:34:00.060Z"
   },
   {
    "duration": 18,
    "start_time": "2022-03-16T13:34:00.072Z"
   },
   {
    "duration": 438,
    "start_time": "2022-03-16T13:34:00.092Z"
   },
   {
    "duration": 671,
    "start_time": "2022-03-16T13:34:21.515Z"
   },
   {
    "duration": 4,
    "start_time": "2022-03-16T13:34:40.363Z"
   },
   {
    "duration": 375580,
    "start_time": "2022-03-16T13:34:43.558Z"
   },
   {
    "duration": 1654,
    "start_time": "2022-03-16T13:45:55.590Z"
   },
   {
    "duration": 698,
    "start_time": "2022-03-16T13:46:58.177Z"
   },
   {
    "duration": 2950,
    "start_time": "2022-03-16T13:48:24.186Z"
   },
   {
    "duration": 31,
    "start_time": "2022-03-16T13:49:42.446Z"
   },
   {
    "duration": 16,
    "start_time": "2022-03-16T13:49:42.628Z"
   },
   {
    "duration": 449,
    "start_time": "2022-03-16T13:50:00.326Z"
   },
   {
    "duration": 962,
    "start_time": "2022-03-16T13:50:23.032Z"
   },
   {
    "duration": 887,
    "start_time": "2022-03-16T13:51:02.629Z"
   },
   {
    "duration": 709,
    "start_time": "2022-03-16T13:51:03.519Z"
   },
   {
    "duration": 51,
    "start_time": "2022-03-16T13:51:04.231Z"
   },
   {
    "duration": 4,
    "start_time": "2022-03-16T13:51:04.285Z"
   },
   {
    "duration": 932,
    "start_time": "2022-03-16T13:51:04.291Z"
   },
   {
    "duration": 49,
    "start_time": "2022-03-16T13:51:05.226Z"
   },
   {
    "duration": 39,
    "start_time": "2022-03-16T13:51:05.278Z"
   },
   {
    "duration": 27,
    "start_time": "2022-03-16T13:51:05.345Z"
   },
   {
    "duration": 11,
    "start_time": "2022-03-16T13:51:05.375Z"
   },
   {
    "duration": 8,
    "start_time": "2022-03-16T13:51:05.388Z"
   },
   {
    "duration": 46,
    "start_time": "2022-03-16T13:51:05.399Z"
   },
   {
    "duration": 14,
    "start_time": "2022-03-16T13:51:05.448Z"
   },
   {
    "duration": 16,
    "start_time": "2022-03-16T13:51:05.465Z"
   },
   {
    "duration": 31,
    "start_time": "2022-03-16T13:51:05.484Z"
   },
   {
    "duration": 45,
    "start_time": "2022-03-16T13:51:05.518Z"
   },
   {
    "duration": 9,
    "start_time": "2022-03-16T13:51:05.566Z"
   },
   {
    "duration": 10,
    "start_time": "2022-03-16T13:51:05.577Z"
   },
   {
    "duration": 6,
    "start_time": "2022-03-16T13:51:05.590Z"
   },
   {
    "duration": 802,
    "start_time": "2022-03-16T13:51:05.644Z"
   },
   {
    "duration": 745,
    "start_time": "2022-03-16T13:51:06.449Z"
   },
   {
    "duration": 863,
    "start_time": "2022-03-16T13:51:07.196Z"
   },
   {
    "duration": 819,
    "start_time": "2022-03-16T13:51:08.062Z"
   },
   {
    "duration": 74,
    "start_time": "2022-03-16T13:51:08.886Z"
   },
   {
    "duration": 36,
    "start_time": "2022-03-16T13:51:08.963Z"
   },
   {
    "duration": 42,
    "start_time": "2022-03-16T13:51:09.002Z"
   },
   {
    "duration": 5,
    "start_time": "2022-03-16T13:51:09.047Z"
   },
   {
    "duration": 11,
    "start_time": "2022-03-16T13:51:09.056Z"
   },
   {
    "duration": 5,
    "start_time": "2022-03-16T13:51:09.070Z"
   },
   {
    "duration": 576,
    "start_time": "2022-03-16T13:51:09.078Z"
   },
   {
    "duration": -558,
    "start_time": "2022-03-16T13:51:10.215Z"
   },
   {
    "duration": 34,
    "start_time": "2022-03-16T13:53:54.211Z"
   },
   {
    "duration": 18,
    "start_time": "2022-03-16T13:53:54.371Z"
   },
   {
    "duration": 183824,
    "start_time": "2022-03-16T13:54:14.627Z"
   },
   {
    "duration": 2467,
    "start_time": "2022-03-16T13:57:18.453Z"
   },
   {
    "duration": 1995,
    "start_time": "2022-03-16T13:58:10.164Z"
   },
   {
    "duration": 183676,
    "start_time": "2022-03-16T13:58:35.802Z"
   },
   {
    "duration": 2039,
    "start_time": "2022-03-16T14:03:17.556Z"
   },
   {
    "duration": 7,
    "start_time": "2022-03-16T14:03:53.729Z"
   },
   {
    "duration": 5,
    "start_time": "2022-03-16T14:42:15.550Z"
   },
   {
    "duration": 1503087,
    "start_time": "2022-03-16T14:44:35.241Z"
   },
   {
    "duration": 1762,
    "start_time": "2022-03-16T15:12:00.562Z"
   },
   {
    "duration": 6,
    "start_time": "2022-03-16T15:12:22.313Z"
   },
   {
    "duration": 6,
    "start_time": "2022-03-16T15:12:26.283Z"
   },
   {
    "duration": 6,
    "start_time": "2022-03-16T15:12:31.296Z"
   },
   {
    "duration": 1747,
    "start_time": "2022-03-16T15:12:39.864Z"
   },
   {
    "duration": 2005,
    "start_time": "2022-03-16T15:12:50.707Z"
   },
   {
    "duration": 4978,
    "start_time": "2022-03-16T15:13:35.397Z"
   },
   {
    "duration": 5804,
    "start_time": "2022-03-16T15:13:48.028Z"
   },
   {
    "duration": 4915,
    "start_time": "2022-03-16T15:14:01.129Z"
   },
   {
    "duration": 5044,
    "start_time": "2022-03-16T15:14:17.500Z"
   },
   {
    "duration": 1563018,
    "start_time": "2022-03-16T15:14:22.548Z"
   },
   {
    "duration": 17000,
    "start_time": "2022-03-16T15:46:38.716Z"
   },
   {
    "duration": 278,
    "start_time": "2022-03-16T15:47:43.159Z"
   },
   {
    "duration": 6,
    "start_time": "2022-03-16T15:48:06.617Z"
   },
   {
    "duration": 215,
    "start_time": "2022-03-16T15:51:01.112Z"
   },
   {
    "duration": 213,
    "start_time": "2022-03-16T15:51:01.330Z"
   },
   {
    "duration": 1565,
    "start_time": "2022-03-16T15:51:16.684Z"
   },
   {
    "duration": 2363,
    "start_time": "2022-03-16T15:51:39.922Z"
   },
   {
    "duration": 6,
    "start_time": "2022-03-16T15:51:55.140Z"
   },
   {
    "duration": 299,
    "start_time": "2022-03-16T15:55:11.310Z"
   },
   {
    "duration": 2943,
    "start_time": "2022-03-16T15:56:48.540Z"
   },
   {
    "duration": 2016,
    "start_time": "2022-03-16T15:57:10.212Z"
   },
   {
    "duration": 6,
    "start_time": "2022-03-16T15:57:27.436Z"
   },
   {
    "duration": 330,
    "start_time": "2022-03-16T15:57:33.270Z"
   },
   {
    "duration": 7,
    "start_time": "2022-03-16T15:57:37.055Z"
   },
   {
    "duration": 894,
    "start_time": "2022-03-16T15:57:48.431Z"
   },
   {
    "duration": 624,
    "start_time": "2022-03-16T15:57:49.329Z"
   },
   {
    "duration": 50,
    "start_time": "2022-03-16T15:57:49.956Z"
   },
   {
    "duration": 4,
    "start_time": "2022-03-16T15:57:50.009Z"
   },
   {
    "duration": 929,
    "start_time": "2022-03-16T15:57:50.015Z"
   },
   {
    "duration": 46,
    "start_time": "2022-03-16T15:57:50.946Z"
   },
   {
    "duration": 66,
    "start_time": "2022-03-16T15:57:50.995Z"
   },
   {
    "duration": 25,
    "start_time": "2022-03-16T15:57:51.063Z"
   },
   {
    "duration": 67,
    "start_time": "2022-03-16T15:57:51.092Z"
   },
   {
    "duration": 6,
    "start_time": "2022-03-16T15:57:51.162Z"
   },
   {
    "duration": 9,
    "start_time": "2022-03-16T15:57:51.171Z"
   },
   {
    "duration": 16,
    "start_time": "2022-03-16T15:57:51.182Z"
   },
   {
    "duration": 21,
    "start_time": "2022-03-16T15:57:51.200Z"
   },
   {
    "duration": 42,
    "start_time": "2022-03-16T15:57:51.224Z"
   },
   {
    "duration": 25,
    "start_time": "2022-03-16T15:57:51.269Z"
   },
   {
    "duration": 8,
    "start_time": "2022-03-16T15:57:51.296Z"
   },
   {
    "duration": 38,
    "start_time": "2022-03-16T15:57:51.306Z"
   },
   {
    "duration": 8,
    "start_time": "2022-03-16T15:57:51.347Z"
   },
   {
    "duration": 856,
    "start_time": "2022-03-16T15:57:51.358Z"
   },
   {
    "duration": 800,
    "start_time": "2022-03-16T15:57:52.216Z"
   },
   {
    "duration": 823,
    "start_time": "2022-03-16T15:57:53.018Z"
   },
   {
    "duration": 872,
    "start_time": "2022-03-16T15:57:53.844Z"
   },
   {
    "duration": 72,
    "start_time": "2022-03-16T15:57:54.718Z"
   },
   {
    "duration": 27,
    "start_time": "2022-03-16T15:57:54.793Z"
   },
   {
    "duration": 31,
    "start_time": "2022-03-16T15:57:54.823Z"
   },
   {
    "duration": 19,
    "start_time": "2022-03-16T15:57:54.857Z"
   },
   {
    "duration": 16,
    "start_time": "2022-03-16T15:57:54.883Z"
   },
   {
    "duration": 23,
    "start_time": "2022-03-16T15:57:54.901Z"
   },
   {
    "duration": 216980,
    "start_time": "2022-03-16T15:57:54.926Z"
   },
   {
    "duration": 216551,
    "start_time": "2022-03-16T16:01:31.909Z"
   },
   {
    "duration": 7407,
    "start_time": "2022-03-16T16:05:08.463Z"
   },
   {
    "duration": 5828,
    "start_time": "2022-03-16T16:05:15.873Z"
   },
   {
    "duration": 6,
    "start_time": "2022-03-16T16:05:21.703Z"
   },
   {
    "duration": 1563507,
    "start_time": "2022-03-16T16:05:21.711Z"
   },
   {
    "duration": 1478911,
    "start_time": "2022-03-16T16:31:25.222Z"
   },
   {
    "duration": 4988,
    "start_time": "2022-03-16T16:56:04.142Z"
   },
   {
    "duration": 17204,
    "start_time": "2022-03-16T16:56:09.133Z"
   },
   {
    "duration": 6,
    "start_time": "2022-03-16T16:56:26.344Z"
   },
   {
    "duration": 2594,
    "start_time": "2022-03-16T16:56:26.353Z"
   },
   {
    "duration": 1900,
    "start_time": "2022-03-16T16:56:28.950Z"
   },
   {
    "duration": 5,
    "start_time": "2022-03-16T16:56:30.853Z"
   },
   {
    "duration": 2571,
    "start_time": "2022-03-16T16:56:30.861Z"
   },
   {
    "duration": 2108,
    "start_time": "2022-03-16T16:56:33.435Z"
   },
   {
    "duration": 6,
    "start_time": "2022-03-16T16:56:35.546Z"
   },
   {
    "duration": 149,
    "start_time": "2022-03-17T19:31:48.308Z"
   },
   {
    "duration": 1044,
    "start_time": "2022-03-17T19:35:57.250Z"
   },
   {
    "duration": 2424,
    "start_time": "2022-03-17T19:45:16.096Z"
   },
   {
    "duration": 1238,
    "start_time": "2022-03-17T20:00:00.983Z"
   },
   {
    "duration": 236032,
    "start_time": "2022-03-17T20:00:07.089Z"
   },
   {
    "duration": 98,
    "start_time": "2022-03-17T20:04:03.123Z"
   },
   {
    "duration": 4,
    "start_time": "2022-03-17T20:04:03.223Z"
   },
   {
    "duration": 980,
    "start_time": "2022-03-17T20:04:03.230Z"
   },
   {
    "duration": 92,
    "start_time": "2022-03-17T20:04:04.213Z"
   },
   {
    "duration": 43,
    "start_time": "2022-03-17T20:04:04.307Z"
   },
   {
    "duration": 44,
    "start_time": "2022-03-17T20:04:04.352Z"
   },
   {
    "duration": 11,
    "start_time": "2022-03-17T20:04:04.399Z"
   },
   {
    "duration": 61,
    "start_time": "2022-03-17T20:04:04.413Z"
   },
   {
    "duration": 7,
    "start_time": "2022-03-17T20:04:04.478Z"
   },
   {
    "duration": 15,
    "start_time": "2022-03-17T20:04:04.488Z"
   },
   {
    "duration": 10,
    "start_time": "2022-03-17T20:04:04.505Z"
   },
   {
    "duration": 78,
    "start_time": "2022-03-17T20:04:04.517Z"
   },
   {
    "duration": 29,
    "start_time": "2022-03-17T20:04:04.597Z"
   },
   {
    "duration": 8,
    "start_time": "2022-03-17T20:04:04.628Z"
   },
   {
    "duration": 12,
    "start_time": "2022-03-17T20:04:04.638Z"
   },
   {
    "duration": 28,
    "start_time": "2022-03-17T20:04:04.653Z"
   },
   {
    "duration": 650,
    "start_time": "2022-03-17T20:04:04.684Z"
   },
   {
    "duration": 1083,
    "start_time": "2022-03-17T20:04:05.336Z"
   },
   {
    "duration": 918,
    "start_time": "2022-03-17T20:04:06.422Z"
   },
   {
    "duration": 685,
    "start_time": "2022-03-17T20:10:56.080Z"
   },
   {
    "duration": 67,
    "start_time": "2022-03-17T20:13:33.935Z"
   },
   {
    "duration": 29,
    "start_time": "2022-03-17T20:15:43.384Z"
   },
   {
    "duration": 4,
    "start_time": "2022-03-17T20:17:37.206Z"
   },
   {
    "duration": 4,
    "start_time": "2022-03-17T20:17:37.649Z"
   },
   {
    "duration": 4,
    "start_time": "2022-03-17T20:17:38.671Z"
   },
   {
    "duration": 24,
    "start_time": "2022-03-17T20:17:44.344Z"
   },
   {
    "duration": 19521,
    "start_time": "2022-03-17T20:18:47.287Z"
   },
   {
    "duration": 25513,
    "start_time": "2022-03-17T20:19:20.939Z"
   },
   {
    "duration": 9031,
    "start_time": "2022-03-17T20:21:09.416Z"
   },
   {
    "duration": 5596,
    "start_time": "2022-03-17T20:21:18.450Z"
   },
   {
    "duration": 6,
    "start_time": "2022-03-17T20:21:41.985Z"
   },
   {
    "duration": 481951,
    "start_time": "2022-03-17T20:25:58.489Z"
   },
   {
    "duration": 18279,
    "start_time": "2022-03-17T20:34:00.443Z"
   },
   {
    "duration": 3593,
    "start_time": "2022-03-17T20:34:18.725Z"
   },
   {
    "duration": 0,
    "start_time": "2022-03-17T20:34:22.321Z"
   },
   {
    "duration": 0,
    "start_time": "2022-03-17T20:34:22.322Z"
   },
   {
    "duration": 0,
    "start_time": "2022-03-17T20:34:22.325Z"
   },
   {
    "duration": 0,
    "start_time": "2022-03-17T20:34:22.327Z"
   },
   {
    "duration": 0,
    "start_time": "2022-03-17T20:34:22.329Z"
   },
   {
    "duration": 5,
    "start_time": "2022-03-17T20:34:31.960Z"
   },
   {
    "duration": 4,
    "start_time": "2022-03-17T20:34:32.405Z"
   },
   {
    "duration": 5,
    "start_time": "2022-03-17T20:34:32.932Z"
   },
   {
    "duration": 22961,
    "start_time": "2022-03-17T20:34:51.544Z"
   },
   {
    "duration": 19802,
    "start_time": "2022-03-17T20:35:14.509Z"
   },
   {
    "duration": 6540,
    "start_time": "2022-03-17T20:35:34.314Z"
   },
   {
    "duration": 474,
    "start_time": "2022-03-17T20:35:50.325Z"
   },
   {
    "duration": 437,
    "start_time": "2022-03-17T20:36:11.097Z"
   },
   {
    "duration": 6,
    "start_time": "2022-03-17T20:36:15.086Z"
   },
   {
    "duration": 5,
    "start_time": "2022-03-17T20:37:00.712Z"
   },
   {
    "duration": 4,
    "start_time": "2022-03-17T20:37:01.383Z"
   },
   {
    "duration": 4,
    "start_time": "2022-03-17T20:37:01.812Z"
   },
   {
    "duration": 17708,
    "start_time": "2022-03-17T20:38:47.806Z"
   },
   {
    "duration": 18274,
    "start_time": "2022-03-17T20:39:05.516Z"
   },
   {
    "duration": 6333,
    "start_time": "2022-03-17T20:39:23.793Z"
   },
   {
    "duration": 451,
    "start_time": "2022-03-17T20:39:30.128Z"
   },
   {
    "duration": 5,
    "start_time": "2022-03-17T20:39:30.582Z"
   },
   {
    "duration": 134,
    "start_time": "2022-03-17T20:39:57.791Z"
   },
   {
    "duration": 23678,
    "start_time": "2022-03-17T20:40:07.306Z"
   },
   {
    "duration": 23282,
    "start_time": "2022-03-17T20:40:41.439Z"
   },
   {
    "duration": 5032,
    "start_time": "2022-03-17T20:41:08.297Z"
   },
   {
    "duration": 16973,
    "start_time": "2022-03-17T20:41:13.560Z"
   },
   {
    "duration": 6,
    "start_time": "2022-03-17T20:41:30.536Z"
   },
   {
    "duration": 1835,
    "start_time": "2022-03-17T20:41:30.546Z"
   },
   {
    "duration": 2093,
    "start_time": "2022-03-17T20:41:32.385Z"
   },
   {
    "duration": 95,
    "start_time": "2022-03-17T20:41:34.481Z"
   },
   {
    "duration": 2092,
    "start_time": "2022-03-17T20:44:30.471Z"
   },
   {
    "duration": 176,
    "start_time": "2022-03-17T20:44:32.566Z"
   },
   {
    "duration": 5,
    "start_time": "2022-03-17T20:44:32.744Z"
   },
   {
    "duration": 71,
    "start_time": "2022-03-17T22:41:08.416Z"
   },
   {
    "duration": 8,
    "start_time": "2022-03-17T22:41:16.901Z"
   },
   {
    "duration": 48,
    "start_time": "2022-03-18T11:15:52.926Z"
   },
   {
    "duration": 949,
    "start_time": "2022-03-18T11:15:58.474Z"
   },
   {
    "duration": 927,
    "start_time": "2022-03-18T11:15:59.425Z"
   },
   {
    "duration": 56,
    "start_time": "2022-03-18T11:16:00.356Z"
   },
   {
    "duration": 3,
    "start_time": "2022-03-18T11:16:00.414Z"
   },
   {
    "duration": 787,
    "start_time": "2022-03-18T11:16:00.419Z"
   },
   {
    "duration": 30,
    "start_time": "2022-03-18T11:16:01.208Z"
   },
   {
    "duration": 16,
    "start_time": "2022-03-18T11:16:01.240Z"
   },
   {
    "duration": 53,
    "start_time": "2022-03-18T11:16:01.258Z"
   },
   {
    "duration": 35,
    "start_time": "2022-03-18T11:16:01.313Z"
   },
   {
    "duration": 33,
    "start_time": "2022-03-18T11:16:01.349Z"
   },
   {
    "duration": 40,
    "start_time": "2022-03-18T11:16:01.386Z"
   },
   {
    "duration": 24,
    "start_time": "2022-03-18T11:16:01.428Z"
   },
   {
    "duration": 27,
    "start_time": "2022-03-18T11:16:01.454Z"
   },
   {
    "duration": 52,
    "start_time": "2022-03-18T11:16:01.483Z"
   },
   {
    "duration": 21,
    "start_time": "2022-03-18T11:16:01.537Z"
   },
   {
    "duration": 42,
    "start_time": "2022-03-18T11:16:01.560Z"
   },
   {
    "duration": 49,
    "start_time": "2022-03-18T11:16:01.604Z"
   },
   {
    "duration": 13,
    "start_time": "2022-03-18T11:16:01.655Z"
   },
   {
    "duration": 68,
    "start_time": "2022-03-18T11:16:01.669Z"
   },
   {
    "duration": 30,
    "start_time": "2022-03-18T11:16:01.739Z"
   },
   {
    "duration": 452,
    "start_time": "2022-03-18T11:16:01.770Z"
   },
   {
    "duration": 344,
    "start_time": "2022-03-18T11:16:02.224Z"
   },
   {
    "duration": 431,
    "start_time": "2022-03-18T11:16:02.570Z"
   },
   {
    "duration": 316,
    "start_time": "2022-03-18T11:16:03.003Z"
   },
   {
    "duration": 39,
    "start_time": "2022-03-18T11:16:03.320Z"
   },
   {
    "duration": 3,
    "start_time": "2022-03-18T11:16:03.361Z"
   },
   {
    "duration": 311,
    "start_time": "2022-03-18T11:16:03.383Z"
   },
   {
    "duration": 24,
    "start_time": "2022-03-18T11:16:03.696Z"
   },
   {
    "duration": 12,
    "start_time": "2022-03-18T11:16:03.721Z"
   },
   {
    "duration": 3,
    "start_time": "2022-03-18T11:16:03.735Z"
   },
   {
    "duration": 6,
    "start_time": "2022-03-18T11:16:03.739Z"
   },
   {
    "duration": 7,
    "start_time": "2022-03-18T11:16:03.747Z"
   },
   {
    "duration": 12956,
    "start_time": "2022-03-18T11:16:03.756Z"
   },
   {
    "duration": 4950,
    "start_time": "2022-03-18T11:16:16.714Z"
   },
   {
    "duration": 4489,
    "start_time": "2022-03-18T11:16:21.665Z"
   },
   {
    "duration": 4,
    "start_time": "2022-03-18T11:16:26.156Z"
   },
   {
    "duration": 18937,
    "start_time": "2022-03-18T11:16:26.162Z"
   },
   {
    "duration": 4333,
    "start_time": "2022-03-18T11:16:45.103Z"
   },
   {
    "duration": 13143,
    "start_time": "2022-03-18T11:16:49.438Z"
   },
   {
    "duration": 5,
    "start_time": "2022-03-18T11:17:02.584Z"
   },
   {
    "duration": 2016,
    "start_time": "2022-03-18T11:17:02.590Z"
   },
   {
    "duration": 1678,
    "start_time": "2022-03-18T11:17:04.610Z"
   },
   {
    "duration": 7,
    "start_time": "2022-03-18T11:17:06.290Z"
   },
   {
    "duration": 1666,
    "start_time": "2022-03-18T11:17:06.299Z"
   },
   {
    "duration": 1605,
    "start_time": "2022-03-18T11:17:07.967Z"
   },
   {
    "duration": 15,
    "start_time": "2022-03-18T11:17:09.573Z"
   },
   {
    "duration": 20,
    "start_time": "2022-03-18T11:17:09.591Z"
   },
   {
    "duration": 5,
    "start_time": "2022-03-18T11:20:50.952Z"
   },
   {
    "duration": 753,
    "start_time": "2022-03-18T11:20:59.348Z"
   },
   {
    "duration": 5,
    "start_time": "2022-03-18T11:22:24.041Z"
   },
   {
    "duration": 5,
    "start_time": "2022-03-18T11:22:52.806Z"
   },
   {
    "duration": 591,
    "start_time": "2022-03-18T11:22:54.867Z"
   },
   {
    "duration": 351,
    "start_time": "2022-03-18T11:23:32.776Z"
   },
   {
    "duration": 6,
    "start_time": "2022-03-18T11:24:37.308Z"
   },
   {
    "duration": 436,
    "start_time": "2022-03-18T11:24:56.472Z"
   },
   {
    "duration": 4198,
    "start_time": "2022-03-18T11:25:29.068Z"
   },
   {
    "duration": 0,
    "start_time": "2022-03-18T11:25:33.268Z"
   },
   {
    "duration": 10,
    "start_time": "2022-03-18T11:26:53.577Z"
   },
   {
    "duration": 457,
    "start_time": "2022-03-18T11:26:54.608Z"
   },
   {
    "duration": 510,
    "start_time": "2022-03-18T11:28:09.505Z"
   },
   {
    "duration": 415,
    "start_time": "2022-03-18T11:28:19.156Z"
   },
   {
    "duration": 417,
    "start_time": "2022-03-18T11:28:23.655Z"
   },
   {
    "duration": 8,
    "start_time": "2022-03-18T11:32:03.698Z"
   },
   {
    "duration": 12,
    "start_time": "2022-03-18T11:32:18.381Z"
   },
   {
    "duration": 1569,
    "start_time": "2022-03-18T11:33:00.735Z"
   },
   {
    "duration": 955,
    "start_time": "2022-03-18T11:36:07.536Z"
   },
   {
    "duration": 1093,
    "start_time": "2022-03-18T11:36:18.899Z"
   },
   {
    "duration": 5,
    "start_time": "2022-03-18T11:36:21.008Z"
   },
   {
    "duration": 972,
    "start_time": "2022-03-18T11:36:27.575Z"
   },
   {
    "duration": 877,
    "start_time": "2022-03-18T11:36:28.549Z"
   },
   {
    "duration": 42,
    "start_time": "2022-03-18T11:36:29.427Z"
   },
   {
    "duration": 3,
    "start_time": "2022-03-18T11:36:29.471Z"
   },
   {
    "duration": 718,
    "start_time": "2022-03-18T11:36:29.480Z"
   },
   {
    "duration": 30,
    "start_time": "2022-03-18T11:36:30.200Z"
   },
   {
    "duration": 18,
    "start_time": "2022-03-18T11:36:30.232Z"
   },
   {
    "duration": 51,
    "start_time": "2022-03-18T11:36:30.251Z"
   },
   {
    "duration": 11,
    "start_time": "2022-03-18T11:36:30.304Z"
   },
   {
    "duration": 18,
    "start_time": "2022-03-18T11:36:30.318Z"
   },
   {
    "duration": 7,
    "start_time": "2022-03-18T11:36:30.338Z"
   },
   {
    "duration": 9,
    "start_time": "2022-03-18T11:36:30.346Z"
   },
   {
    "duration": 26,
    "start_time": "2022-03-18T11:36:30.357Z"
   },
   {
    "duration": 19,
    "start_time": "2022-03-18T11:36:30.385Z"
   },
   {
    "duration": 10,
    "start_time": "2022-03-18T11:36:30.405Z"
   },
   {
    "duration": 33,
    "start_time": "2022-03-18T11:36:30.417Z"
   },
   {
    "duration": 16,
    "start_time": "2022-03-18T11:36:30.452Z"
   },
   {
    "duration": 14,
    "start_time": "2022-03-18T11:36:30.470Z"
   },
   {
    "duration": 28,
    "start_time": "2022-03-18T11:36:30.485Z"
   },
   {
    "duration": 13,
    "start_time": "2022-03-18T11:36:30.515Z"
   },
   {
    "duration": 329,
    "start_time": "2022-03-18T11:36:30.530Z"
   },
   {
    "duration": 322,
    "start_time": "2022-03-18T11:36:30.861Z"
   },
   {
    "duration": 406,
    "start_time": "2022-03-18T11:36:31.184Z"
   },
   {
    "duration": 297,
    "start_time": "2022-03-18T11:36:31.592Z"
   },
   {
    "duration": 42,
    "start_time": "2022-03-18T11:36:31.891Z"
   },
   {
    "duration": 5,
    "start_time": "2022-03-18T11:36:31.936Z"
   },
   {
    "duration": 440,
    "start_time": "2022-03-18T11:36:31.943Z"
   },
   {
    "duration": 23,
    "start_time": "2022-03-18T11:36:32.386Z"
   },
   {
    "duration": 13,
    "start_time": "2022-03-18T11:36:32.410Z"
   },
   {
    "duration": 3,
    "start_time": "2022-03-18T11:36:32.425Z"
   },
   {
    "duration": 6,
    "start_time": "2022-03-18T11:36:32.430Z"
   },
   {
    "duration": 9,
    "start_time": "2022-03-18T11:36:32.437Z"
   },
   {
    "duration": 12074,
    "start_time": "2022-03-18T11:36:32.448Z"
   },
   {
    "duration": 4515,
    "start_time": "2022-03-18T11:36:44.524Z"
   },
   {
    "duration": 4810,
    "start_time": "2022-03-18T11:36:49.040Z"
   },
   {
    "duration": 5,
    "start_time": "2022-03-18T11:36:53.851Z"
   },
   {
    "duration": 16998,
    "start_time": "2022-03-18T11:36:53.858Z"
   },
   {
    "duration": 3563,
    "start_time": "2022-03-18T11:37:10.858Z"
   },
   {
    "duration": 12724,
    "start_time": "2022-03-18T11:37:14.423Z"
   },
   {
    "duration": 4,
    "start_time": "2022-03-18T11:37:27.148Z"
   },
   {
    "duration": 1630,
    "start_time": "2022-03-18T11:37:27.153Z"
   },
   {
    "duration": 1626,
    "start_time": "2022-03-18T11:37:28.785Z"
   },
   {
    "duration": 5,
    "start_time": "2022-03-18T11:37:30.413Z"
   },
   {
    "duration": 1565,
    "start_time": "2022-03-18T11:37:30.420Z"
   },
   {
    "duration": 1199,
    "start_time": "2022-03-18T11:37:31.987Z"
   },
   {
    "duration": 186,
    "start_time": "2022-03-18T11:37:33.189Z"
   },
   {
    "duration": 4,
    "start_time": "2022-03-18T11:45:10.477Z"
   },
   {
    "duration": 3175,
    "start_time": "2022-03-18T11:45:59.229Z"
   },
   {
    "duration": 0,
    "start_time": "2022-03-18T11:46:02.406Z"
   },
   {
    "duration": 3094,
    "start_time": "2022-03-18T11:46:35.032Z"
   },
   {
    "duration": 699,
    "start_time": "2022-03-18T11:47:07.282Z"
   },
   {
    "duration": 888,
    "start_time": "2022-03-18T11:47:07.984Z"
   },
   {
    "duration": 48,
    "start_time": "2022-03-18T11:47:08.874Z"
   },
   {
    "duration": 4,
    "start_time": "2022-03-18T11:47:08.924Z"
   },
   {
    "duration": 806,
    "start_time": "2022-03-18T11:47:08.929Z"
   },
   {
    "duration": 27,
    "start_time": "2022-03-18T11:47:09.737Z"
   },
   {
    "duration": 32,
    "start_time": "2022-03-18T11:47:09.766Z"
   },
   {
    "duration": 31,
    "start_time": "2022-03-18T11:47:09.800Z"
   },
   {
    "duration": 11,
    "start_time": "2022-03-18T11:47:09.832Z"
   },
   {
    "duration": 41,
    "start_time": "2022-03-18T11:47:09.846Z"
   },
   {
    "duration": 9,
    "start_time": "2022-03-18T11:47:09.889Z"
   },
   {
    "duration": 11,
    "start_time": "2022-03-18T11:47:09.900Z"
   },
   {
    "duration": 9,
    "start_time": "2022-03-18T11:47:09.913Z"
   },
   {
    "duration": 13,
    "start_time": "2022-03-18T11:47:09.924Z"
   },
   {
    "duration": 14,
    "start_time": "2022-03-18T11:47:09.938Z"
   },
   {
    "duration": 36,
    "start_time": "2022-03-18T11:47:09.953Z"
   },
   {
    "duration": 26,
    "start_time": "2022-03-18T11:47:09.991Z"
   },
   {
    "duration": 7,
    "start_time": "2022-03-18T11:47:10.019Z"
   },
   {
    "duration": 11,
    "start_time": "2022-03-18T11:47:10.027Z"
   },
   {
    "duration": 8,
    "start_time": "2022-03-18T11:47:10.039Z"
   },
   {
    "duration": 400,
    "start_time": "2022-03-18T11:47:10.048Z"
   },
   {
    "duration": 354,
    "start_time": "2022-03-18T11:47:10.450Z"
   },
   {
    "duration": 445,
    "start_time": "2022-03-18T11:47:10.807Z"
   },
   {
    "duration": 335,
    "start_time": "2022-03-18T11:47:11.254Z"
   },
   {
    "duration": 47,
    "start_time": "2022-03-18T11:47:11.590Z"
   },
   {
    "duration": 5,
    "start_time": "2022-03-18T11:47:11.639Z"
   },
   {
    "duration": 459,
    "start_time": "2022-03-18T11:47:11.645Z"
   },
   {
    "duration": 23,
    "start_time": "2022-03-18T11:47:12.108Z"
   },
   {
    "duration": 12,
    "start_time": "2022-03-18T11:47:12.132Z"
   },
   {
    "duration": 4,
    "start_time": "2022-03-18T11:47:12.145Z"
   },
   {
    "duration": 3,
    "start_time": "2022-03-18T11:47:12.151Z"
   },
   {
    "duration": 4,
    "start_time": "2022-03-18T11:47:12.156Z"
   },
   {
    "duration": 12950,
    "start_time": "2022-03-18T11:47:12.181Z"
   },
   {
    "duration": 4873,
    "start_time": "2022-03-18T11:47:25.132Z"
   },
   {
    "duration": 4421,
    "start_time": "2022-03-18T11:47:30.007Z"
   },
   {
    "duration": 3,
    "start_time": "2022-03-18T11:47:34.430Z"
   },
   {
    "duration": 18612,
    "start_time": "2022-03-18T11:47:34.435Z"
   },
   {
    "duration": 3909,
    "start_time": "2022-03-18T11:47:53.049Z"
   },
   {
    "duration": 13358,
    "start_time": "2022-03-18T11:47:56.959Z"
   },
   {
    "duration": 5,
    "start_time": "2022-03-18T11:48:10.319Z"
   },
   {
    "duration": 2256,
    "start_time": "2022-03-18T11:48:10.326Z"
   },
   {
    "duration": 1502,
    "start_time": "2022-03-18T11:48:12.585Z"
   },
   {
    "duration": 5,
    "start_time": "2022-03-18T11:48:14.090Z"
   },
   {
    "duration": 1385,
    "start_time": "2022-03-18T11:48:14.097Z"
   },
   {
    "duration": 1307,
    "start_time": "2022-03-18T11:48:15.484Z"
   },
   {
    "duration": 6,
    "start_time": "2022-03-18T11:48:16.880Z"
   },
   {
    "duration": 12119,
    "start_time": "2022-03-18T15:14:33.109Z"
   },
   {
    "duration": 11599,
    "start_time": "2022-03-18T15:18:05.397Z"
   },
   {
    "duration": 11327,
    "start_time": "2022-03-18T15:18:46.335Z"
   },
   {
    "duration": 11296,
    "start_time": "2022-03-18T15:19:17.361Z"
   },
   {
    "duration": 11571,
    "start_time": "2022-03-18T15:19:28.659Z"
   },
   {
    "duration": 16504,
    "start_time": "2022-03-18T15:20:26.305Z"
   },
   {
    "duration": 20935,
    "start_time": "2022-03-18T15:20:53.850Z"
   },
   {
    "duration": 17114,
    "start_time": "2022-03-18T15:21:14.787Z"
   },
   {
    "duration": 689,
    "start_time": "2022-03-18T15:21:53.866Z"
   },
   {
    "duration": 796,
    "start_time": "2022-03-18T15:21:54.557Z"
   },
   {
    "duration": 40,
    "start_time": "2022-03-18T15:21:55.355Z"
   },
   {
    "duration": 3,
    "start_time": "2022-03-18T15:21:55.397Z"
   },
   {
    "duration": 718,
    "start_time": "2022-03-18T15:21:55.401Z"
   },
   {
    "duration": 28,
    "start_time": "2022-03-18T15:21:56.120Z"
   },
   {
    "duration": 34,
    "start_time": "2022-03-18T15:21:56.150Z"
   },
   {
    "duration": 24,
    "start_time": "2022-03-18T15:21:56.186Z"
   },
   {
    "duration": 12,
    "start_time": "2022-03-18T15:21:56.212Z"
   },
   {
    "duration": 16,
    "start_time": "2022-03-18T15:21:56.226Z"
   },
   {
    "duration": 8,
    "start_time": "2022-03-18T15:21:56.243Z"
   },
   {
    "duration": 5,
    "start_time": "2022-03-18T15:21:56.280Z"
   },
   {
    "duration": 8,
    "start_time": "2022-03-18T15:21:56.286Z"
   },
   {
    "duration": 15,
    "start_time": "2022-03-18T15:21:56.295Z"
   },
   {
    "duration": 9,
    "start_time": "2022-03-18T15:21:56.312Z"
   },
   {
    "duration": 29,
    "start_time": "2022-03-18T15:21:56.323Z"
   },
   {
    "duration": 43,
    "start_time": "2022-03-18T15:21:56.354Z"
   },
   {
    "duration": 7,
    "start_time": "2022-03-18T15:21:56.398Z"
   },
   {
    "duration": 6,
    "start_time": "2022-03-18T15:21:56.407Z"
   },
   {
    "duration": 4,
    "start_time": "2022-03-18T15:21:56.414Z"
   },
   {
    "duration": 331,
    "start_time": "2022-03-18T15:21:56.419Z"
   },
   {
    "duration": 301,
    "start_time": "2022-03-18T15:21:56.752Z"
   },
   {
    "duration": 365,
    "start_time": "2022-03-18T15:21:57.055Z"
   },
   {
    "duration": 286,
    "start_time": "2022-03-18T15:21:57.422Z"
   },
   {
    "duration": 40,
    "start_time": "2022-03-18T15:21:57.710Z"
   },
   {
    "duration": 5,
    "start_time": "2022-03-18T15:21:57.752Z"
   },
   {
    "duration": 385,
    "start_time": "2022-03-18T15:21:57.781Z"
   },
   {
    "duration": 27,
    "start_time": "2022-03-18T15:21:58.169Z"
   },
   {
    "duration": 11,
    "start_time": "2022-03-18T15:21:58.198Z"
   },
   {
    "duration": 4,
    "start_time": "2022-03-18T15:21:58.210Z"
   },
   {
    "duration": 8,
    "start_time": "2022-03-18T15:21:58.215Z"
   },
   {
    "duration": 6,
    "start_time": "2022-03-18T15:21:58.225Z"
   },
   {
    "duration": 11704,
    "start_time": "2022-03-18T15:21:58.232Z"
   },
   {
    "duration": 11459,
    "start_time": "2022-03-18T15:22:09.937Z"
   },
   {
    "duration": 4,
    "start_time": "2022-03-18T15:22:21.398Z"
   },
   {
    "duration": 16906,
    "start_time": "2022-03-18T15:22:21.404Z"
   },
   {
    "duration": 17193,
    "start_time": "2022-03-18T15:22:38.311Z"
   },
   {
    "duration": 3,
    "start_time": "2022-03-18T15:22:55.506Z"
   },
   {
    "duration": 1679,
    "start_time": "2022-03-18T15:22:55.511Z"
   },
   {
    "duration": 1502,
    "start_time": "2022-03-18T15:22:57.282Z"
   },
   {
    "duration": 4,
    "start_time": "2022-03-18T15:22:58.785Z"
   },
   {
    "duration": 1193,
    "start_time": "2022-03-18T15:22:58.791Z"
   },
   {
    "duration": 1302,
    "start_time": "2022-03-18T15:22:59.986Z"
   },
   {
    "duration": 92,
    "start_time": "2022-03-18T15:23:01.291Z"
   },
   {
    "duration": 5,
    "start_time": "2022-03-18T15:23:28.782Z"
   },
   {
    "duration": 688,
    "start_time": "2022-03-18T15:23:59.156Z"
   },
   {
    "duration": 978,
    "start_time": "2022-03-18T15:23:59.847Z"
   },
   {
    "duration": 42,
    "start_time": "2022-03-18T15:24:00.827Z"
   },
   {
    "duration": 4,
    "start_time": "2022-03-18T15:24:00.871Z"
   },
   {
    "duration": 802,
    "start_time": "2022-03-18T15:24:00.881Z"
   },
   {
    "duration": 32,
    "start_time": "2022-03-18T15:24:01.685Z"
   },
   {
    "duration": 19,
    "start_time": "2022-03-18T15:24:01.719Z"
   },
   {
    "duration": 50,
    "start_time": "2022-03-18T15:24:01.740Z"
   },
   {
    "duration": 12,
    "start_time": "2022-03-18T15:24:01.792Z"
   },
   {
    "duration": 23,
    "start_time": "2022-03-18T15:24:01.805Z"
   },
   {
    "duration": 9,
    "start_time": "2022-03-18T15:24:01.830Z"
   },
   {
    "duration": 5,
    "start_time": "2022-03-18T15:24:01.841Z"
   },
   {
    "duration": 7,
    "start_time": "2022-03-18T15:24:01.847Z"
   },
   {
    "duration": 11,
    "start_time": "2022-03-18T15:24:01.883Z"
   },
   {
    "duration": 14,
    "start_time": "2022-03-18T15:24:01.896Z"
   },
   {
    "duration": 37,
    "start_time": "2022-03-18T15:24:01.912Z"
   },
   {
    "duration": 18,
    "start_time": "2022-03-18T15:24:01.951Z"
   },
   {
    "duration": 5,
    "start_time": "2022-03-18T15:24:01.981Z"
   },
   {
    "duration": 9,
    "start_time": "2022-03-18T15:24:01.988Z"
   },
   {
    "duration": 13,
    "start_time": "2022-03-18T15:24:01.999Z"
   },
   {
    "duration": 514,
    "start_time": "2022-03-18T15:24:02.014Z"
   },
   {
    "duration": 315,
    "start_time": "2022-03-18T15:24:02.530Z"
   },
   {
    "duration": 395,
    "start_time": "2022-03-18T15:24:02.846Z"
   },
   {
    "duration": 414,
    "start_time": "2022-03-18T15:24:03.243Z"
   },
   {
    "duration": 48,
    "start_time": "2022-03-18T15:24:03.659Z"
   },
   {
    "duration": 5,
    "start_time": "2022-03-18T15:24:03.709Z"
   },
   {
    "duration": 409,
    "start_time": "2022-03-18T15:24:03.716Z"
   },
   {
    "duration": 24,
    "start_time": "2022-03-18T15:24:04.127Z"
   },
   {
    "duration": 31,
    "start_time": "2022-03-18T15:24:04.153Z"
   },
   {
    "duration": 4,
    "start_time": "2022-03-18T15:24:04.186Z"
   },
   {
    "duration": 8,
    "start_time": "2022-03-18T15:24:04.191Z"
   },
   {
    "duration": 7,
    "start_time": "2022-03-18T15:24:04.201Z"
   },
   {
    "duration": 16447,
    "start_time": "2022-03-18T15:24:04.210Z"
   },
   {
    "duration": 15852,
    "start_time": "2022-03-18T15:24:20.659Z"
   },
   {
    "duration": 4,
    "start_time": "2022-03-18T15:24:36.513Z"
   },
   {
    "duration": 23047,
    "start_time": "2022-03-18T15:24:36.518Z"
   },
   {
    "duration": 23655,
    "start_time": "2022-03-18T15:24:59.566Z"
   },
   {
    "duration": 4,
    "start_time": "2022-03-18T15:25:23.222Z"
   },
   {
    "duration": 1154,
    "start_time": "2022-03-18T15:25:23.228Z"
   },
   {
    "duration": 1297,
    "start_time": "2022-03-18T15:25:24.384Z"
   },
   {
    "duration": 4,
    "start_time": "2022-03-18T15:25:25.685Z"
   },
   {
    "duration": 1092,
    "start_time": "2022-03-18T15:25:25.690Z"
   },
   {
    "duration": 1201,
    "start_time": "2022-03-18T15:25:26.783Z"
   },
   {
    "duration": 95,
    "start_time": "2022-03-18T15:25:27.987Z"
   },
   {
    "duration": 681,
    "start_time": "2022-03-18T15:28:25.550Z"
   },
   {
    "duration": 816,
    "start_time": "2022-03-18T15:28:26.233Z"
   },
   {
    "duration": 41,
    "start_time": "2022-03-18T15:28:27.051Z"
   },
   {
    "duration": 2,
    "start_time": "2022-03-18T15:28:27.095Z"
   },
   {
    "duration": 745,
    "start_time": "2022-03-18T15:28:27.098Z"
   },
   {
    "duration": 38,
    "start_time": "2022-03-18T15:28:27.844Z"
   },
   {
    "duration": 17,
    "start_time": "2022-03-18T15:28:27.884Z"
   },
   {
    "duration": 26,
    "start_time": "2022-03-18T15:28:27.902Z"
   },
   {
    "duration": 11,
    "start_time": "2022-03-18T15:28:27.930Z"
   },
   {
    "duration": 44,
    "start_time": "2022-03-18T15:28:27.943Z"
   },
   {
    "duration": 9,
    "start_time": "2022-03-18T15:28:27.989Z"
   },
   {
    "duration": 4,
    "start_time": "2022-03-18T15:28:27.999Z"
   },
   {
    "duration": 6,
    "start_time": "2022-03-18T15:28:28.004Z"
   },
   {
    "duration": 11,
    "start_time": "2022-03-18T15:28:28.011Z"
   },
   {
    "duration": 9,
    "start_time": "2022-03-18T15:28:28.023Z"
   },
   {
    "duration": 26,
    "start_time": "2022-03-18T15:28:28.033Z"
   },
   {
    "duration": 32,
    "start_time": "2022-03-18T15:28:28.061Z"
   },
   {
    "duration": 5,
    "start_time": "2022-03-18T15:28:28.095Z"
   },
   {
    "duration": 8,
    "start_time": "2022-03-18T15:28:28.101Z"
   },
   {
    "duration": 5,
    "start_time": "2022-03-18T15:28:28.111Z"
   },
   {
    "duration": 341,
    "start_time": "2022-03-18T15:28:28.118Z"
   },
   {
    "duration": 298,
    "start_time": "2022-03-18T15:28:28.461Z"
   },
   {
    "duration": 376,
    "start_time": "2022-03-18T15:28:28.761Z"
   },
   {
    "duration": 299,
    "start_time": "2022-03-18T15:28:29.139Z"
   },
   {
    "duration": 47,
    "start_time": "2022-03-18T15:28:29.440Z"
   },
   {
    "duration": 5,
    "start_time": "2022-03-18T15:28:29.489Z"
   },
   {
    "duration": 391,
    "start_time": "2022-03-18T15:28:29.496Z"
   },
   {
    "duration": 20,
    "start_time": "2022-03-18T15:28:29.891Z"
   },
   {
    "duration": 10,
    "start_time": "2022-03-18T15:28:29.913Z"
   },
   {
    "duration": 3,
    "start_time": "2022-03-18T15:28:29.924Z"
   },
   {
    "duration": 5,
    "start_time": "2022-03-18T15:28:29.929Z"
   },
   {
    "duration": 6,
    "start_time": "2022-03-18T15:28:29.935Z"
   },
   {
    "duration": 11823,
    "start_time": "2022-03-18T15:28:29.942Z"
   },
   {
    "duration": 11936,
    "start_time": "2022-03-18T15:28:41.767Z"
   },
   {
    "duration": 11,
    "start_time": "2022-03-18T15:28:53.705Z"
   },
   {
    "duration": 0,
    "start_time": "2022-03-18T15:28:53.717Z"
   },
   {
    "duration": 0,
    "start_time": "2022-03-18T15:28:53.719Z"
   },
   {
    "duration": 0,
    "start_time": "2022-03-18T15:28:53.720Z"
   },
   {
    "duration": 0,
    "start_time": "2022-03-18T15:28:53.722Z"
   },
   {
    "duration": 0,
    "start_time": "2022-03-18T15:28:53.723Z"
   },
   {
    "duration": 0,
    "start_time": "2022-03-18T15:28:53.724Z"
   },
   {
    "duration": 11586,
    "start_time": "2022-03-18T15:29:21.497Z"
   },
   {
    "duration": 641,
    "start_time": "2022-03-18T15:29:56.896Z"
   },
   {
    "duration": 831,
    "start_time": "2022-03-18T15:29:57.539Z"
   },
   {
    "duration": 51,
    "start_time": "2022-03-18T15:29:58.371Z"
   },
   {
    "duration": 2,
    "start_time": "2022-03-18T15:29:58.424Z"
   },
   {
    "duration": 825,
    "start_time": "2022-03-18T15:29:58.429Z"
   },
   {
    "duration": 54,
    "start_time": "2022-03-18T15:29:59.256Z"
   },
   {
    "duration": 19,
    "start_time": "2022-03-18T15:29:59.312Z"
   },
   {
    "duration": 31,
    "start_time": "2022-03-18T15:29:59.332Z"
   },
   {
    "duration": 33,
    "start_time": "2022-03-18T15:29:59.365Z"
   },
   {
    "duration": 17,
    "start_time": "2022-03-18T15:29:59.400Z"
   },
   {
    "duration": 8,
    "start_time": "2022-03-18T15:29:59.418Z"
   },
   {
    "duration": 5,
    "start_time": "2022-03-18T15:29:59.427Z"
   },
   {
    "duration": 8,
    "start_time": "2022-03-18T15:29:59.433Z"
   },
   {
    "duration": 10,
    "start_time": "2022-03-18T15:29:59.444Z"
   },
   {
    "duration": 39,
    "start_time": "2022-03-18T15:29:59.456Z"
   },
   {
    "duration": 29,
    "start_time": "2022-03-18T15:29:59.498Z"
   },
   {
    "duration": 22,
    "start_time": "2022-03-18T15:29:59.529Z"
   },
   {
    "duration": 5,
    "start_time": "2022-03-18T15:29:59.553Z"
   },
   {
    "duration": 24,
    "start_time": "2022-03-18T15:29:59.560Z"
   },
   {
    "duration": 5,
    "start_time": "2022-03-18T15:29:59.587Z"
   },
   {
    "duration": 358,
    "start_time": "2022-03-18T15:29:59.594Z"
   },
   {
    "duration": 327,
    "start_time": "2022-03-18T15:29:59.954Z"
   },
   {
    "duration": 420,
    "start_time": "2022-03-18T15:30:00.283Z"
   },
   {
    "duration": 306,
    "start_time": "2022-03-18T15:30:00.705Z"
   },
   {
    "duration": 40,
    "start_time": "2022-03-18T15:30:01.013Z"
   },
   {
    "duration": 5,
    "start_time": "2022-03-18T15:30:01.055Z"
   },
   {
    "duration": 413,
    "start_time": "2022-03-18T15:30:01.086Z"
   },
   {
    "duration": 25,
    "start_time": "2022-03-18T15:30:01.501Z"
   },
   {
    "duration": 13,
    "start_time": "2022-03-18T15:30:01.529Z"
   },
   {
    "duration": 33,
    "start_time": "2022-03-18T15:30:01.544Z"
   },
   {
    "duration": 10,
    "start_time": "2022-03-18T15:30:01.579Z"
   },
   {
    "duration": 22,
    "start_time": "2022-03-18T15:30:01.592Z"
   },
   {
    "duration": 16717,
    "start_time": "2022-03-18T15:30:01.616Z"
   },
   {
    "duration": 16510,
    "start_time": "2022-03-18T15:30:18.335Z"
   },
   {
    "duration": 5,
    "start_time": "2022-03-18T15:30:34.847Z"
   },
   {
    "duration": 16779,
    "start_time": "2022-03-18T15:30:34.854Z"
   },
   {
    "duration": 17226,
    "start_time": "2022-03-18T15:30:51.635Z"
   },
   {
    "duration": 5,
    "start_time": "2022-03-18T15:31:08.863Z"
   },
   {
    "duration": 1415,
    "start_time": "2022-03-18T15:31:08.869Z"
   },
   {
    "duration": 1304,
    "start_time": "2022-03-18T15:31:10.287Z"
   },
   {
    "duration": 91,
    "start_time": "2022-03-18T15:31:11.596Z"
   },
   {
    "duration": 3373,
    "start_time": "2022-03-18T15:34:05.058Z"
   },
   {
    "duration": 3311,
    "start_time": "2022-03-18T15:34:15.355Z"
   },
   {
    "duration": 3319,
    "start_time": "2022-03-18T15:34:47.374Z"
   },
   {
    "duration": 3478,
    "start_time": "2022-03-18T15:35:53.552Z"
   },
   {
    "duration": 4,
    "start_time": "2022-03-18T15:36:06.781Z"
   },
   {
    "duration": 3453,
    "start_time": "2022-03-18T15:41:17.535Z"
   },
   {
    "duration": 3363,
    "start_time": "2022-03-18T15:41:26.011Z"
   },
   {
    "duration": 3315,
    "start_time": "2022-03-18T15:44:41.415Z"
   },
   {
    "duration": 3740,
    "start_time": "2022-03-18T15:44:59.742Z"
   },
   {
    "duration": 3384,
    "start_time": "2022-03-18T15:45:09.312Z"
   },
   {
    "duration": 3475,
    "start_time": "2022-03-18T15:45:50.906Z"
   },
   {
    "duration": 3472,
    "start_time": "2022-03-18T15:46:00.785Z"
   },
   {
    "duration": 3269,
    "start_time": "2022-03-18T15:48:40.030Z"
   },
   {
    "duration": 3572,
    "start_time": "2022-03-18T15:48:43.301Z"
   },
   {
    "duration": 4,
    "start_time": "2022-03-18T15:48:49.038Z"
   },
   {
    "duration": 679,
    "start_time": "2022-03-18T15:48:54.148Z"
   },
   {
    "duration": 959,
    "start_time": "2022-03-18T15:48:54.829Z"
   },
   {
    "duration": 51,
    "start_time": "2022-03-18T15:48:55.790Z"
   },
   {
    "duration": 3,
    "start_time": "2022-03-18T15:48:55.843Z"
   },
   {
    "duration": 894,
    "start_time": "2022-03-18T15:48:55.848Z"
   },
   {
    "duration": 39,
    "start_time": "2022-03-18T15:48:56.743Z"
   },
   {
    "duration": 17,
    "start_time": "2022-03-18T15:48:56.783Z"
   },
   {
    "duration": 24,
    "start_time": "2022-03-18T15:48:56.802Z"
   },
   {
    "duration": 12,
    "start_time": "2022-03-18T15:48:56.828Z"
   },
   {
    "duration": 45,
    "start_time": "2022-03-18T15:48:56.843Z"
   },
   {
    "duration": 7,
    "start_time": "2022-03-18T15:48:56.890Z"
   },
   {
    "duration": 4,
    "start_time": "2022-03-18T15:48:56.899Z"
   },
   {
    "duration": 6,
    "start_time": "2022-03-18T15:48:56.905Z"
   },
   {
    "duration": 11,
    "start_time": "2022-03-18T15:48:56.913Z"
   },
   {
    "duration": 8,
    "start_time": "2022-03-18T15:48:56.925Z"
   },
   {
    "duration": 46,
    "start_time": "2022-03-18T15:48:56.935Z"
   },
   {
    "duration": 18,
    "start_time": "2022-03-18T15:48:56.983Z"
   },
   {
    "duration": 5,
    "start_time": "2022-03-18T15:48:57.002Z"
   },
   {
    "duration": 10,
    "start_time": "2022-03-18T15:48:57.009Z"
   },
   {
    "duration": 5,
    "start_time": "2022-03-18T15:48:57.021Z"
   },
   {
    "duration": 471,
    "start_time": "2022-03-18T15:48:57.028Z"
   },
   {
    "duration": 432,
    "start_time": "2022-03-18T15:48:57.501Z"
   },
   {
    "duration": 389,
    "start_time": "2022-03-18T15:48:57.934Z"
   },
   {
    "duration": 308,
    "start_time": "2022-03-18T15:48:58.324Z"
   },
   {
    "duration": 53,
    "start_time": "2022-03-18T15:48:58.633Z"
   },
   {
    "duration": 6,
    "start_time": "2022-03-18T15:48:58.688Z"
   },
   {
    "duration": 389,
    "start_time": "2022-03-18T15:48:58.695Z"
   },
   {
    "duration": 20,
    "start_time": "2022-03-18T15:48:59.087Z"
   },
   {
    "duration": 10,
    "start_time": "2022-03-18T15:48:59.109Z"
   },
   {
    "duration": 2,
    "start_time": "2022-03-18T15:48:59.121Z"
   },
   {
    "duration": 5,
    "start_time": "2022-03-18T15:48:59.125Z"
   },
   {
    "duration": 4,
    "start_time": "2022-03-18T15:48:59.131Z"
   },
   {
    "duration": 12166,
    "start_time": "2022-03-18T15:48:59.137Z"
   },
   {
    "duration": 11236,
    "start_time": "2022-03-18T15:49:11.304Z"
   },
   {
    "duration": 3,
    "start_time": "2022-03-18T15:49:22.542Z"
   },
   {
    "duration": 16474,
    "start_time": "2022-03-18T15:49:22.547Z"
   },
   {
    "duration": 16806,
    "start_time": "2022-03-18T15:49:39.023Z"
   },
   {
    "duration": 4,
    "start_time": "2022-03-18T15:49:55.831Z"
   },
   {
    "duration": 1446,
    "start_time": "2022-03-18T15:49:55.836Z"
   },
   {
    "duration": 1601,
    "start_time": "2022-03-18T15:49:57.284Z"
   },
   {
    "duration": 7,
    "start_time": "2022-03-18T15:49:58.887Z"
   },
   {
    "duration": 3485,
    "start_time": "2022-03-18T15:49:58.896Z"
   },
   {
    "duration": 3523,
    "start_time": "2022-03-18T15:50:02.383Z"
   },
   {
    "duration": 5,
    "start_time": "2022-03-18T15:50:05.907Z"
   },
   {
    "duration": 153,
    "start_time": "2022-03-18T15:52:58.556Z"
   },
   {
    "duration": 160,
    "start_time": "2022-03-18T15:55:13.027Z"
   },
   {
    "duration": 231,
    "start_time": "2022-03-18T15:55:17.673Z"
   },
   {
    "duration": 254,
    "start_time": "2022-03-18T15:55:32.758Z"
   },
   {
    "duration": 93,
    "start_time": "2022-03-18T15:56:18.897Z"
   },
   {
    "duration": 9,
    "start_time": "2022-03-18T15:56:29.773Z"
   },
   {
    "duration": 10,
    "start_time": "2022-03-18T15:56:38.776Z"
   },
   {
    "duration": 146,
    "start_time": "2022-03-18T15:56:53.137Z"
   },
   {
    "duration": 232,
    "start_time": "2022-03-18T15:57:02.952Z"
   },
   {
    "duration": 140,
    "start_time": "2022-03-18T15:57:17.973Z"
   },
   {
    "duration": 136,
    "start_time": "2022-03-18T15:57:21.890Z"
   },
   {
    "duration": 258,
    "start_time": "2022-03-18T15:57:38.182Z"
   },
   {
    "duration": 249,
    "start_time": "2022-03-18T15:58:08.016Z"
   },
   {
    "duration": 250,
    "start_time": "2022-03-18T15:58:24.614Z"
   },
   {
    "duration": 248,
    "start_time": "2022-03-18T15:58:32.018Z"
   },
   {
    "duration": 343,
    "start_time": "2022-03-18T15:58:35.458Z"
   },
   {
    "duration": 360,
    "start_time": "2022-03-18T15:58:49.814Z"
   },
   {
    "duration": 11,
    "start_time": "2022-03-18T15:58:57.651Z"
   },
   {
    "duration": 261,
    "start_time": "2022-03-18T15:59:06.129Z"
   },
   {
    "duration": 257,
    "start_time": "2022-03-18T15:59:22.902Z"
   },
   {
    "duration": 8,
    "start_time": "2022-03-18T16:02:30.008Z"
   },
   {
    "duration": 5,
    "start_time": "2022-03-18T16:02:34.527Z"
   },
   {
    "duration": 480,
    "start_time": "2022-03-18T16:02:36.462Z"
   },
   {
    "duration": 4,
    "start_time": "2022-03-18T16:02:57.641Z"
   },
   {
    "duration": 411,
    "start_time": "2022-03-18T16:02:59.013Z"
   },
   {
    "duration": 5,
    "start_time": "2022-03-18T16:03:15.418Z"
   },
   {
    "duration": 382,
    "start_time": "2022-03-18T16:03:16.304Z"
   },
   {
    "duration": 370,
    "start_time": "2022-03-18T16:03:34.535Z"
   },
   {
    "duration": 560,
    "start_time": "2022-03-18T16:03:43.005Z"
   },
   {
    "duration": 414,
    "start_time": "2022-03-18T16:04:01.397Z"
   },
   {
    "duration": 374,
    "start_time": "2022-03-18T16:04:08.239Z"
   },
   {
    "duration": 696,
    "start_time": "2022-03-18T16:04:28.637Z"
   },
   {
    "duration": 805,
    "start_time": "2022-03-18T16:04:29.335Z"
   },
   {
    "duration": 39,
    "start_time": "2022-03-18T16:04:30.142Z"
   },
   {
    "duration": 2,
    "start_time": "2022-03-18T16:04:30.183Z"
   },
   {
    "duration": 769,
    "start_time": "2022-03-18T16:04:30.186Z"
   },
   {
    "duration": 36,
    "start_time": "2022-03-18T16:04:30.957Z"
   },
   {
    "duration": 18,
    "start_time": "2022-03-18T16:04:30.995Z"
   },
   {
    "duration": 25,
    "start_time": "2022-03-18T16:04:31.014Z"
   },
   {
    "duration": 12,
    "start_time": "2022-03-18T16:04:31.040Z"
   },
   {
    "duration": 17,
    "start_time": "2022-03-18T16:04:31.080Z"
   },
   {
    "duration": 7,
    "start_time": "2022-03-18T16:04:31.100Z"
   },
   {
    "duration": 7,
    "start_time": "2022-03-18T16:04:31.109Z"
   },
   {
    "duration": 13,
    "start_time": "2022-03-18T16:04:31.118Z"
   },
   {
    "duration": 19,
    "start_time": "2022-03-18T16:04:31.132Z"
   },
   {
    "duration": 17,
    "start_time": "2022-03-18T16:04:31.153Z"
   },
   {
    "duration": 30,
    "start_time": "2022-03-18T16:04:31.172Z"
   },
   {
    "duration": 17,
    "start_time": "2022-03-18T16:04:31.204Z"
   },
   {
    "duration": 5,
    "start_time": "2022-03-18T16:04:31.222Z"
   },
   {
    "duration": 16,
    "start_time": "2022-03-18T16:04:31.228Z"
   },
   {
    "duration": 5,
    "start_time": "2022-03-18T16:04:31.245Z"
   },
   {
    "duration": 409,
    "start_time": "2022-03-18T16:04:31.251Z"
   },
   {
    "duration": 468,
    "start_time": "2022-03-18T16:04:31.662Z"
   },
   {
    "duration": 388,
    "start_time": "2022-03-18T16:04:32.132Z"
   },
   {
    "duration": 280,
    "start_time": "2022-03-18T16:04:32.522Z"
   },
   {
    "duration": 37,
    "start_time": "2022-03-18T16:04:32.804Z"
   },
   {
    "duration": 5,
    "start_time": "2022-03-18T16:04:32.842Z"
   },
   {
    "duration": 397,
    "start_time": "2022-03-18T16:04:32.848Z"
   },
   {
    "duration": 21,
    "start_time": "2022-03-18T16:04:33.249Z"
   },
   {
    "duration": 12,
    "start_time": "2022-03-18T16:04:33.281Z"
   },
   {
    "duration": 4,
    "start_time": "2022-03-18T16:04:33.294Z"
   },
   {
    "duration": 5,
    "start_time": "2022-03-18T16:04:33.299Z"
   },
   {
    "duration": 6,
    "start_time": "2022-03-18T16:04:33.305Z"
   },
   {
    "duration": 11661,
    "start_time": "2022-03-18T16:04:33.313Z"
   },
   {
    "duration": 11304,
    "start_time": "2022-03-18T16:04:44.980Z"
   },
   {
    "duration": 4,
    "start_time": "2022-03-18T16:04:56.285Z"
   },
   {
    "duration": 18049,
    "start_time": "2022-03-18T16:04:56.291Z"
   },
   {
    "duration": 18541,
    "start_time": "2022-03-18T16:05:14.342Z"
   },
   {
    "duration": 5,
    "start_time": "2022-03-18T16:05:32.885Z"
   },
   {
    "duration": 1391,
    "start_time": "2022-03-18T16:05:32.891Z"
   },
   {
    "duration": 1406,
    "start_time": "2022-03-18T16:05:34.284Z"
   },
   {
    "duration": 5,
    "start_time": "2022-03-18T16:05:35.783Z"
   },
   {
    "duration": 3698,
    "start_time": "2022-03-18T16:05:35.790Z"
   },
   {
    "duration": 3582,
    "start_time": "2022-03-18T16:05:39.490Z"
   },
   {
    "duration": 8,
    "start_time": "2022-03-18T16:05:43.074Z"
   },
   {
    "duration": 829,
    "start_time": "2022-03-19T09:36:23.103Z"
   },
   {
    "duration": 701,
    "start_time": "2022-03-19T09:36:23.934Z"
   },
   {
    "duration": 47,
    "start_time": "2022-03-19T09:36:24.637Z"
   },
   {
    "duration": 3,
    "start_time": "2022-03-19T09:36:24.686Z"
   },
   {
    "duration": 801,
    "start_time": "2022-03-19T09:36:24.691Z"
   },
   {
    "duration": 32,
    "start_time": "2022-03-19T09:36:25.494Z"
   },
   {
    "duration": 22,
    "start_time": "2022-03-19T09:36:25.528Z"
   },
   {
    "duration": 25,
    "start_time": "2022-03-19T09:36:25.552Z"
   },
   {
    "duration": 12,
    "start_time": "2022-03-19T09:36:25.579Z"
   },
   {
    "duration": 49,
    "start_time": "2022-03-19T09:36:25.594Z"
   },
   {
    "duration": 7,
    "start_time": "2022-03-19T09:36:25.645Z"
   },
   {
    "duration": 4,
    "start_time": "2022-03-19T09:36:25.654Z"
   },
   {
    "duration": 7,
    "start_time": "2022-03-19T09:36:25.660Z"
   },
   {
    "duration": 19,
    "start_time": "2022-03-19T09:36:25.668Z"
   },
   {
    "duration": 10,
    "start_time": "2022-03-19T09:36:25.689Z"
   },
   {
    "duration": 52,
    "start_time": "2022-03-19T09:36:25.700Z"
   },
   {
    "duration": 19,
    "start_time": "2022-03-19T09:36:25.754Z"
   },
   {
    "duration": 10,
    "start_time": "2022-03-19T09:36:25.775Z"
   },
   {
    "duration": 21,
    "start_time": "2022-03-19T09:36:25.787Z"
   },
   {
    "duration": 5,
    "start_time": "2022-03-19T09:36:25.809Z"
   },
   {
    "duration": 476,
    "start_time": "2022-03-19T09:36:25.816Z"
   },
   {
    "duration": 551,
    "start_time": "2022-03-19T09:36:26.294Z"
   },
   {
    "duration": 453,
    "start_time": "2022-03-19T09:36:26.847Z"
   },
   {
    "duration": 335,
    "start_time": "2022-03-19T09:36:27.302Z"
   },
   {
    "duration": 44,
    "start_time": "2022-03-19T09:36:27.640Z"
   },
   {
    "duration": 6,
    "start_time": "2022-03-19T09:36:27.686Z"
   },
   {
    "duration": 465,
    "start_time": "2022-03-19T09:36:27.693Z"
   },
   {
    "duration": 28,
    "start_time": "2022-03-19T09:36:28.162Z"
   },
   {
    "duration": 13,
    "start_time": "2022-03-19T09:36:28.192Z"
   },
   {
    "duration": 3,
    "start_time": "2022-03-19T09:36:28.207Z"
   },
   {
    "duration": 27,
    "start_time": "2022-03-19T09:36:28.212Z"
   },
   {
    "duration": 10,
    "start_time": "2022-03-19T09:36:28.241Z"
   },
   {
    "duration": 12009,
    "start_time": "2022-03-19T09:36:28.253Z"
   },
   {
    "duration": 11695,
    "start_time": "2022-03-19T09:36:40.263Z"
   },
   {
    "duration": 4,
    "start_time": "2022-03-19T09:36:51.960Z"
   },
   {
    "duration": 17334,
    "start_time": "2022-03-19T09:36:51.966Z"
   },
   {
    "duration": 17597,
    "start_time": "2022-03-19T09:37:09.302Z"
   },
   {
    "duration": 5,
    "start_time": "2022-03-19T09:37:26.900Z"
   },
   {
    "duration": 1241,
    "start_time": "2022-03-19T09:37:26.906Z"
   },
   {
    "duration": 1204,
    "start_time": "2022-03-19T09:37:28.239Z"
   },
   {
    "duration": 95,
    "start_time": "2022-03-19T09:37:29.446Z"
   },
   {
    "duration": 3529,
    "start_time": "2022-03-19T09:37:29.543Z"
   },
   {
    "duration": 3535,
    "start_time": "2022-03-19T09:37:33.074Z"
   },
   {
    "duration": 5,
    "start_time": "2022-03-19T09:37:36.611Z"
   },
   {
    "duration": 109,
    "start_time": "2022-03-19T09:38:45.757Z"
   },
   {
    "duration": 9,
    "start_time": "2022-03-19T09:38:54.331Z"
   },
   {
    "duration": 9,
    "start_time": "2022-03-19T09:39:02.425Z"
   },
   {
    "duration": 6,
    "start_time": "2022-03-19T09:39:18.317Z"
   },
   {
    "duration": 7,
    "start_time": "2022-03-19T09:39:25.319Z"
   },
   {
    "duration": 5,
    "start_time": "2022-03-19T09:39:43.675Z"
   },
   {
    "duration": 4,
    "start_time": "2022-03-19T09:39:51.972Z"
   },
   {
    "duration": 688,
    "start_time": "2022-03-19T09:40:58.729Z"
   },
   {
    "duration": 717,
    "start_time": "2022-03-19T09:40:59.419Z"
   },
   {
    "duration": 46,
    "start_time": "2022-03-19T09:41:00.137Z"
   },
   {
    "duration": 4,
    "start_time": "2022-03-19T09:41:00.185Z"
   },
   {
    "duration": 821,
    "start_time": "2022-03-19T09:41:00.192Z"
   },
   {
    "duration": 40,
    "start_time": "2022-03-19T09:41:01.015Z"
   },
   {
    "duration": 21,
    "start_time": "2022-03-19T09:41:01.057Z"
   },
   {
    "duration": 29,
    "start_time": "2022-03-19T09:41:01.080Z"
   },
   {
    "duration": 41,
    "start_time": "2022-03-19T09:41:01.111Z"
   },
   {
    "duration": 21,
    "start_time": "2022-03-19T09:41:01.154Z"
   },
   {
    "duration": 7,
    "start_time": "2022-03-19T09:41:01.178Z"
   },
   {
    "duration": 16,
    "start_time": "2022-03-19T09:41:01.187Z"
   },
   {
    "duration": 35,
    "start_time": "2022-03-19T09:41:01.206Z"
   },
   {
    "duration": 24,
    "start_time": "2022-03-19T09:41:01.245Z"
   },
   {
    "duration": 18,
    "start_time": "2022-03-19T09:41:01.271Z"
   },
   {
    "duration": 34,
    "start_time": "2022-03-19T09:41:01.291Z"
   },
   {
    "duration": 21,
    "start_time": "2022-03-19T09:41:01.327Z"
   },
   {
    "duration": 5,
    "start_time": "2022-03-19T09:41:01.350Z"
   },
   {
    "duration": 14,
    "start_time": "2022-03-19T09:41:01.357Z"
   },
   {
    "duration": 11,
    "start_time": "2022-03-19T09:41:01.373Z"
   },
   {
    "duration": 506,
    "start_time": "2022-03-19T09:41:01.385Z"
   },
   {
    "duration": 576,
    "start_time": "2022-03-19T09:41:01.893Z"
   },
   {
    "duration": 483,
    "start_time": "2022-03-19T09:41:02.471Z"
   },
   {
    "duration": 333,
    "start_time": "2022-03-19T09:41:02.956Z"
   },
   {
    "duration": 52,
    "start_time": "2022-03-19T09:41:03.291Z"
   },
   {
    "duration": 5,
    "start_time": "2022-03-19T09:41:03.345Z"
   },
   {
    "duration": 481,
    "start_time": "2022-03-19T09:41:03.351Z"
   },
   {
    "duration": 29,
    "start_time": "2022-03-19T09:41:03.834Z"
   },
   {
    "duration": 14,
    "start_time": "2022-03-19T09:41:03.865Z"
   },
   {
    "duration": 4,
    "start_time": "2022-03-19T09:41:03.880Z"
   },
   {
    "duration": 13,
    "start_time": "2022-03-19T09:41:03.885Z"
   },
   {
    "duration": 7,
    "start_time": "2022-03-19T09:41:03.899Z"
   },
   {
    "duration": 12012,
    "start_time": "2022-03-19T09:41:03.907Z"
   },
   {
    "duration": 11681,
    "start_time": "2022-03-19T09:41:15.921Z"
   },
   {
    "duration": 4,
    "start_time": "2022-03-19T09:41:27.604Z"
   },
   {
    "duration": 17052,
    "start_time": "2022-03-19T09:41:27.610Z"
   },
   {
    "duration": 17632,
    "start_time": "2022-03-19T09:41:44.664Z"
   },
   {
    "duration": 5,
    "start_time": "2022-03-19T09:42:02.298Z"
   },
   {
    "duration": 1433,
    "start_time": "2022-03-19T09:42:02.305Z"
   },
   {
    "duration": 1401,
    "start_time": "2022-03-19T09:42:03.740Z"
   },
   {
    "duration": 92,
    "start_time": "2022-03-19T09:42:05.147Z"
   },
   {
    "duration": 3567,
    "start_time": "2022-03-19T09:42:05.241Z"
   },
   {
    "duration": 3547,
    "start_time": "2022-03-19T09:42:08.810Z"
   },
   {
    "duration": 7,
    "start_time": "2022-03-19T09:42:12.359Z"
   },
   {
    "duration": 10,
    "start_time": "2022-03-19T09:42:12.367Z"
   },
   {
    "duration": 10,
    "start_time": "2022-03-19T09:42:12.379Z"
   },
   {
    "duration": 81,
    "start_time": "2022-03-19T09:46:58.703Z"
   },
   {
    "duration": 79,
    "start_time": "2022-03-19T09:47:17.338Z"
   },
   {
    "duration": 6,
    "start_time": "2022-03-19T09:47:35.580Z"
   },
   {
    "duration": 6,
    "start_time": "2022-03-19T09:47:50.913Z"
   },
   {
    "duration": 6,
    "start_time": "2022-03-19T09:47:51.185Z"
   },
   {
    "duration": 6,
    "start_time": "2022-03-19T09:47:58.986Z"
   },
   {
    "duration": 6,
    "start_time": "2022-03-19T09:48:00.255Z"
   },
   {
    "duration": 5,
    "start_time": "2022-03-19T09:48:06.626Z"
   },
   {
    "duration": 4,
    "start_time": "2022-03-19T09:48:16.398Z"
   },
   {
    "duration": 607,
    "start_time": "2022-03-19T09:50:07.283Z"
   },
   {
    "duration": 729,
    "start_time": "2022-03-19T09:50:07.891Z"
   },
   {
    "duration": 43,
    "start_time": "2022-03-19T09:50:08.622Z"
   },
   {
    "duration": 3,
    "start_time": "2022-03-19T09:50:08.668Z"
   },
   {
    "duration": 768,
    "start_time": "2022-03-19T09:50:08.672Z"
   },
   {
    "duration": 32,
    "start_time": "2022-03-19T09:50:09.442Z"
   },
   {
    "duration": 17,
    "start_time": "2022-03-19T09:50:09.476Z"
   },
   {
    "duration": 46,
    "start_time": "2022-03-19T09:50:09.495Z"
   },
   {
    "duration": 12,
    "start_time": "2022-03-19T09:50:09.543Z"
   },
   {
    "duration": 19,
    "start_time": "2022-03-19T09:50:09.558Z"
   },
   {
    "duration": 6,
    "start_time": "2022-03-19T09:50:09.578Z"
   },
   {
    "duration": 6,
    "start_time": "2022-03-19T09:50:09.586Z"
   },
   {
    "duration": 8,
    "start_time": "2022-03-19T09:50:09.594Z"
   },
   {
    "duration": 42,
    "start_time": "2022-03-19T09:50:09.604Z"
   },
   {
    "duration": 13,
    "start_time": "2022-03-19T09:50:09.648Z"
   },
   {
    "duration": 34,
    "start_time": "2022-03-19T09:50:09.662Z"
   },
   {
    "duration": 18,
    "start_time": "2022-03-19T09:50:09.698Z"
   },
   {
    "duration": 23,
    "start_time": "2022-03-19T09:50:09.717Z"
   },
   {
    "duration": 16,
    "start_time": "2022-03-19T09:50:09.742Z"
   },
   {
    "duration": 6,
    "start_time": "2022-03-19T09:50:09.761Z"
   },
   {
    "duration": 489,
    "start_time": "2022-03-19T09:50:09.768Z"
   },
   {
    "duration": 538,
    "start_time": "2022-03-19T09:50:10.260Z"
   },
   {
    "duration": 456,
    "start_time": "2022-03-19T09:50:10.800Z"
   },
   {
    "duration": 326,
    "start_time": "2022-03-19T09:50:11.258Z"
   },
   {
    "duration": 41,
    "start_time": "2022-03-19T09:50:11.586Z"
   },
   {
    "duration": 14,
    "start_time": "2022-03-19T09:50:11.628Z"
   },
   {
    "duration": 446,
    "start_time": "2022-03-19T09:50:11.644Z"
   },
   {
    "duration": 24,
    "start_time": "2022-03-19T09:50:12.093Z"
   },
   {
    "duration": 30,
    "start_time": "2022-03-19T09:50:12.119Z"
   },
   {
    "duration": 3,
    "start_time": "2022-03-19T09:50:12.151Z"
   },
   {
    "duration": 5,
    "start_time": "2022-03-19T09:50:12.156Z"
   },
   {
    "duration": 6,
    "start_time": "2022-03-19T09:50:12.163Z"
   },
   {
    "duration": 11528,
    "start_time": "2022-03-19T09:50:12.171Z"
   },
   {
    "duration": 11488,
    "start_time": "2022-03-19T09:50:23.700Z"
   },
   {
    "duration": 4,
    "start_time": "2022-03-19T09:50:35.190Z"
   },
   {
    "duration": 16800,
    "start_time": "2022-03-19T09:50:35.196Z"
   },
   {
    "duration": 17461,
    "start_time": "2022-03-19T09:50:51.998Z"
   },
   {
    "duration": 4,
    "start_time": "2022-03-19T09:51:09.461Z"
   },
   {
    "duration": 1372,
    "start_time": "2022-03-19T09:51:09.467Z"
   },
   {
    "duration": 1501,
    "start_time": "2022-03-19T09:51:10.841Z"
   },
   {
    "duration": 6,
    "start_time": "2022-03-19T09:51:12.344Z"
   },
   {
    "duration": 250,
    "start_time": "2022-03-19T09:51:12.352Z"
   },
   {
    "duration": 93,
    "start_time": "2022-03-19T09:51:12.604Z"
   },
   {
    "duration": 6,
    "start_time": "2022-03-19T09:51:12.698Z"
   },
   {
    "duration": 10,
    "start_time": "2022-03-19T09:51:12.706Z"
   },
   {
    "duration": 20,
    "start_time": "2022-03-19T09:51:12.718Z"
   }
  ],
  "kernelspec": {
   "display_name": "Python 3 (ipykernel)",
   "language": "python",
   "name": "python3"
  },
  "language_info": {
   "codemirror_mode": {
    "name": "ipython",
    "version": 3
   },
   "file_extension": ".py",
   "mimetype": "text/x-python",
   "name": "python",
   "nbconvert_exporter": "python",
   "pygments_lexer": "ipython3",
   "version": "3.9.5"
  },
  "toc": {
   "base_numbering": 1,
   "nav_menu": {},
   "number_sections": true,
   "sideBar": true,
   "skip_h1_title": true,
   "title_cell": "Содержание",
   "title_sidebar": "Contents",
   "toc_cell": true,
   "toc_position": {},
   "toc_section_display": true,
   "toc_window_display": true
  }
 },
 "nbformat": 4,
 "nbformat_minor": 2
}
